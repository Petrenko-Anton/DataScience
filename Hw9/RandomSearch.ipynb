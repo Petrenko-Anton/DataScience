{
 "cells": [
  {
   "cell_type": "code",
   "execution_count": null,
   "metadata": {},
   "outputs": [],
   "source": [
    "import tensorflow as tf\n",
    "from tensorflow import keras\n",
    "from tensorflow.keras import layers\n",
    "from tensorflow.keras import regularizers\n",
    "from keras.utils import plot_model\n",
    "import numpy as np\n",
    "import matplotlib.pyplot as plt\n",
    "\n",
    "from IPython.display import clear_output, display, Math\n"
   ]
  },
  {
   "cell_type": "code",
   "execution_count": null,
   "metadata": {},
   "outputs": [],
   "source": [
    "from keras.datasets import fashion_mnist\n"
   ]
  },
  {
   "cell_type": "markdown",
   "metadata": {},
   "source": [
    "# Про dataset `fassion-mnist`\n",
    "\n",
    "Fashion-MNIST — це набір зображень статей Zalando, що складається з навчального набору з 60 000 прикладів і тестового набору з 10 000 прикладів. Кожен приклад являє собою зображення в градаціях сірого 28x28, пов'язане з міткою з 10 класів:\n",
    "\n",
    "| Мітка | Опис        | Переклад         |\n",
    "|-------|-------------|------------------|\n",
    "| 0     | T-shirt/top | Футболка/сорочка |\n",
    "| 1     | Trouser     | Штани            |\n",
    "| 2     | Pullover    | Светр            |\n",
    "| 3     | Dress       | Плаття           |\n",
    "| 4     | Coat        | Пальто           |\n",
    "| 5     | Sandal      | Сандалі          |\n",
    "| 6     | Shirt       | Сорочка          |\n",
    "| 7     | Sneaker     | Кросовки         |\n",
    "| 8     | Bag         | Сумка            |\n",
    "| 9     | Ankle boot  | Чоботи           |"
   ]
  },
  {
   "cell_type": "markdown",
   "metadata": {},
   "source": [
    "# Константи"
   ]
  },
  {
   "cell_type": "code",
   "execution_count": null,
   "metadata": {},
   "outputs": [],
   "source": [
    "class_labels = {0: 'T-shirt/top', 1: 'Trouser', 2: 'Pullover', 3: 'Dress',\n",
    "                4: 'Coat', 5: 'Sandal', 6: 'Shirt', 7: 'Sneaker', 8: 'Bag', 9: 'Ankle boot'}\n",
    "input_shape = (28, 28, 1)\n",
    "num_classes = 10\n"
   ]
  },
  {
   "cell_type": "markdown",
   "metadata": {},
   "source": [
    "# Підготовка навчального та тестового наборів"
   ]
  },
  {
   "cell_type": "code",
   "execution_count": null,
   "metadata": {},
   "outputs": [],
   "source": [
    "# Завантажуємо датасет і розділимо його на навчальну та тестову вибірки.\n",
    "(x_train, y_train), (x_test, y_test) = fashion_mnist.load_data()\n",
    "\n",
    "# Перетворюємо цілочисельні пікселі на тип float32\n",
    "x_train, x_test = np.array(x_train, np.float32), np.array(x_test, np.float32)\n",
    "\n",
    "# Нормалізуємо значення пікселів, щоб значення пікселів знаходилось у проміжку від 0 до 1, розділивши яскравість кожного пікселя на 255.\n",
    "x_train, x_test = x_train / 255., x_test / 255.\n"
   ]
  },
  {
   "cell_type": "markdown",
   "metadata": {},
   "source": [
    "# Огляд даних"
   ]
  },
  {
   "cell_type": "code",
   "execution_count": null,
   "metadata": {},
   "outputs": [],
   "source": [
    "number_of_images = 40\n",
    "f, ax = plt.subplots(5, 8, figsize=(12, 8))\n",
    "\n",
    "for i, sample_index in enumerate(np.random.randint(1, x_test.shape[0], number_of_images)):\n",
    "    test_image = x_test[sample_index].reshape(1, -1)\n",
    "    test_item = y_test[sample_index]\n",
    "    ax[i//8, i % 8].imshow(test_image[0].reshape((28, 28)), cmap=\"Oranges\")\n",
    "    ax[i//8, i % 8].axis('off')\n",
    "    ax[i//8, i %\n",
    "        8].set_title(f\"{class_labels.get(test_item)}\", fontsize=8)\n",
    "plt.show()\n"
   ]
  },
  {
   "cell_type": "markdown",
   "metadata": {},
   "source": [
    "# Побудова Архітектури нейронної мережі (моделі)\n",
    "\n",
    "1. [Фуннкції активації](https://keras.io/api/layers/activations/)\n",
    "2. [Оптимізатори](https://keras.io/api/optimizers/)\n",
    "3. [Функції втрат](https://keras.io/api/losses/)\n",
    "4. [Метрики](https://keras.io/api/metrics/)"
   ]
  },
  {
   "cell_type": "code",
   "execution_count": null,
   "metadata": {},
   "outputs": [],
   "source": [
    "def build_self_adjusted_model(hp):\n",
    "    model = keras.Sequential()\n",
    "    model.add(layers.Flatten(input_shape=(28, 28, 1)))\n",
    "\n",
    "    num_layers = hp.Int('num_layers', min_value=2, max_value=4, step=1)\n",
    "\n",
    "    for _ in range(num_layers):\n",
    "        model.add(layers.Dense(\n",
    "            units=hp.Int('units', min_value=32, max_value=512, step=32),\n",
    "            activation=hp.Choice('activation',\n",
    "                                 values=['relu', 'sigmoid', 'tanh']),\n",
    "            kernel_regularizer=regularizers.l2(hp.Choice('l2_penalty', values=[1e-4, 1e-3, 1e-2]))))\n",
    "        model.add(layers.Dropout(hp.Float('dropout_rate',\n",
    "                                          min_value=0.05, max_value=0.2, step=0.05)))\n",
    "\n",
    "    model.add(layers.Dense(10, activation='softmax'))\n",
    "\n",
    "    optimizer = keras.optimizers.Adam(learning_rate=hp.Choice(\n",
    "        'learning_rate', values=[1e-4, 5e-4, 1e-3]))\n",
    "\n",
    "    model.compile(optimizer=optimizer,\n",
    "                  loss='sparse_categorical_crossentropy',\n",
    "                  metrics=['accuracy'])\n",
    "    return model\n"
   ]
  },
  {
   "cell_type": "code",
   "execution_count": null,
   "metadata": {},
   "outputs": [],
   "source": [
    "from keras_tuner.tuners import RandomSearch\n",
    "tuner = RandomSearch(\n",
    "    build_self_adjusted_model,\n",
    "    objective='val_accuracy',\n",
    "    max_trials=10,  # Количество экспериментов\n",
    "    directory='tuner_results',  # Директория для сохранения результатов\n",
    "    project_name='fasion_mnist_tuning'\n",
    ")\n",
    "tuner.search(x_train, y_train, epochs=25, validation_data=(x_test, y_test))\n",
    "best_model = tuner.get_best_models(num_models=1)[0]\n",
    "best_model.fit(x_train, y_train, epochs=25, validation_data=(x_test, y_test))\n"
   ]
  }
 ],
 "metadata": {
  "kernelspec": {
   "display_name": "Python 3",
   "language": "python",
   "name": "python3"
  },
  "language_info": {
   "codemirror_mode": {
    "name": "ipython",
    "version": 3
   },
   "file_extension": ".py",
   "mimetype": "text/x-python",
   "name": "python",
   "nbconvert_exporter": "python",
   "pygments_lexer": "ipython3",
   "version": "3.11.3"
  }
 },
 "nbformat": 4,
 "nbformat_minor": 2
}
