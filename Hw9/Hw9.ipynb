{
 "cells": [
  {
   "cell_type": "code",
   "execution_count": null,
   "metadata": {},
   "outputs": [],
   "source": [
    "import tensorflow as tf\n",
    "from tensorflow import keras\n",
    "from tensorflow.keras import layers\n",
    "from tensorflow.keras import regularizers\n",
    "from keras.utils import plot_model\n",
    "import numpy as np\n",
    "import matplotlib.pyplot as plt\n",
    "\n",
    "from IPython.display import clear_output, display, Math\n"
   ]
  },
  {
   "cell_type": "code",
   "execution_count": null,
   "metadata": {},
   "outputs": [],
   "source": [
    "from keras.datasets import fashion_mnist\n"
   ]
  },
  {
   "cell_type": "markdown",
   "metadata": {},
   "source": [
    "# Про dataset `fassion-mnist`\n",
    "\n",
    "Fashion-MNIST — це набір зображень статей Zalando, що складається з навчального набору з 60 000 прикладів і тестового набору з 10 000 прикладів. Кожен приклад являє собою зображення в градаціях сірого 28x28, пов'язане з міткою з 10 класів:\n",
    "\n",
    "| Мітка | Опис        | Переклад         |\n",
    "|-------|-------------|------------------|\n",
    "| 0     | T-shirt/top | Футболка/сорочка |\n",
    "| 1     | Trouser     | Штани            |\n",
    "| 2     | Pullover    | Светр            |\n",
    "| 3     | Dress       | Плаття           |\n",
    "| 4     | Coat        | Пальто           |\n",
    "| 5     | Sandal      | Сандалі          |\n",
    "| 6     | Shirt       | Сорочка          |\n",
    "| 7     | Sneaker     | Кросовки         |\n",
    "| 8     | Bag         | Сумка            |\n",
    "| 9     | Ankle boot  | Чоботи           |"
   ]
  },
  {
   "cell_type": "markdown",
   "metadata": {},
   "source": [
    "# Константи"
   ]
  },
  {
   "cell_type": "code",
   "execution_count": null,
   "metadata": {},
   "outputs": [],
   "source": [
    "class_labels = {0: 'T-shirt/top', 1: 'Trouser', 2: 'Pullover', 3: 'Dress',\n",
    "                4: 'Coat', 5: 'Sandal', 6: 'Shirt', 7: 'Sneaker', 8: 'Bag', 9: 'Ankle boot'}\n",
    "input_shape = (28, 28, 1)\n",
    "num_classes = 10\n"
   ]
  },
  {
   "cell_type": "markdown",
   "metadata": {},
   "source": [
    "# Підготовка навчального та тестового наборів"
   ]
  },
  {
   "cell_type": "code",
   "execution_count": null,
   "metadata": {},
   "outputs": [],
   "source": [
    "# Завантажуємо датасет і розділимо його на навчальну та тестову вибірки.\n",
    "(x_train, y_train), (x_test, y_test) = fashion_mnist.load_data()\n",
    "\n",
    "# Перетворюємо цілочисельні пікселі на тип float32\n",
    "x_train, x_test = np.array(x_train, np.float32), np.array(x_test, np.float32)\n",
    "\n",
    "# Нормалізуємо значення пікселів, щоб значення пікселів знаходилось у проміжку від 0 до 1, розділивши яскравість кожного пікселя на 255.\n",
    "x_train, x_test = x_train / 255., x_test / 255.\n"
   ]
  },
  {
   "cell_type": "markdown",
   "metadata": {},
   "source": [
    "# Огляд даних"
   ]
  },
  {
   "cell_type": "code",
   "execution_count": null,
   "metadata": {},
   "outputs": [],
   "source": [
    "number_of_images = 40\n",
    "f, ax = plt.subplots(5, 8, figsize=(12, 8))\n",
    "\n",
    "for i, sample_index in enumerate(np.random.randint(1, x_test.shape[0], number_of_images)):\n",
    "    test_image = x_test[sample_index].reshape(1, -1)\n",
    "    test_item = y_test[sample_index]\n",
    "    ax[i//8, i % 8].imshow(test_image[0].reshape((28, 28)), cmap=\"Oranges\")\n",
    "    ax[i//8, i % 8].axis('off')\n",
    "    ax[i//8, i %\n",
    "        8].set_title(f\"{class_labels.get(test_item)}\", fontsize=8)\n",
    "plt.show()\n"
   ]
  },
  {
   "cell_type": "markdown",
   "metadata": {},
   "source": [
    "# Побудова Архітектури нейронної мережі (моделі)\n",
    "\n",
    "1. [Фуннкції активації](https://keras.io/api/layers/activations/)\n",
    "2. [Оптимізатори](https://keras.io/api/optimizers/)\n",
    "3. [Функції втрат](https://keras.io/api/losses/)\n",
    "4. [Метрики](https://keras.io/api/metrics/)"
   ]
  },
  {
   "cell_type": "code",
   "execution_count": null,
   "metadata": {},
   "outputs": [],
   "source": [
    "# Побудова архітектури моделі\n",
    "from tensorflow.keras.callbacks import LearningRateScheduler\n",
    "\n",
    "keras.utils.set_random_seed(42)\n",
    "\n",
    "\n",
    "def lr_scheduler(epoch, lr):\n",
    "    new_lr = lr * 0.5\n",
    "    return new_lr\n",
    "\n",
    "\n",
    "lr_callback = LearningRateScheduler(lr_scheduler)\n",
    "\n",
    "# Побудова архітектури моделі\n",
    "\n",
    "\n",
    "def create_model(learning_rate):\n",
    "    model = keras.Sequential()\n",
    "    model.add(layers.Flatten(input_shape=(28, 28, 1))),\n",
    "    model.add(layers.Dense(128, activation='relu'))\n",
    "    model.add(layers.Dropout(0.25)),\n",
    "    model.add(layers.Dense(64, activation='relu')),\n",
    "    model.add(layers.Dropout(0.1)),\n",
    "    model.add(layers.Dense(10, activation='softmax'))\n",
    "\n",
    "    optimizer = tf.keras.optimizers.Adam(learning_rate=learning_rate)\n",
    "\n",
    "    model.compile(optimizer=optimizer,\n",
    "                  loss='sparse_categorical_crossentropy',\n",
    "                  metrics=['accuracy'],\n",
    "                  )\n",
    "    return model\n"
   ]
  },
  {
   "cell_type": "markdown",
   "metadata": {},
   "source": [
    "# Гіперпараметри\n",
    "\n",
    "Друге правило радіоаматора: не можна крутити дві ручки одночасно!"
   ]
  },
  {
   "cell_type": "code",
   "execution_count": null,
   "metadata": {},
   "outputs": [],
   "source": [
    "epochs = 25\n",
    "steps_per_epoch = 1_000\n",
    "batch_size = 64*2\n",
    "learning_rate = 1e-3\n",
    "model = create_model(learning_rate)\n",
    "\n",
    "model.summary()\n"
   ]
  },
  {
   "cell_type": "markdown",
   "metadata": {},
   "source": [
    "# Навчання моделі"
   ]
  },
  {
   "cell_type": "code",
   "execution_count": null,
   "metadata": {},
   "outputs": [],
   "source": [
    "# Перемішаємо тренувальні дані\n",
    "train_data = tf.data.Dataset.from_tensor_slices((x_train, y_train))\n",
    "train_data = train_data.repeat().shuffle(5000).batch(256).prefetch(1)\n",
    "\n",
    "\n",
    "# Навчання моделі\n",
    "history = model.fit(\n",
    "    x_train, y_train,\n",
    "    epochs=epochs,\n",
    "    batch_size=batch_size,\n",
    "    validation_data=(x_test, y_test)\n",
    ")\n",
    "\n",
    "# Оцінка моделі на тестовому наборі даних\n",
    "test_loss, test_accuracy = model.evaluate(x_test, y_test, verbose=1)\n",
    "print(f'\\nТочність на тестовому наборі: {test_accuracy:.2f}')\n"
   ]
  },
  {
   "cell_type": "code",
   "execution_count": null,
   "metadata": {},
   "outputs": [],
   "source": [
    "fig, ax1 = plt.subplots(figsize=(10, 6))\n",
    "\n",
    "ax1.plot(history.history['val_loss'], label='Validation Loss', marker='o', color='r')\n",
    "ax1.plot(history.history['loss'], label='Loss', color='r', alpha=0.5)\n",
    "ax1.set_ylabel('Loss Function', color='b')\n",
    "ax1.tick_params(axis='y', labelcolor='b')\n",
    "\n",
    "ax2 = ax1.twinx()\n",
    "\n",
    "ax2.plot(history.history['val_accuracy'], label='Validation Accuracy',  marker='o', color='b')\n",
    "ax2.plot(history.history['accuracy'], label='Accuracy', color='b', alpha=0.5)\n",
    "                         \n",
    "for i, acc in enumerate(history.history['val_accuracy']):\n",
    "    ax2.annotate(f'{acc:.2f}', (i, acc), textcoords=\"offset points\", xytext=(0, -15), ha='center', c='b', fontsize=6)\n",
    "ax2.set_xlabel('Epoch')\n",
    "ax2.set_ylabel('Accuracy', color='r')\n",
    "ax2.tick_params(axis='y', labelcolor='r')\n",
    "ax1.grid(True, linestyle='--') \n",
    "\n",
    "ax1.legend(loc='upper left')\n",
    "ax2.legend(loc='lower right')\n",
    "\n",
    "plt.title('Графіки точності та втрат')\n",
    "\n",
    "plt.show()"
   ]
  }
 ],
 "metadata": {
  "kernelspec": {
   "display_name": "Python 3",
   "language": "python",
   "name": "python3"
  },
  "language_info": {
   "codemirror_mode": {
    "name": "ipython",
    "version": 3
   },
   "file_extension": ".py",
   "mimetype": "text/x-python",
   "name": "python",
   "nbconvert_exporter": "python",
   "pygments_lexer": "ipython3",
   "version": "3.11.3"
  }
 },
 "nbformat": 4,
 "nbformat_minor": 2
}
