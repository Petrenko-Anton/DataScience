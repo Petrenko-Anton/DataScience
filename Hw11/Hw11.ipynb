{
 "cells": [
  {
   "cell_type": "code",
   "execution_count": 6,
   "metadata": {},
   "outputs": [],
   "source": [
    "import matplotlib.pyplot as plt\n",
    "from keras.utils import pad_sequences\n",
    "from keras.models import Sequential\n",
    "from keras.layers import Embedding, SimpleRNN, Dense\n"
   ]
  },
  {
   "cell_type": "markdown",
   "metadata": {},
   "source": [
    "# Встановлюємо гіперпараметри:"
   ]
  },
  {
   "cell_type": "code",
   "execution_count": 7,
   "metadata": {},
   "outputs": [],
   "source": [
    "max_features = 10000  # кількість слів, що розглядаються як особливості\n",
    "maxlen = 500  # обмеження кількості слів в тексті\n",
    "batch_size = 32\n"
   ]
  },
  {
   "cell_type": "markdown",
   "metadata": {},
   "source": [
    "# Завантаження даних:"
   ]
  },
  {
   "cell_type": "code",
   "execution_count": 47,
   "metadata": {},
   "outputs": [],
   "source": [
    "from keras.datasets import imdb\n",
    "\n",
    "(input_train, y_train), (input_test, y_test) = imdb.load_data(num_words=max_features)\n",
    "# Завантаження тренувальних та тестових даних зі вказанням обмеження на кількість слів\n"
   ]
  },
  {
   "cell_type": "markdown",
   "metadata": {},
   "source": [
    "# Опис датасету IMDB\n",
    "\n",
    "Датасет IMDB являє собою набір відгуків про фільми з сайту Internet Movie Database (IMDB). \n",
    "\n",
    "1. Дані (`input`): Це послідовності індексів слів, що представляють тексти відгуків про фільми. Кожен елемент у датасеті являє собою один відгук. Наприклад, `train_data[0]` містить послідовність індексів для першого відгуку.\n",
    "2. Мітки (`y`): Це бінарні значення (`0` або `1`), що представляють собою негативний або позитивний відгук. Наприклад, `train_labels[0]` містить мітку (`0` або `1`) для першого відгуку, вказуючи на те, негативний це відгук чи позитивний.\n",
    "\n",
    "Приклади:\n",
    "\n",
    "`train_data[0]`: `[1, 14, 22, 16, 43, ...]` (послідовність індексів слів першого відгуку)\n",
    "train_labels[0]: 1 (мітка, що вказує на позитивний відгук)\n",
    "\n",
    "Для декодування цих індексів назад у слова, можна використати словник `imdb.get_word_index()`, що надається `Keras`. \n",
    "\n",
    "\n",
    "\n",
    "## Розміри датасета\n",
    "\n",
    "\n",
    "### Тренувальний датасет:\n",
    "Розмір тренувальних даних: `(25000,)`\n",
    "Розмір міток тренувальних даних: `(25000,)`\n",
    "\n",
    "### Тестовий датасет:\n",
    "Розмір тестових даних: `(25000,)`\n",
    "Розмір міток тестових даних: `(25000,)`\n",
    "\n"
   ]
  },
  {
   "cell_type": "code",
   "execution_count": 81,
   "metadata": {},
   "outputs": [],
   "source": [
    "# Декодуємо відгук\n",
    "\n",
    "\n",
    "def decode_review(index):\n",
    "    word_number = imdb.get_word_index()\n",
    "    reverse_word_number = dict(\n",
    "        [(value, key) for (key, value) in word_number.items()]\n",
    "    )  # Змінюємо місцями ключ <-> значення\n",
    "\n",
    "    # Використовуючи словник word_index декодуємо індекс в слово, якщо такого слова нема, підставляємо три точки ...\n",
    "    decoded_review = \" \".join(\n",
    "        [reverse_word_number.get(i - 3, \"...\") for i in input_train[index]]\n",
    "    )\n",
    "    return decoded_review\n"
   ]
  },
  {
   "cell_type": "code",
   "execution_count": 82,
   "metadata": {},
   "outputs": [
    {
     "name": "stdout",
     "output_type": "stream",
     "text": [
      "Відгук: [1, 194, 1153, 194, 8255, 78, 228, 5, 6, 1463, 4369, 5012, 134, 26, 4, 715, 8, 118, 1634, 14, 394, 20, 13, 119, 954, 189, 102, 5, 207, 110, 3103, 21, 14, 69, 188, 8, 30, 23, 7, 4, 249, 126, 93, 4, 114, 9, 2300, 1523, 5, 647, 4, 116, 9, 35, 8163, 4, 229, 9, 340, 1322, 4, 118, 9, 4, 130, 4901, 19, 4, 1002, 5, 89, 29, 952, 46, 37, 4, 455, 9, 45, 43, 38, 1543, 1905, 398, 4, 1649, 26, 6853, 5, 163, 11, 3215, 2, 4, 1153, 9, 194, 775, 7, 8255, 2, 349, 2637, 148, 605, 2, 8003, 15, 123, 125, 68, 2, 6853, 15, 349, 165, 4362, 98, 5, 4, 228, 9, 43, 2, 1157, 15, 299, 120, 5, 120, 174, 11, 220, 175, 136, 50, 9, 4373, 228, 8255, 5, 2, 656, 245, 2350, 5, 4, 9837, 131, 152, 491, 18, 2, 32, 7464, 1212, 14, 9, 6, 371, 78, 22, 625, 64, 1382, 9, 8, 168, 145, 23, 4, 1690, 15, 16, 4, 1355, 5, 28, 6, 52, 154, 462, 33, 89, 78, 285, 16, 145, 95]\n",
      "Декодований: ... big hair big boobs bad music and a giant safety pin these are the words to best describe this terrible movie i love cheesy horror movies and i've seen hundreds but this had got to be on of the worst ever made the plot is paper thin and ridiculous the acting is an abomination the script is completely laughable the best is the end showdown with the cop and how he worked out who the killer is it's just so damn terribly written the clothes are sickening and funny in equal ... the hair is big lots of boobs ... men wear those cut ... shirts that show off their ... sickening that men actually wore them and the music is just ... trash that plays over and over again in almost every scene there is trashy music boobs and ... taking away bodies and the gym still doesn't close for ... all joking aside this is a truly bad film whose only charm is to look back on the disaster that was the 80's and have a good old laugh at how bad everything was back then\n",
      "Мітка: 0\n"
     ]
    }
   ],
   "source": [
    "index = 1\n",
    "print(f\"Відгук: {input_train[index]}\")\n",
    "print(f\"Декодований: {decode_review(index)}\")\n",
    "print(f\"Мітка: {y_train[index]}\")\n"
   ]
  },
  {
   "cell_type": "markdown",
   "metadata": {},
   "source": [
    "# Передпроцесинг послідовних даних:"
   ]
  },
  {
   "cell_type": "code",
   "execution_count": 83,
   "metadata": {},
   "outputs": [],
   "source": [
    "input_train = pad_sequences(input_train, maxlen=maxlen)\n",
    "input_test = pad_sequences(input_test, maxlen=maxlen)\n",
    "# Застосування заздалегідь обраної максимальної довжини до послідовних даних тренувального та тестового наборів\n"
   ]
  },
  {
   "cell_type": "markdown",
   "metadata": {},
   "source": [
    "# Побудова простої моделі RNN:"
   ]
  },
  {
   "cell_type": "code",
   "execution_count": 10,
   "metadata": {},
   "outputs": [],
   "source": [
    "model = Sequential()\n",
    "# Створення порожньої моделі Sequential\n",
    "\n",
    "# Додавання Embedding шару для перетворення слів в вектори фіксованої довжини\n",
    "model.add(Embedding(max_features, 32))\n",
    "# Параметри: кількість слів для розгляду як особливості та розмір вектора, що представляє кожне слово\n",
    "\n",
    "# Додавання SimpleRNN шару з 32 вузлами\n",
    "model.add(SimpleRNN(32))\n",
    "# Параметр: кількість вузлів (розмір прихованого стану)\n",
    "\n",
    "# Додавання Dense шару з одним вузлом та активацією sigmoid\n",
    "model.add(Dense(1, activation=\"sigmoid\"))\n",
    "# Параметри: кількість вузлів (вихідний розмір) та функція активації (sigmoid для бінарної класифікації)\n"
   ]
  },
  {
   "cell_type": "markdown",
   "metadata": {},
   "source": [
    "# Компіляція моделі:"
   ]
  },
  {
   "cell_type": "code",
   "execution_count": 13,
   "metadata": {},
   "outputs": [],
   "source": [
    "model.compile(optimizer=\"rmsprop\", loss=\"binary_crossentropy\", metrics=[\"acc\"])\n"
   ]
  },
  {
   "cell_type": "markdown",
   "metadata": {},
   "source": [
    "# Виведення опису моделі:"
   ]
  },
  {
   "cell_type": "code",
   "execution_count": 14,
   "metadata": {},
   "outputs": [
    {
     "name": "stdout",
     "output_type": "stream",
     "text": [
      "Model: \"sequential\"\n",
      "_________________________________________________________________\n",
      " Layer (type)                Output Shape              Param #   \n",
      "=================================================================\n",
      " embedding (Embedding)       (None, None, 32)          320000    \n",
      "                                                                 \n",
      " simple_rnn (SimpleRNN)      (None, 32)                2080      \n",
      "                                                                 \n",
      " dense (Dense)               (None, 1)                 33        \n",
      "                                                                 \n",
      "=================================================================\n",
      "Total params: 322113 (1.23 MB)\n",
      "Trainable params: 322113 (1.23 MB)\n",
      "Non-trainable params: 0 (0.00 Byte)\n",
      "_________________________________________________________________\n"
     ]
    }
   ],
   "source": [
    "model.summary()"
   ]
  },
  {
   "cell_type": "markdown",
   "metadata": {},
   "source": [
    "# Навчання моделі:"
   ]
  },
  {
   "cell_type": "code",
   "execution_count": 15,
   "metadata": {},
   "outputs": [
    {
     "name": "stdout",
     "output_type": "stream",
     "text": [
      "Epoch 1/5\n",
      "137/137 [==============================] - 19s 124ms/step - loss: 0.6473 - acc: 0.6030 - val_loss: 0.5825 - val_acc: 0.6865\n",
      "Epoch 2/5\n",
      "137/137 [==============================] - 21s 155ms/step - loss: 0.4297 - acc: 0.8132 - val_loss: 0.3893 - val_acc: 0.8321\n",
      "Epoch 3/5\n",
      "137/137 [==============================] - 19s 140ms/step - loss: 0.3214 - acc: 0.8693 - val_loss: 0.4208 - val_acc: 0.8209\n",
      "Epoch 4/5\n",
      "137/137 [==============================] - 16s 116ms/step - loss: 0.2701 - acc: 0.8934 - val_loss: 0.3775 - val_acc: 0.8340\n",
      "Epoch 5/5\n",
      "137/137 [==============================] - 18s 134ms/step - loss: 0.2146 - acc: 0.9192 - val_loss: 0.4108 - val_acc: 0.8255\n"
     ]
    }
   ],
   "source": [
    "history = model.fit(input_train, y_train, epochs=5, batch_size=128, validation_split=0.3)\n",
    "# Запускаємо навчання моделі на тренувальних даних для 5 епох з розміром пакету 128 та розбиттям на тренувальну та валідаційну підмножини"
   ]
  },
  {
   "cell_type": "markdown",
   "metadata": {},
   "source": [
    "# Відображення результатів:"
   ]
  },
  {
   "cell_type": "code",
   "execution_count": 17,
   "metadata": {},
   "outputs": [
    {
     "data": {
      "image/png": "[encoded data removed]",
      "text/plain": [
       "<Figure size 640x480 with 1 Axes>"
      ]
     },
     "metadata": {},
     "output_type": "display_data"
    },
    {
     "data": {
      "image/png": "[encoded data removed]",
      "text/plain": [
       "<Figure size 640x480 with 1 Axes>"
      ]
     },
     "metadata": {},
     "output_type": "display_data"
    }
   ],
   "source": [
    "acc = history.history[\"acc\"]\n",
    "val_acc = history.history[\"val_acc\"]\n",
    "loss = history.history[\"loss\"]\n",
    "val_loss = history.history[\"val_loss\"]\n",
    "\n",
    "epochs = range(1, len(acc) + 1)\n",
    "\n",
    "plt.plot(\n",
    "    epochs, acc, \"bo\", label=\"Точність на тренуванні\"\n",
    ")  # Графік точності на тренувальних данних\n",
    "plt.plot(\n",
    "    epochs, val_acc, \"b\", label=\"Точність на валідації\"\n",
    ")  # Графік точності на валідаційних данних\n",
    "plt.title(\"Точність тренування і валідації\")  # Заголовок графіку\n",
    "plt.legend()  # Показати легенду\n",
    "\n",
    "plt.figure()\n",
    "\n",
    "plt.plot(\n",
    "    epochs, loss, \"bo\", label=\"Втрати на тренуванні\"\n",
    ")  # Графік втрат на тренувальних данних\n",
    "plt.plot(\n",
    "    epochs, val_loss, \"b\", label=\"Втрати на валідації\"\n",
    ")  # Графік втрат на валідаційних данних\n",
    "plt.title(\"Втрати тренування і валідації\")  # Заголовок графіку\n",
    "plt.legend()  # Показати легенду\n",
    "\n",
    "plt.show()  # Відобразити графіки\n"
   ]
  },
  {
   "cell_type": "markdown",
   "metadata": {},
   "source": [
    "# Прогнозування з використанням навченої моделі:"
   ]
  },
  {
   "cell_type": "code",
   "execution_count": 18,
   "metadata": {},
   "outputs": [
    {
     "name": "stdout",
     "output_type": "stream",
     "text": [
      "782/782 [==============================] - 14s 18ms/step\n",
      "Прогнозоване: 0, Фактичне: 0\n",
      "Прогнозоване: 1, Фактичне: 1\n",
      "Прогнозоване: 1, Фактичне: 1\n",
      "Прогнозоване: 1, Фактичне: 0\n",
      "Прогнозоване: 1, Фактичне: 1\n",
      "Прогнозоване: 0, Фактичне: 1\n",
      "Прогнозоване: 1, Фактичне: 1\n",
      "Прогнозоване: 0, Фактичне: 0\n",
      "Прогнозоване: 1, Фактичне: 0\n",
      "Прогнозоване: 1, Фактичне: 1\n",
      "782/782 [==============================] - 15s 20ms/step - loss: 0.4018 - acc: 0.8286\n",
      "Test Loss: 0.40184125304222107\n",
      "Test Accuracy: 0.8286399841308594\n"
     ]
    }
   ],
   "source": [
    "predictions = model.predict(input_test)\n",
    "\n",
    "# Для отримання зрозумілішого вигляду прогнозів, їх можна перетворити в бінарний формат:\n",
    "binary_predictions = [1 if pred > 0.5 else 0 for pred in predictions]\n",
    "\n",
    "# Для порівняння можна вивести деякі прогнозовані значення поряд з фактичними значеннями\n",
    "for i in range(10):\n",
    "    print(f\"Прогнозоване: {binary_predictions[i]}, Фактичне: {y_test[i]}\")\n",
    "\n",
    "# Додатковий крок: Оцінка моделі\n",
    "# Це дасть загальну точність моделі на тестових даних\n",
    "test_loss, test_acc = model.evaluate(input_test, y_test)\n",
    "print(\"Test Loss: {}\".format(test_loss))\n",
    "print(\"Test Accuracy: {}\".format(test_acc))\n"
   ]
  }
 ],
 "metadata": {
  "kernelspec": {
   "display_name": "Python 3",
   "language": "python",
   "name": "python3"
  },
  "language_info": {
   "codemirror_mode": {
    "name": "ipython",
    "version": 3
   },
   "file_extension": ".py",
   "mimetype": "text/x-python",
   "name": "python",
   "nbconvert_exporter": "python",
   "pygments_lexer": "ipython3",
   "version": "3.11.3"
  }
 },
 "nbformat": 4,
 "nbformat_minor": 2
}
