{
  "nbformat": 4,
  "nbformat_minor": 0,
  "metadata": {
    "colab": {
      "provenance": [],
      "authorship_tag": "ABX9TyPTm0oIlcK0k1KT4SB+qOUt",
      "include_colab_link": true
    },
    "kernelspec": {
      "name": "python3",
      "display_name": "Python 3"
    },
    "language_info": {
      "name": "python"
    }
  },
  "cells": [
    {
      "cell_type": "markdown",
      "metadata": {
        "id": "view-in-github",
        "colab_type": "text"
      },
      "source": [
        "<a href=\"https://colab.research.google.com/github/sergiokapone/DataScience/blob/main/Hw7/Hw7_1.ipynb\" target=\"_parent\"><img src=\"https://colab.research.google.com/assets/colab-badge.svg\" alt=\"Open In Colab\"/></a>"
      ]
    },
    {
      "cell_type": "markdown",
      "source": [
        "# Завдання\n",
        "Візьміть датасет [movielens](https://surprise.readthedocs.io/en/stable/dataset.html) і побудуйте модель матричної факторизації. У даній бібліотеці він має назву SVD. Підберіть найкращі параметри за допомогою крос-валідації, також поекспериментуйте з іншими [алгоритмами](https://surprise.readthedocs.io/en/stable/prediction_algorithms_package.html) розрахунків (SVD++, NMF) і оберіть той, який буде оптимальним.\n"
      ],
      "metadata": {
        "id": "3rzBNxM-V8dj"
      }
    },
    {
      "cell_type": "code",
      "source": [
        "!pip install scikit-surprise"
      ],
      "metadata": {
        "id": "meODLrJk48rX",
        "colab": {
          "base_uri": "https://localhost:8080/"
        },
        "outputId": "37de0652-e549-4496-9900-515d2605d00c"
      },
      "execution_count": 1,
      "outputs": [
        {
          "output_type": "stream",
          "name": "stdout",
          "text": [
            "Collecting scikit-surprise\n",
            "  Downloading scikit-surprise-1.1.3.tar.gz (771 kB)\n",
            "\u001b[2K     \u001b[90m━━━━━━━━━━━━━━━━━━━━━━━━━━━━━━━━━━━━━━━━\u001b[0m \u001b[32m772.0/772.0 kB\u001b[0m \u001b[31m5.6 MB/s\u001b[0m eta \u001b[36m0:00:00\u001b[0m\n",
            "\u001b[?25h  Preparing metadata (setup.py) ... \u001b[?25l\u001b[?25hdone\n",
            "Requirement already satisfied: joblib>=1.0.0 in /usr/local/lib/python3.10/dist-packages (from scikit-surprise) (1.3.2)\n",
            "Requirement already satisfied: numpy>=1.17.3 in /usr/local/lib/python3.10/dist-packages (from scikit-surprise) (1.23.5)\n",
            "Requirement already satisfied: scipy>=1.3.2 in /usr/local/lib/python3.10/dist-packages (from scikit-surprise) (1.11.3)\n",
            "Building wheels for collected packages: scikit-surprise\n",
            "  Building wheel for scikit-surprise (setup.py) ... \u001b[?25l\u001b[?25hdone\n",
            "  Created wheel for scikit-surprise: filename=scikit_surprise-1.1.3-cp310-cp310-linux_x86_64.whl size=3163339 sha256=6772ce975a49d0d0d4afc367c69ac85a5b72f771534205af2c7b3b9232f83fa5\n",
            "  Stored in directory: /root/.cache/pip/wheels/a5/ca/a8/4e28def53797fdc4363ca4af740db15a9c2f1595ebc51fb445\n",
            "Successfully built scikit-surprise\n",
            "Installing collected packages: scikit-surprise\n",
            "Successfully installed scikit-surprise-1.1.3\n"
          ]
        }
      ]
    },
    {
      "cell_type": "code",
      "source": [
        "from surprise import SVD, SVDpp, NMF\n",
        "from surprise import Dataset\n",
        "from surprise import accuracy\n",
        "from surprise.model_selection import train_test_split, cross_validate\n",
        "from hyperopt import hp, fmin, tpe\n"
      ],
      "metadata": {
        "id": "TNBaguEM5OJG"
      },
      "execution_count": 2,
      "outputs": []
    },
    {
      "cell_type": "code",
      "source": [
        "# Load the movielens-100k dataset (download it if needed).\n",
        "data = Dataset.load_builtin('ml-100k')"
      ],
      "metadata": {
        "id": "N0IhpCdb9NAw",
        "colab": {
          "base_uri": "https://localhost:8080/"
        },
        "outputId": "0f242f81-4b3d-47ff-9f38-b2824f599295"
      },
      "execution_count": 3,
      "outputs": [
        {
          "output_type": "stream",
          "name": "stdout",
          "text": [
            "Dataset ml-100k could not be found. Do you want to download it? [Y/n] Y\n",
            "Trying to download dataset from https://files.grouplens.org/datasets/movielens/ml-100k.zip...\n",
            "Done! Dataset ml-100k has been saved to /root/.surprise_data/ml-100k\n"
          ]
        }
      ]
    },
    {
      "cell_type": "code",
      "source": [
        "# sample random trainset and testset\n",
        "# test set is made of 25% of the ratings.\n",
        "train_set, test_set = train_test_split(data, test_size=0.25)"
      ],
      "metadata": {
        "id": "6MM0nzS7US27"
      },
      "execution_count": 4,
      "outputs": []
    },
    {
      "cell_type": "code",
      "source": [
        "models = [SVD, SVDpp, NMF]"
      ],
      "metadata": {
        "id": "Gu-ypiBDqrOt"
      },
      "execution_count": 5,
      "outputs": []
    },
    {
      "cell_type": "code",
      "source": [
        "space_svd = {\n",
        "    'n_factors': hp.choice('n_factors', [50, 100, 150]),\n",
        "    'n_epochs': hp.choice('n_epochs', [10, 20, 30]),\n",
        "    'lr_all': hp.uniform('lr_all', 0.001, 0.1),\n",
        "    'reg_all': hp.uniform('reg_all', 0.01, 0.2),\n",
        "    'random_state': 42\n",
        "}\n",
        "\n",
        "space_nmf = {\n",
        "        'n_factors': hp.choice('n_factors', [5, 10, 15, 20, 25]),\n",
        "        'n_epochs': hp.choice('n_epochs', [10, 20, 30, 40, 50]),\n",
        "        'biased': hp.choice('biased', [True, False]),\n",
        "        'reg_pu': hp.uniform('reg_pu', 0.001, 0.1),\n",
        "        'reg_qi': hp.uniform('reg_qi', 0.001, 0.1),\n",
        "        'lr_bu': hp.uniform('lr_bu', 0.001, 0.1),\n",
        "        'lr_bi': hp.uniform('lr_bi', 0.001, 0.1),\n",
        "        'random_state': 42\n",
        "    }"
      ],
      "metadata": {
        "id": "KioJXQjYYBJa"
      },
      "execution_count": 6,
      "outputs": []
    },
    {
      "cell_type": "code",
      "source": [
        "# Визначте функцію для обчислення RMSE\n",
        "def objective(params, func):\n",
        "    model = func(**params)\n",
        "    model.fit(train_set)\n",
        "    predictions = model.test(test_set)\n",
        "    rmse = accuracy.rmse(predictions)\n",
        "    return rmse\n",
        "\n",
        "best_params = []\n",
        "for i, func in enumerate(models):\n",
        "    print('-------------------------')\n",
        "    print(f'Srart: {func.__name__}')\n",
        "    print('-------------------------')\n",
        "    space=[space_svd, space_svd, space_nmf]\n",
        "\n",
        "    best = fmin(fn=lambda params: objective(params, func), space=space[i], algo=tpe.suggest, max_evals=1)\n",
        "    best_params.append(best)\n",
        "\n",
        "best_params"
      ],
      "metadata": {
        "colab": {
          "base_uri": "https://localhost:8080/"
        },
        "id": "v1_knE0p9Xee",
        "outputId": "f92c03c8-fbe4-49ab-dbff-6c9d3712374f"
      },
      "execution_count": 9,
      "outputs": [
        {
          "output_type": "stream",
          "name": "stdout",
          "text": [
            "-------------------------\n",
            "Srart: SVD\n",
            "-------------------------\n",
            "RMSE: 0.9495\n",
            "100%|██████████| 1/1 [00:01<00:00,  1.95s/trial, best loss: 0.949518700420323]\n",
            "-------------------------\n",
            "Srart: SVDpp\n",
            "-------------------------\n",
            "RMSE: 0.9944\n",
            "100%|██████████| 1/1 [00:31<00:00, 31.63s/trial, best loss: 0.994387259694318]\n",
            "-------------------------\n",
            "Srart: NMF\n",
            "-------------------------\n",
            "RMSE: 2.2305\n",
            "100%|██████████| 1/1 [00:00<00:00,  1.79trial/s, best loss: 2.2305246553620024]\n"
          ]
        },
        {
          "output_type": "execute_result",
          "data": {
            "text/plain": [
              "[{'lr_all': 0.09183278659581284,\n",
              "  'n_epochs': 1,\n",
              "  'n_factors': 2,\n",
              "  'reg_all': 0.1014529512908898},\n",
              " {'lr_all': 0.07478450453466987,\n",
              "  'n_epochs': 0,\n",
              "  'n_factors': 0,\n",
              "  'reg_all': 0.04280976199614765},\n",
              " {'biased': 1,\n",
              "  'lr_bi': 0.03444007874332134,\n",
              "  'lr_bu': 0.04188214291306692,\n",
              "  'n_epochs': 0,\n",
              "  'n_factors': 0,\n",
              "  'reg_pu': 0.0030900681491158634,\n",
              "  'reg_qi': 0.027713820683042168}]"
            ]
          },
          "metadata": {},
          "execution_count": 9
        }
      ]
    },
    {
      "cell_type": "code",
      "source": [
        "for best_param, Model in zip(best_params, models):\n",
        "    print('-------------------------')\n",
        "    print(f'Srart: {Model.__name__}')\n",
        "    print('-------------------------\\n')\n",
        "    model = Model(**best_param)\n",
        "    results = cross_validate(model, data, measures=['MSE', 'MAE'], cv=5, verbose=True)\n",
        "    print('\\n')"
      ],
      "metadata": {
        "id": "xrG1UohoTb7x",
        "outputId": "dfbd5e17-4343-4b5c-ca54-8faa474c9e87",
        "colab": {
          "base_uri": "https://localhost:8080/"
        }
      },
      "execution_count": 19,
      "outputs": [
        {
          "output_type": "stream",
          "name": "stdout",
          "text": [
            "-------------------------\n",
            "Srart: SVD\n",
            "-------------------------\n",
            "\n",
            "Evaluating MSE, MAE of algorithm SVD on 5 split(s).\n",
            "\n",
            "                  Fold 1  Fold 2  Fold 3  Fold 4  Fold 5  Mean    Std     \n",
            "MSE (testset)     0.9528  0.9681  0.9768  0.9572  0.9616  0.9633  0.0084  \n",
            "MAE (testset)     0.7803  0.7831  0.7843  0.7783  0.7777  0.7808  0.0026  \n",
            "Fit time          0.06    0.08    0.08    0.08    0.09    0.08    0.01    \n",
            "Test time         0.14    0.25    0.11    0.25    0.11    0.17    0.06    \n",
            "\n",
            "\n",
            "-------------------------\n",
            "Srart: SVDpp\n",
            "-------------------------\n",
            "\n",
            "Evaluating MSE, MAE of algorithm SVDpp on 5 split(s).\n",
            "\n",
            "                  Fold 1  Fold 2  Fold 3  Fold 4  Fold 5  Mean    Std     \n",
            "MSE (testset)     1.2672  1.2758  1.2640  1.2763  1.2524  1.2671  0.0088  \n",
            "MAE (testset)     0.9440  0.9473  0.9459  0.9471  0.9393  0.9447  0.0030  \n",
            "Fit time          0.06    0.06    0.07    0.06    0.07    0.06    0.00    \n",
            "Test time         4.14    3.00    2.92    3.03    4.19    3.46    0.58    \n",
            "\n",
            "\n",
            "-------------------------\n",
            "Srart: NMF\n",
            "-------------------------\n",
            "\n",
            "Evaluating MSE, MAE of algorithm NMF on 5 split(s).\n",
            "\n",
            "                  Fold 1  Fold 2  Fold 3  Fold 4  Fold 5  Mean    Std     \n",
            "MSE (testset)     1.2582  1.2647  1.2870  1.2473  1.2787  1.2672  0.0142  \n",
            "MAE (testset)     0.9395  0.9431  0.9514  0.9384  0.9512  0.9447  0.0056  \n",
            "Fit time          0.04    0.07    0.06    0.06    0.06    0.06    0.01    \n",
            "Test time         0.11    0.25    0.11    0.11    0.24    0.16    0.07    \n",
            "\n",
            "\n"
          ]
        }
      ]
    },
    {
      "cell_type": "markdown",
      "source": [
        "# Висновки\n",
        "\n",
        "На основі результатів крос-валідації для різних алгоритмів матричної факторизації (SVD, SVD++, NMF), можна зробити такі висновки:\n",
        "\n",
        "1. SVD має середнє значення MSE приблизно 0.9633 та MAE приблизно 0.7808. Час навчання та тестування відносно низький.\n",
        "\n",
        "2. SVD++ має значення MSE приблизно 1.2671 та MAE приблизно 0.9447. Час тестування відносно високий, що може бути недоцільним у великих завданнях.\n",
        "\n",
        "3. NMF має значення MSE приблизно 1.2672 та MAE приблизно 0.9447. Час навчання та тестування прийнятний, але середня точність менше, ніж у SVD.\n",
        "\n",
        "За зазначеними метриками RMSE і MAE, SVD має найкращу точність серед цих алгоритмів. Таким чином, для цього конкретного завдання рекомендується використовувати алгоритм SVD для матричної факторизації."
      ],
      "metadata": {
        "id": "s2FgfBlNuzU3"
      }
    },
    {
      "cell_type": "code",
      "source": [],
      "metadata": {
        "id": "kDRJn3MGu1Wf"
      },
      "execution_count": 19,
      "outputs": []
    }
  ]
}