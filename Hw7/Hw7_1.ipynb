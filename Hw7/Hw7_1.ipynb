{
  "nbformat": 4,
  "nbformat_minor": 0,
  "metadata": {
    "colab": {
      "provenance": [],
      "authorship_tag": "ABX9TyM//mybL64OstghalyUS7bz",
      "include_colab_link": true
    },
    "kernelspec": {
      "name": "python3",
      "display_name": "Python 3"
    },
    "language_info": {
      "name": "python"
    }
  },
  "cells": [
    {
      "cell_type": "markdown",
      "metadata": {
        "id": "view-in-github",
        "colab_type": "text"
      },
      "source": [
        "<a href=\"https://colab.research.google.com/github/sergiokapone/DataScience/blob/main/Hw7/Hw7_1.ipynb\" target=\"_parent\"><img src=\"https://colab.research.google.com/assets/colab-badge.svg\" alt=\"Open In Colab\"/></a>"
      ]
    },
    {
      "cell_type": "markdown",
      "source": [
        "# Завдання\n",
        "Візьміть датасет [movielens](https://surprise.readthedocs.io/en/stable/dataset.html) і побудуйте модель матричної факторизації. У даній бібліотеці він має назву SVD. Підберіть найкращі параметри за допомогою крос-валідації, також поекспериментуйте з іншими [алгоритмами](https://surprise.readthedocs.io/en/stable/prediction_algorithms_package.html) розрахунків (SVD++, NMF) і оберіть той, який буде оптимальним.\n"
      ],
      "metadata": {
        "id": "3rzBNxM-V8dj"
      }
    },
    {
      "cell_type": "code",
      "source": [
        "!pip install scikit-surprise"
      ],
      "metadata": {
        "id": "meODLrJk48rX",
        "colab": {
          "base_uri": "https://localhost:8080/"
        },
        "outputId": "4a10438a-db2b-4f1b-b84f-ec7800976e5b"
      },
      "execution_count": 1,
      "outputs": [
        {
          "output_type": "stream",
          "name": "stdout",
          "text": [
            "Requirement already satisfied: scikit-surprise in /usr/local/lib/python3.10/dist-packages (1.1.3)\n",
            "Requirement already satisfied: joblib>=1.0.0 in /usr/local/lib/python3.10/dist-packages (from scikit-surprise) (1.3.2)\n",
            "Requirement already satisfied: numpy>=1.17.3 in /usr/local/lib/python3.10/dist-packages (from scikit-surprise) (1.23.5)\n",
            "Requirement already satisfied: scipy>=1.3.2 in /usr/local/lib/python3.10/dist-packages (from scikit-surprise) (1.11.3)\n"
          ]
        }
      ]
    },
    {
      "cell_type": "code",
      "source": [
        "from surprise import SVD, SVDpp, NMF\n",
        "from surprise import Dataset\n",
        "from surprise import accuracy\n",
        "from surprise.model_selection import train_test_split, cross_validate\n",
        "from hyperopt import hp, fmin, tpe, Trials\n"
      ],
      "metadata": {
        "id": "TNBaguEM5OJG"
      },
      "execution_count": 2,
      "outputs": []
    },
    {
      "cell_type": "code",
      "source": [
        "# Load the movielens-100k dataset (download it if needed).\n",
        "data = Dataset.load_builtin('ml-100k')"
      ],
      "metadata": {
        "id": "N0IhpCdb9NAw"
      },
      "execution_count": 3,
      "outputs": []
    },
    {
      "cell_type": "code",
      "source": [
        "# sample random trainset and testset\n",
        "# test set is made of 25% of the ratings.\n",
        "train_set, test_set = train_test_split(data, test_size=0.25)"
      ],
      "metadata": {
        "id": "6MM0nzS7US27"
      },
      "execution_count": 4,
      "outputs": []
    },
    {
      "cell_type": "code",
      "source": [
        "space_svd = {\n",
        "    'n_factors': hp.choice('n_factors', [50, 100, 150]),\n",
        "    'n_epochs': hp.choice('n_epochs', [10, 20, 30]),\n",
        "    'lr_all': hp.uniform('lr_all', 0.001, 0.1),\n",
        "    'reg_all': hp.uniform('reg_all', 0.01, 0.2),\n",
        "    'random_state': 42\n",
        "}\n",
        "\n",
        "space_nmf = {\n",
        "        'n_factors': hp.choice('n_factors', [5, 10, 15, 20, 25]),\n",
        "        'n_epochs': hp.choice('n_epochs', [10, 20, 30, 40, 50]),\n",
        "        'biased': hp.choice('biased', [True, False]),\n",
        "        'reg_pu': hp.uniform('reg_pu', 0.001, 0.1),\n",
        "        'reg_qi': hp.uniform('reg_qi', 0.001, 0.1),\n",
        "        'lr_bu': hp.uniform('lr_bu', 0.001, 0.1),\n",
        "        'lr_bi': hp.uniform('lr_bi', 0.001, 0.1),\n",
        "        'random_state': 42\n",
        "    }"
      ],
      "metadata": {
        "id": "KioJXQjYYBJa"
      },
      "execution_count": 28,
      "outputs": []
    },
    {
      "cell_type": "code",
      "source": [
        "# Визначте функцію для обчислення RMSE\n",
        "def objective(params, func):\n",
        "    model = func(**params)\n",
        "    model.fit(train_set)\n",
        "    predictions = model.test(test_set)\n",
        "    rmse = accuracy.rmse(predictions)\n",
        "    return rmse\n",
        "\n",
        "best_params = []\n",
        "for i, func in enumerate([SVD, SVDpp, NMF]):\n",
        "    print('-------------------------')\n",
        "    print(f'Srart: {func.__name__}')\n",
        "    print('-------------------------')\n",
        "    space=[space_svd, space_svd, space_nmf]\n",
        "\n",
        "    best = fmin(fn=lambda params: objective(params, func), space=space[i], algo=tpe.suggest, max_evals=2)\n",
        "    best_params.append({func.__name__: best})\n",
        "\n",
        "best_params"
      ],
      "metadata": {
        "colab": {
          "base_uri": "https://localhost:8080/"
        },
        "id": "v1_knE0p9Xee",
        "outputId": "02cb8fbd-c563-4030-8374-275d725db9a2"
      },
      "execution_count": 29,
      "outputs": [
        {
          "output_type": "stream",
          "name": "stdout",
          "text": [
            "-------------------------\n",
            "Srart: SVD\n",
            "-------------------------\n",
            "RMSE: 0.9458\n",
            "RMSE: 0.9936\n",
            "100%|██████████| 2/2 [00:03<00:00,  1.88s/trial, best loss: 0.9457963458077339]\n",
            "-------------------------\n",
            "Srart: SVDpp\n",
            "-------------------------\n",
            "RMSE: 0.9504\n",
            "RMSE: 0.9337\n",
            "100%|██████████| 2/2 [02:56<00:00, 88.37s/trial, best loss: 0.9337113704161145]\n",
            "-------------------------\n",
            "Srart: NMF\n",
            "-------------------------\n",
            "RMSE: 0.9450\n",
            "RMSE: 1.3555\n",
            "100%|██████████| 2/2 [00:02<00:00,  1.12s/trial, best loss: 0.9450289140643958]\n"
          ]
        },
        {
          "output_type": "execute_result",
          "data": {
            "text/plain": [
              "[{'SVD': {'lr_all': 0.06500877783410028,\n",
              "   'n_epochs': 0,\n",
              "   'n_factors': 1,\n",
              "   'reg_all': 0.1843122134050255}},\n",
              " {'SVDpp': {'lr_all': 0.06220343496137148,\n",
              "   'n_epochs': 2,\n",
              "   'n_factors': 0,\n",
              "   'reg_all': 0.15178561592744472}},\n",
              " {'NMF': {'biased': 0,\n",
              "   'lr_bi': 0.007639956045705341,\n",
              "   'lr_bu': 0.08109029459453065,\n",
              "   'n_epochs': 2,\n",
              "   'n_factors': 0,\n",
              "   'reg_pu': 0.05387519948683046,\n",
              "   'reg_qi': 0.09478436121820444}}]"
            ]
          },
          "metadata": {},
          "execution_count": 29
        }
      ]
    },
    {
      "cell_type": "code",
      "source": [
        "# Побудова моделі SVD\n",
        "model_svdpp = SVD(**best_params[0].get('SVD'))\n",
        "results_svdpp = cross_validate(model_svdpp, data, measures=['MSE', 'MAE'], cv=5, verbose=True)"
      ],
      "metadata": {
        "colab": {
          "base_uri": "https://localhost:8080/"
        },
        "id": "xrG1UohoTb7x",
        "outputId": "0d568198-2282-4b2e-92a5-6fc5b3e13f8f"
      },
      "execution_count": 30,
      "outputs": [
        {
          "output_type": "stream",
          "name": "stdout",
          "text": [
            "Evaluating MSE, MAE of algorithm SVD on 5 split(s).\n",
            "\n",
            "                  Fold 1  Fold 2  Fold 3  Fold 4  Fold 5  Mean    Std     \n",
            "MSE (testset)     1.2691  1.2666  1.2710  1.2669  1.2627  1.2673  0.0028  \n",
            "MAE (testset)     0.9445  0.9468  0.9466  0.9427  0.9430  0.9447  0.0017  \n",
            "Fit time          0.04    0.07    0.06    0.08    0.08    0.07    0.02    \n",
            "Test time         0.14    0.29    0.13    0.22    0.40    0.24    0.10    \n"
          ]
        }
      ]
    },
    {
      "cell_type": "code",
      "source": [
        "# Побудова моделі NMF\n",
        "model_nmf = NMF(**best_params[2].get('NMF'))\n",
        "results_nmf = cross_validate(model_nmf, data, measures=['RMSE', 'MAE'], cv=5, verbose=True)"
      ],
      "metadata": {
        "colab": {
          "base_uri": "https://localhost:8080/"
        },
        "id": "ImjMgi40TuYl",
        "outputId": "f5fad28a-6714-4a6d-be95-060ed935ff58"
      },
      "execution_count": 31,
      "outputs": [
        {
          "output_type": "stream",
          "name": "stdout",
          "text": [
            "Evaluating RMSE, MAE of algorithm NMF on 5 split(s).\n",
            "\n",
            "                  Fold 1  Fold 2  Fold 3  Fold 4  Fold 5  Mean    Std     \n",
            "RMSE (testset)    2.7789  2.7541  2.7655  2.7682  2.7778  2.7689  0.0091  \n",
            "MAE (testset)     2.5423  2.5143  2.5249  2.5310  2.5383  2.5302  0.0099  \n",
            "Fit time          0.09    0.13    0.13    0.11    0.12    0.11    0.02    \n",
            "Test time         0.10    0.10    0.10    0.25    0.10    0.13    0.06    \n"
          ]
        }
      ]
    },
    {
      "cell_type": "code",
      "source": [
        "# Побудова моделі SVDpp\n",
        "model_svdpp = SVDpp(**best_params[1].get('SVDpp'))\n",
        "results_nmf = cross_validate(model_svdpp, data, measures=['RMSE', 'MAE'], cv=5, verbose=True)"
      ],
      "metadata": {
        "colab": {
          "base_uri": "https://localhost:8080/"
        },
        "id": "Ev5x8pCpVNsS",
        "outputId": "511de985-adf4-4301-b0d0-745f31cd6a03"
      },
      "execution_count": 33,
      "outputs": [
        {
          "output_type": "stream",
          "name": "stdout",
          "text": [
            "Evaluating RMSE, MAE of algorithm SVDpp on 5 split(s).\n",
            "\n",
            "                  Fold 1  Fold 2  Fold 3  Fold 4  Fold 5  Mean    Std     \n",
            "RMSE (testset)    0.9580  0.9584  0.9629  0.9689  0.9599  0.9616  0.0040  \n",
            "MAE (testset)     0.7613  0.7630  0.7638  0.7679  0.7652  0.7642  0.0022  \n",
            "Fit time          0.64    0.63    0.62    0.62    0.66    0.63    0.02    \n",
            "Test time         3.05    4.30    3.00    3.00    4.27    3.52    0.62    \n"
          ]
        }
      ]
    }
  ]
}