{
  "nbformat": 4,
  "nbformat_minor": 0,
  "metadata": {
    "colab": {
      "provenance": [],
      "authorship_tag": "ABX9TyNzVyNTUM4iG5kDtrIFlVbK",
      "include_colab_link": true
    },
    "kernelspec": {
      "name": "python3",
      "display_name": "Python 3"
    },
    "language_info": {
      "name": "python"
    }
  },
  "cells": [
    {
      "cell_type": "markdown",
      "metadata": {
        "id": "view-in-github",
        "colab_type": "text"
      },
      "source": [
        "<a href=\"https://colab.research.google.com/github/sergiokapone/DataScience/blob/main/Hw7/Hw7_1.ipynb\" target=\"_parent\"><img src=\"https://colab.research.google.com/assets/colab-badge.svg\" alt=\"Open In Colab\"/></a>"
      ]
    },
    {
      "cell_type": "markdown",
      "source": [
        "# Завдання\n",
        "Візьміть датасет [movielens](https://surprise.readthedocs.io/en/stable/dataset.html) і побудуйте модель матричної факторизації. У даній бібліотеці він має назву SVD. Підберіть найкращі параметри за допомогою крос-валідації, також поекспериментуйте з іншими [алгоритмами](https://surprise.readthedocs.io/en/stable/prediction_algorithms_package.html) розрахунків (SVD++, NMF) і оберіть той, який буде оптимальним.\n"
      ],
      "metadata": {
        "id": "3rzBNxM-V8dj"
      }
    },
    {
      "cell_type": "code",
      "source": [
        "!pip install scikit-surprise"
      ],
      "metadata": {
        "id": "meODLrJk48rX",
        "colab": {
          "base_uri": "https://localhost:8080/"
        },
        "outputId": "4af3e46b-e8e4-43f4-bdd9-93cdca83ee8e"
      },
      "execution_count": 1,
      "outputs": [
        {
          "output_type": "stream",
          "name": "stdout",
          "text": [
            "Requirement already satisfied: scikit-surprise in /usr/local/lib/python3.10/dist-packages (1.1.3)\n",
            "Requirement already satisfied: joblib>=1.0.0 in /usr/local/lib/python3.10/dist-packages (from scikit-surprise) (1.3.2)\n",
            "Requirement already satisfied: numpy>=1.17.3 in /usr/local/lib/python3.10/dist-packages (from scikit-surprise) (1.23.5)\n",
            "Requirement already satisfied: scipy>=1.3.2 in /usr/local/lib/python3.10/dist-packages (from scikit-surprise) (1.11.3)\n"
          ]
        }
      ]
    },
    {
      "cell_type": "code",
      "source": [
        "from surprise import SVD, SVDpp, NMF\n",
        "from surprise import Dataset\n",
        "from surprise import accuracy\n",
        "from surprise.model_selection import train_test_split, cross_validate, RandomizedSearchCV\n",
        "from hyperopt import hp, fmin, tpe\n",
        "import pandas as pd\n"
      ],
      "metadata": {
        "id": "TNBaguEM5OJG"
      },
      "execution_count": 2,
      "outputs": []
    },
    {
      "cell_type": "code",
      "source": [
        "# Load the movielens-100k dataset (download it if needed).\n",
        "data = Dataset.load_builtin('ml-100k')"
      ],
      "metadata": {
        "id": "N0IhpCdb9NAw"
      },
      "execution_count": 3,
      "outputs": []
    },
    {
      "cell_type": "code",
      "source": [
        "# sample random trainset and testset\n",
        "# test set is made of 25% of the ratings.\n",
        "train_set, test_set = train_test_split(data, test_size=0.25)"
      ],
      "metadata": {
        "id": "6MM0nzS7US27"
      },
      "execution_count": 4,
      "outputs": []
    },
    {
      "cell_type": "markdown",
      "source": [
        "Для вибору параметрів скористаємось бібліотекою `hyperopt`. Об'єкт `hp`   "
      ],
      "metadata": {
        "id": "7RmSrH8Sl0RU"
      }
    },
    {
      "cell_type": "code",
      "source": [
        "param_svd = {\n",
        "    'n_factors': hp.choice('n_factors', [50, 100, 150]),\n",
        "    'n_epochs': hp.choice('n_epochs', [10, 20, 30]),\n",
        "    'lr_all': hp.uniform('lr_all', 0.001, 0.1),\n",
        "    'reg_all': hp.uniform('reg_all', 0.01, 0.2),\n",
        "    'random_state': 42\n",
        "}\n",
        "\n",
        "param_nmf = {\n",
        "        'n_factors': hp.choice('n_factors', [5, 10, 15, 20, 25]),\n",
        "        'n_epochs': hp.choice('n_epochs', [10, 20, 30, 40, 50]),\n",
        "        'biased': hp.choice('biased', [True, False]),\n",
        "        'reg_pu': hp.uniform('reg_pu', 0.001, 0.1),\n",
        "        'reg_qi': hp.uniform('reg_qi', 0.001, 0.1),\n",
        "        'lr_bu': hp.uniform('lr_bu', 0.001, 0.1),\n",
        "        'lr_bi': hp.uniform('lr_bi', 0.001, 0.1),\n",
        "        'random_state': 42\n",
        "    }"
      ],
      "metadata": {
        "id": "KioJXQjYYBJa"
      },
      "execution_count": 5,
      "outputs": []
    },
    {
      "cell_type": "code",
      "source": [
        "params = [param_svd,\n",
        "          param_svd,\n",
        "          param_nmf]\n",
        "models = [SVD,\n",
        "          SVDpp,\n",
        "          NMF]"
      ],
      "metadata": {
        "id": "tuOJ-c9DPREo"
      },
      "execution_count": 6,
      "outputs": []
    },
    {
      "cell_type": "markdown",
      "source": [
        "https://github.com/hyperopt/hyperopt/wiki/FMin"
      ],
      "metadata": {
        "id": "e25_TIojWyx6"
      }
    },
    {
      "cell_type": "code",
      "source": [
        "\n",
        "def objective(params, func):\n",
        "    model = func(**params)\n",
        "    results = cross_validate(model, data, measures=['RMSE'], cv=5, verbose=False)\n",
        "    return results['test_rmse'].mean()\n",
        "\n",
        "best_params = []\n",
        "for param, func in zip(params, models):\n",
        "    print('-------------------------')\n",
        "    print(f'Srart: {func.__name__}')\n",
        "    print('-------------------------')\n",
        "\n",
        "    best = fmin(fn=lambda params: objective(params, func), space=param, algo=tpe.suggest, max_evals=5)\n",
        "    best_params.append(best)\n"
      ],
      "metadata": {
        "colab": {
          "base_uri": "https://localhost:8080/"
        },
        "id": "v1_knE0p9Xee",
        "outputId": "f1e8b582-7d11-46a5-c774-1d3affa228c9"
      },
      "execution_count": 7,
      "outputs": [
        {
          "output_type": "stream",
          "name": "stdout",
          "text": [
            "-------------------------\n",
            "Srart: SVD\n",
            "-------------------------\n",
            "100%|██████████| 5/5 [00:47<00:00,  9.43s/trial, best loss: 0.9352651231913093]\n",
            "-------------------------\n",
            "Srart: SVDpp\n",
            "-------------------------\n",
            "100%|██████████| 5/5 [53:18<00:00, 639.78s/trial, best loss: 0.9177533856239064]\n",
            "-------------------------\n",
            "Srart: NMF\n",
            "-------------------------\n",
            "100%|██████████| 5/5 [00:32<00:00,  6.43s/trial, best loss: 1.3704223355350291]\n"
          ]
        }
      ]
    },
    {
      "cell_type": "code",
      "source": [
        "best_params"
      ],
      "metadata": {
        "id": "fFCLvipfdXlJ",
        "outputId": "69de18b3-8a47-4515-bce0-0fe7c8efd30f",
        "colab": {
          "base_uri": "https://localhost:8080/"
        }
      },
      "execution_count": 8,
      "outputs": [
        {
          "output_type": "execute_result",
          "data": {
            "text/plain": [
              "[{'lr_all': 0.004281257232894452,\n",
              "  'n_epochs': 2,\n",
              "  'n_factors': 2,\n",
              "  'reg_all': 0.12356955855587302},\n",
              " {'lr_all': 0.023100152820063505,\n",
              "  'n_epochs': 0,\n",
              "  'n_factors': 1,\n",
              "  'reg_all': 0.05442389272055986},\n",
              " {'biased': 1,\n",
              "  'lr_bi': 0.031422342908873815,\n",
              "  'lr_bu': 0.08974440446461929,\n",
              "  'n_epochs': 0,\n",
              "  'n_factors': 3,\n",
              "  'reg_pu': 0.07098843083429891,\n",
              "  'reg_qi': 0.004282008442886127}]"
            ]
          },
          "metadata": {},
          "execution_count": 8
        }
      ]
    },
    {
      "cell_type": "markdown",
      "source": [
        "# Висновки\n",
        "\n",
        "На основі результатів крос-валідації для різних алгоритмів матричної факторизації (SVD, SVD++, NMF), можна зробити такі висновки:\n",
        "\n",
        "1. SVD має середнє значення RMSE приблизно 0.93. Час навчання та тестування відносно низький.\n",
        "\n",
        "2. SVD++ має значення RMSE приблизно 0.917. Час тестування відносно високий, що може бути недоцільним у великих завданнях.\n",
        "\n",
        "3. NMF має значення RMSE приблизно 1.37. Час навчання та тестування прийнятний, але середня точність менше, ніж у SVD.\n",
        "\n",
        "За зазначеними метриками RMSE і MAE, SVD має найкращу точність серед цих алгоритмів. Таким чином, для цього конкретного завдання рекомендується використовувати алгоритм SVD для матричної факторизації."
      ],
      "metadata": {
        "id": "s2FgfBlNuzU3"
      }
    },
    {
      "cell_type": "code",
      "source": [],
      "metadata": {
        "id": "smOYEOZswMWa"
      },
      "execution_count": null,
      "outputs": []
    }
  ]
}