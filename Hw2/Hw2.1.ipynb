{
 "cells": [
  {
   "cell_type": "markdown",
   "id": "c6a0c3e3-23ec-4edd-8a31-990cae274357",
   "metadata": {},
   "source": [
    "# Імпорт модулів"
   ]
  },
  {
   "cell_type": "code",
   "execution_count": 6,
   "id": "d6b6cff5-7ea8-4a23-b5d8-d955d36ebec4",
   "metadata": {},
   "outputs": [],
   "source": [
    "import numpy as np\n",
    "import pandas as pd\n",
    "import matplotlib.pyplot as plt"
   ]
  },
  {
   "cell_type": "markdown",
   "id": "e5e852ce-5caa-4016-8153-c2d8f49d8946",
   "metadata": {},
   "source": [
    "# Зчитуємо таблиці і шукаєио необхідну"
   ]
  },
  {
   "cell_type": "code",
   "execution_count": 7,
   "id": "c4043147-8820-40c3-8721-88056ec83267",
   "metadata": {},
   "outputs": [],
   "source": [
    "url = 'https://uk.wikipedia.org/wiki/%D0%9D%D0%B0%D1%81%D0%B5%D0%BB%D0%B5%D0%BD%D0%BD%D1%8F_%D0%A3%D0%BA%D1%80%D0%B0%D1%97%D0%BD%D0%B8'  \n",
    "table = pd.read_html(url, match=\"Коефіцієнт народжуваності [у|в] регіонах України .*\")"
   ]
  },
  {
   "cell_type": "code",
   "execution_count": 8,
   "id": "f9817b24-18e2-4aaf-a0fd-faab98cf9f54",
   "metadata": {},
   "outputs": [],
   "source": [
    "df = pd.DataFrame(table[0])"
   ]
  },
  {
   "cell_type": "markdown",
   "id": "bd613273-a3e5-49e9-bc61-4a058cf16c4f",
   "metadata": {},
   "source": [
    "# 1. Вивести перші рядки таблиці за допомогою методу head"
   ]
  },
  {
   "cell_type": "code",
   "execution_count": 9,
   "id": "a2cea4f9-5829-425c-ba55-dd33a27f35ba",
   "metadata": {},
   "outputs": [
    {
     "data": {
      "text/html": [
       "<div>\n",
       "<style scoped>\n",
       "    .dataframe tbody tr th:only-of-type {\n",
       "        vertical-align: middle;\n",
       "    }\n",
       "\n",
       "    .dataframe tbody tr th {\n",
       "        vertical-align: top;\n",
       "    }\n",
       "\n",
       "    .dataframe thead th {\n",
       "        text-align: right;\n",
       "    }\n",
       "</style>\n",
       "<table border=\"1\" class=\"dataframe\">\n",
       "  <thead>\n",
       "    <tr style=\"text-align: right;\">\n",
       "      <th></th>\n",
       "      <th>Регіон</th>\n",
       "      <th>1950</th>\n",
       "      <th>1960</th>\n",
       "      <th>1970</th>\n",
       "      <th>1990</th>\n",
       "      <th>2000</th>\n",
       "      <th>2012</th>\n",
       "      <th>2014</th>\n",
       "      <th>2019</th>\n",
       "    </tr>\n",
       "  </thead>\n",
       "  <tbody>\n",
       "    <tr>\n",
       "      <th>0</th>\n",
       "      <td>Крим</td>\n",
       "      <td>230.0</td>\n",
       "      <td>206.0</td>\n",
       "      <td>160.0</td>\n",
       "      <td>130</td>\n",
       "      <td>73</td>\n",
       "      <td>126</td>\n",
       "      <td>—</td>\n",
       "      <td>—</td>\n",
       "    </tr>\n",
       "    <tr>\n",
       "      <th>1</th>\n",
       "      <td>Вінницька</td>\n",
       "      <td>224.0</td>\n",
       "      <td>192.0</td>\n",
       "      <td>142.0</td>\n",
       "      <td>124</td>\n",
       "      <td>84</td>\n",
       "      <td>112</td>\n",
       "      <td>109</td>\n",
       "      <td>76</td>\n",
       "    </tr>\n",
       "    <tr>\n",
       "      <th>2</th>\n",
       "      <td>Волинська</td>\n",
       "      <td>247.0</td>\n",
       "      <td>250.0</td>\n",
       "      <td>179.0</td>\n",
       "      <td>153</td>\n",
       "      <td>112</td>\n",
       "      <td>148</td>\n",
       "      <td>141</td>\n",
       "      <td>101</td>\n",
       "    </tr>\n",
       "    <tr>\n",
       "      <th>3</th>\n",
       "      <td>Дніпропетровська</td>\n",
       "      <td>204.0</td>\n",
       "      <td>204.0</td>\n",
       "      <td>151.0</td>\n",
       "      <td>123</td>\n",
       "      <td>71</td>\n",
       "      <td>112</td>\n",
       "      <td>111</td>\n",
       "      <td>71</td>\n",
       "    </tr>\n",
       "    <tr>\n",
       "      <th>4</th>\n",
       "      <td>Донецька</td>\n",
       "      <td>271.0</td>\n",
       "      <td>214.0</td>\n",
       "      <td>140.0</td>\n",
       "      <td>109</td>\n",
       "      <td>61</td>\n",
       "      <td>98</td>\n",
       "      <td>82</td>\n",
       "      <td>—</td>\n",
       "    </tr>\n",
       "  </tbody>\n",
       "</table>\n",
       "</div>"
      ],
      "text/plain": [
       "             Регіон   1950   1960   1970  1990  2000  2012 2014 2019\n",
       "0              Крим  230.0  206.0  160.0   130    73   126    —    —\n",
       "1         Вінницька  224.0  192.0  142.0   124    84   112  109   76\n",
       "2         Волинська  247.0  250.0  179.0   153   112   148  141  101\n",
       "3  Дніпропетровська  204.0  204.0  151.0   123    71   112  111   71\n",
       "4          Донецька  271.0  214.0  140.0   109    61    98   82    —"
      ]
     },
     "execution_count": 9,
     "metadata": {},
     "output_type": "execute_result"
    }
   ],
   "source": [
    "df.head()"
   ]
  },
  {
   "cell_type": "markdown",
   "id": "756a4656-8ab6-4f07-87a6-56ee02aba4d5",
   "metadata": {},
   "source": [
    "# 2. Визначте кількість рядків та стовпців у датафреймі"
   ]
  },
  {
   "cell_type": "code",
   "execution_count": 10,
   "id": "39c19449-7628-45d5-a62d-7d41cb92a454",
   "metadata": {},
   "outputs": [
    {
     "name": "stdout",
     "output_type": "stream",
     "text": [
      "Кількість рядків: 28\n",
      "Кількість стовбців: 9\n"
     ]
    }
   ],
   "source": [
    "num_rows, num_columns = df.shape\n",
    "\n",
    "print(f\"Кількість рядків: {num_rows}\")\n",
    "print(f\"Кількість стовбців: {num_columns}\")"
   ]
  },
  {
   "cell_type": "markdown",
   "id": "e226ab39-84f6-4738-90c8-dc47e1ba3c60",
   "metadata": {},
   "source": [
    "# 3. Замініть у таблиці значення \"—\" на значення NaN"
   ]
  },
  {
   "cell_type": "code",
   "execution_count": 11,
   "id": "2ad53c17-cfad-476b-a341-01fd0a6abfa4",
   "metadata": {},
   "outputs": [],
   "source": [
    "df.replace(\"—\", np.nan, inplace=True)"
   ]
  },
  {
   "cell_type": "markdown",
   "id": "bc26a7ee-55a0-4321-bff4-71921fe60208",
   "metadata": {},
   "source": [
    "# 4. Визначте типи всіх стовпців за допомогою `dataframe.dtypes`"
   ]
  },
  {
   "cell_type": "code",
   "execution_count": 12,
   "id": "d1b6af2e-9fe6-44f8-9cd9-86b2d7da7131",
   "metadata": {},
   "outputs": [
    {
     "data": {
      "text/plain": [
       "Регіон     object\n",
       "1950      float64\n",
       "1960      float64\n",
       "1970      float64\n",
       "1990        int64\n",
       "2000        int64\n",
       "2012        int64\n",
       "2014       object\n",
       "2019       object\n",
       "dtype: object"
      ]
     },
     "execution_count": 12,
     "metadata": {},
     "output_type": "execute_result"
    }
   ],
   "source": [
    "df.dtypes"
   ]
  },
  {
   "cell_type": "markdown",
   "id": "aac2874c-e2a7-427c-a6a5-5aeb733c3220",
   "metadata": {},
   "source": [
    "# 5. Замініть типи нечислових колонок на числові."
   ]
  },
  {
   "cell_type": "code",
   "execution_count": 56,
   "id": "049fc5d3",
   "metadata": {},
   "outputs": [
    {
     "data": {
      "text/plain": [
       "Регіон     object\n",
       "1950      float64\n",
       "1960      float64\n",
       "1970      float64\n",
       "1990        int64\n",
       "2000        int64\n",
       "2012        int64\n",
       "2014        int32\n",
       "2019        int32\n",
       "dtype: object"
      ]
     },
     "execution_count": 56,
     "metadata": {},
     "output_type": "execute_result"
    }
   ],
   "source": [
    "df['2014'] = df['2014'].astype(int)\n",
    "df['2019'] = df['2019'].astype(int)\n",
    "df.dtypes"
   ]
  },
  {
   "cell_type": "markdown",
   "id": "87c45819-e979-4f43-9547-06bd5f3b498b",
   "metadata": {},
   "source": [
    "# 6. Порахуйте, яка частка пропусків міститься в кожній колонці"
   ]
  },
  {
   "cell_type": "code",
   "execution_count": 72,
   "id": "25706fe7-7895-4f4b-bada-9724dd29530a",
   "metadata": {},
   "outputs": [
    {
     "data": {
      "text/plain": [
       "Регіон    0.0\n",
       "1950      0.0\n",
       "1960      0.0\n",
       "1970      0.0\n",
       "1990      0.0\n",
       "2000      0.0\n",
       "2012      0.0\n",
       "2014      0.0\n",
       "2019      0.0\n",
       "dtype: float64"
      ]
     },
     "execution_count": 72,
     "metadata": {},
     "output_type": "execute_result"
    }
   ],
   "source": [
    "(df.isnull().sum() / len(df)) * 100"
   ]
  },
  {
   "cell_type": "markdown",
   "id": "340e4c38-5edc-44a4-854a-228faf014c04",
   "metadata": {},
   "source": [
    "# 7. Видаліть з таблиці дані по всій країні, останній рядок таблиці"
   ]
  },
  {
   "cell_type": "code",
   "execution_count": 59,
   "id": "6ec0e6e1-2c97-4b2f-83b6-59e7903b0805",
   "metadata": {},
   "outputs": [
    {
     "data": {
      "text/html": [
       "<div>\n",
       "<style scoped>\n",
       "    .dataframe tbody tr th:only-of-type {\n",
       "        vertical-align: middle;\n",
       "    }\n",
       "\n",
       "    .dataframe tbody tr th {\n",
       "        vertical-align: top;\n",
       "    }\n",
       "\n",
       "    .dataframe thead th {\n",
       "        text-align: right;\n",
       "    }\n",
       "</style>\n",
       "<table border=\"1\" class=\"dataframe\">\n",
       "  <thead>\n",
       "    <tr style=\"text-align: right;\">\n",
       "      <th></th>\n",
       "      <th>Регіон</th>\n",
       "      <th>1950</th>\n",
       "      <th>1960</th>\n",
       "      <th>1970</th>\n",
       "      <th>1990</th>\n",
       "      <th>2000</th>\n",
       "      <th>2012</th>\n",
       "      <th>2014</th>\n",
       "      <th>2019</th>\n",
       "    </tr>\n",
       "  </thead>\n",
       "  <tbody>\n",
       "    <tr>\n",
       "      <th>21</th>\n",
       "      <td>Хмельницька</td>\n",
       "      <td>234.00</td>\n",
       "      <td>198.0</td>\n",
       "      <td>148.0</td>\n",
       "      <td>129</td>\n",
       "      <td>85</td>\n",
       "      <td>113</td>\n",
       "      <td>112</td>\n",
       "      <td>79</td>\n",
       "    </tr>\n",
       "    <tr>\n",
       "      <th>22</th>\n",
       "      <td>Черкаська</td>\n",
       "      <td>205.00</td>\n",
       "      <td>179.0</td>\n",
       "      <td>144.0</td>\n",
       "      <td>123</td>\n",
       "      <td>75</td>\n",
       "      <td>100</td>\n",
       "      <td>98</td>\n",
       "      <td>64</td>\n",
       "    </tr>\n",
       "    <tr>\n",
       "      <th>23</th>\n",
       "      <td>Чернівецька</td>\n",
       "      <td>247.00</td>\n",
       "      <td>218.0</td>\n",
       "      <td>170.0</td>\n",
       "      <td>148</td>\n",
       "      <td>101</td>\n",
       "      <td>128</td>\n",
       "      <td>129</td>\n",
       "      <td>92</td>\n",
       "    </tr>\n",
       "    <tr>\n",
       "      <th>24</th>\n",
       "      <td>Чернігівська</td>\n",
       "      <td>220.00</td>\n",
       "      <td>183.0</td>\n",
       "      <td>127.0</td>\n",
       "      <td>108</td>\n",
       "      <td>69</td>\n",
       "      <td>94</td>\n",
       "      <td>90</td>\n",
       "      <td>61</td>\n",
       "    </tr>\n",
       "    <tr>\n",
       "      <th>25</th>\n",
       "      <td>Київ</td>\n",
       "      <td>231.04</td>\n",
       "      <td>174.0</td>\n",
       "      <td>159.0</td>\n",
       "      <td>120</td>\n",
       "      <td>73</td>\n",
       "      <td>120</td>\n",
       "      <td>121</td>\n",
       "      <td>110</td>\n",
       "    </tr>\n",
       "  </tbody>\n",
       "</table>\n",
       "</div>"
      ],
      "text/plain": [
       "          Регіон    1950   1960   1970  1990  2000  2012  2014  2019\n",
       "21   Хмельницька  234.00  198.0  148.0   129    85   113   112    79\n",
       "22     Черкаська  205.00  179.0  144.0   123    75   100    98    64\n",
       "23   Чернівецька  247.00  218.0  170.0   148   101   128   129    92\n",
       "24  Чернігівська  220.00  183.0  127.0   108    69    94    90    61\n",
       "25          Київ  231.04  174.0  159.0   120    73   120   121   110"
      ]
     },
     "execution_count": 59,
     "metadata": {},
     "output_type": "execute_result"
    }
   ],
   "source": [
    "df.drop(df.index[-1], inplace=True)\n",
    "df.tail()"
   ]
  },
  {
   "cell_type": "markdown",
   "id": "ba687702-8b03-4d4e-8da8-64a4264c136b",
   "metadata": {},
   "source": [
    "# 8. Замініть відсутні дані в стовпцях середніми значеннями цих стовпців (метод fillna)"
   ]
  },
  {
   "cell_type": "code",
   "execution_count": 64,
   "id": "b2b04254-9bef-4e39-bdee-da48b83ebc77",
   "metadata": {},
   "outputs": [
    {
     "data": {
      "text/plain": [
       "1950    231.0\n",
       "1960    208.0\n",
       "1970    156.0\n",
       "1990    131.0\n",
       "2000     83.0\n",
       "2012    116.0\n",
       "2014    113.0\n",
       "2019     89.0\n",
       "dtype: float64"
      ]
     },
     "execution_count": 64,
     "metadata": {},
     "output_type": "execute_result"
    }
   ],
   "source": [
    "df.drop('Регіон', axis=1).mean(numeric_only=True).round(0)"
   ]
  },
  {
   "cell_type": "code",
   "execution_count": 73,
   "id": "a5099112",
   "metadata": {},
   "outputs": [],
   "source": [
    "df.fillna(_, inplace=True)"
   ]
  },
  {
   "cell_type": "markdown",
   "id": "b2a9d942-bb43-42b0-8640-4ad12a484644",
   "metadata": {},
   "source": [
    "# 9. Отримайте список регіонів, де рівень народжуваності у 2019 році був вищим за середній по Україні"
   ]
  },
  {
   "cell_type": "code",
   "execution_count": 74,
   "id": "db2a4a6f-af7c-4f01-ae59-e7e027502e06",
   "metadata": {},
   "outputs": [
    {
     "data": {
      "text/plain": [
       "['Крим',\n",
       " 'Волинська',\n",
       " 'Донецька',\n",
       " 'Закарпатська',\n",
       " 'Луганська',\n",
       " 'Рівненська',\n",
       " 'Чернівецька',\n",
       " 'Київ']"
      ]
     },
     "execution_count": 74,
     "metadata": {},
     "output_type": "execute_result"
    }
   ],
   "source": [
    "YEAR = '2019'\n",
    "COL_NAME = 'Регіон'\n",
    "condition = df[YEAR] > df.mean(numeric_only=True)[YEAR]\n",
    "df[condition][COL_NAME].tolist()"
   ]
  },
  {
   "cell_type": "markdown",
   "id": "5c20660c-5cfc-4f7a-9d34-4d1804d7d534",
   "metadata": {},
   "source": [
    "# 10. У якому регіоні була найвища народжуваність у 2014 році?"
   ]
  },
  {
   "cell_type": "code",
   "execution_count": 70,
   "id": "e25d4865-6f53-4820-b20a-244310863933",
   "metadata": {},
   "outputs": [
    {
     "data": {
      "text/plain": [
       "'Крим'"
      ]
     },
     "execution_count": 70,
     "metadata": {},
     "output_type": "execute_result"
    }
   ],
   "source": [
    "df.loc[df[YEAR].idxmax(), COL_NAME]"
   ]
  },
  {
   "cell_type": "markdown",
   "id": "fdcd036c-e80e-4637-a120-ff2cf46754bd",
   "metadata": {},
   "source": [
    "# 11. Побудуйте стовпчикову діаграму народжуваності по регіонах у 2019 році"
   ]
  },
  {
   "cell_type": "code",
   "execution_count": 71,
   "id": "7fbaca54-6325-4954-83de-ff71a37de7e0",
   "metadata": {},
   "outputs": [
    {
     "data": {
      "image/png": "[encoded data removed]",
      "text/plain": [
       "<Figure size 800x400 with 1 Axes>"
      ]
     },
     "metadata": {},
     "output_type": "display_data"
    }
   ],
   "source": [
    "plt.style.use('ggplot')\n",
    "plt.figure(figsize=(8, 4)) \n",
    "plt.bar(df[COL_NAME], df[YEAR], color='b')\n",
    "plt.xticks(rotation=45, ha='right')\n",
    "plt.ylabel('Коефіцієнт народжуваності')\n",
    "plt.show()"
   ]
  }
 ],
 "metadata": {
  "kernelspec": {
   "display_name": "Python 3 (ipykernel)",
   "language": "python",
   "name": "python3"
  },
  "language_info": {
   "codemirror_mode": {
    "name": "ipython",
    "version": 3
   },
   "file_extension": ".py",
   "mimetype": "text/x-python",
   "name": "python",
   "nbconvert_exporter": "python",
   "pygments_lexer": "ipython3",
   "version": "3.11.3"
  }
 },
 "nbformat": 4,
 "nbformat_minor": 5
}
