{
 "cells": [
  {
   "cell_type": "markdown",
   "metadata": {
    "id": "b0Yf4NBJUSNM",
    "pycharm": {
     "name": "#%% md\n"
    }
   },
   "source": [
    "# Створення нейронної мережі\n",
    "\n",
    "У цьому завданні ми створимо повнозв'язну нейронну мережу, використовуючи при цьому низькорівневі механізми tensorflow.\n",
    "\n",
    "Архітектура нейромережі представлена на наступному малюнку. Як бачиш, у ній є один вхідний шар, два приховані, а також вихідний шар. В якості активаційної функції у прихованих шарах буде використовуватись сигмоїда. На вихідному шарі ми використовуємо softmax.\n",
    "\n",
    "Частина коду зі створення мережі вже написана, тобі потрібно заповнити пропуски у вказаних місцях."
   ]
  },
  {
   "cell_type": "markdown",
   "metadata": {
    "id": "01rZWUu0USNQ",
    "pycharm": {
     "name": "#%% md\n"
    }
   },
   "source": [
    "## Архітектура нейронної мережі\n",
    "\n",
    "<img src=\"http://cs231n.github.io/assets/nn1/neural_net2.jpeg\" alt=\"nn\" style=\"width: 400px;\"/>\n"
   ]
  },
  {
   "cell_type": "markdown",
   "metadata": {
    "id": "LLvIZ705Qw_V",
    "pycharm": {
     "name": "#%% md\n"
    }
   },
   "source": [
    "## Про датасет MNIST\n",
    "\n",
    "Дану нейромережу ми будемо вивчати на датасеті MNIST. Цей датасет являє собою велику кількість зображень рукописних цифр розміром $28 \\times 28$ пікселів. Кожен піксель приймає значення від 0 до 255.\n",
    "\n",
    "Як і раніше, датасет буде розділений на навчальну та тестову вибірки. При цьому ми виконаємо нормалізацію всіх зображень, щоб значення пікселів знаходилось у проміжку від 0 до 1, розділивши яскравість кожного пікселя на 255.\n",
    "\n",
    "Окрім того, архітектура нейронної мережі очікує на вхід вектор. У нашому ж випадку кожен об'єкт вибірки являє собою матрицю. Що ж робити? У цьому завданні ми \"розтягнемо\" матрицю $28 \\times 28$, отримавши при цьому вектор, що складається з 784 елементів.\n",
    "\n",
    "![MNIST Dataset](https://upload.wikimedia.org/wikipedia/commons/f/f7/MnistExamplesModified.png)\n",
    "\n",
    "Більше інформації про датасет можна знайти [тут](http://yann.lecun.com/exdb/mnist/)."
   ]
  },
  {
   "cell_type": "code",
   "execution_count": null,
   "metadata": {
    "id": "il_0_5OyUSNR",
    "pycharm": {
     "name": "#%%\n"
    }
   },
   "outputs": [],
   "source": [
    "import tensorflow as tf\n",
    "import numpy as np\n",
    "import pandas as pd\n",
    "import matplotlib.pyplot as plt\n",
    "import random\n",
    "import keras as K\n",
    "import seaborn as sns\n",
    "from sklearn.metrics import confusion_matrix\n"
   ]
  },
  {
   "cell_type": "markdown",
   "metadata": {},
   "source": [
    "# Константи"
   ]
  },
  {
   "cell_type": "code",
   "execution_count": null,
   "metadata": {
    "id": "cd-1_abTUSNS",
    "pycharm": {
     "name": "#%%\n"
    }
   },
   "outputs": [],
   "source": [
    "num_classes = 10  # загальна кількість класів, у нашому випадку це цифри від 0 до 9\n",
    "num_features = 784  # кількість атрибутів вхідного вектора 28 * 28 = 784\n",
    "\n",
    "learning_rate = 0.001  # швидкість навчання нейронної мережі\n",
    "training_steps = 3000  # максимальне число епох\n",
    "batch_size = 256  # перераховувати ваги мережі ми будемо не на всій вибірці, а на її випадковій підмножині з batch_size елементів\n",
    "# кожні 100 ітерацій ми будемо показувати поточне значення функції втрат і точності\n",
    "display_step = 100\n",
    "\n",
    "n_hidden_1 = 128  # кількість нейронів 1-го шару\n",
    "n_hidden_2 = 256  # кількість нейронів 2-го шару\n"
   ]
  },
  {
   "cell_type": "code",
   "execution_count": null,
   "metadata": {
    "id": "pGTXiRyTUSNT",
    "pycharm": {
     "name": "#%%\n"
    }
   },
   "outputs": [],
   "source": [
    "from keras.datasets import mnist\n",
    "\n",
    "# Завантажуємо датасет\n",
    "(x_train, y_train), (x_test, y_test) = mnist.load_data()\n",
    "\n",
    "# Перетворюємо цілочисельні пікселі на тип float32\n",
    "x_train, x_test = np.array(x_train, np.float32), np.array(x_test, np.float32)\n",
    "\n",
    "# Перетворюємо матриці розміром 28x28 пікселів у вектор з 784 елементів\n",
    "x_train, x_test = x_train.reshape(\n",
    "    [-1, num_features]), x_test.reshape([-1, num_features])\n",
    "\n",
    "# Нормалізуємо значення пікселів\n",
    "x_train, x_test = x_train / 255., x_test / 255.\n",
    "\n",
    "# Перемішаємо тренувальні дані\n",
    "train_data = tf.data.Dataset.from_tensor_slices((x_train, y_train))\n",
    "train_data = train_data.repeat().shuffle(5000).batch(batch_size).prefetch(1)\n"
   ]
  },
  {
   "cell_type": "markdown",
   "metadata": {},
   "source": [
    "# Створення нейронної мережі\n",
    "\n",
    "Структура мережі\n",
    "\n",
    "1. Один вхідний шар `input_layer`. Кількість нейронів - 784 (вхідні ознаки для кожного пікселя зображення розміром $28 \\times 28$ пікселів).\n",
    "2. Перший прихований шар `hidden_layer_1`. Кількість нейронів - 128 (згідно з `n_hidden_1`).\n",
    "3. Другий прихований шар `hidden_layer_2`. Кількість нейронів - 256 (згідно з `n_hidden_2`).\n",
    "4. Вихідний шар `output_layer`. Кількість нейронів - 10 (кількість класів, відповідаючих цифрам від 0 до 9).\n",
    "   \n",
    "В якості активаційної функції у прихованих шарах буде використовуватись сигмоїда `tf.nn.sigmoid`. На вихідному шарі ми використовуємо softmax `tf.nn.softmax`.\n",
    "\n",
    "<img src=\"https://osu-wams-blogs-uploads.s3.amazonaws.com/blogs.dir/5125/files/2022/02/Screen-Shot-2022-02-03-at-11.54.06-PM.png\" alt=\"nnmnist\" style=\"width: 400px;\"/>\n",
    "\n"
   ]
  },
  {
   "cell_type": "code",
   "execution_count": null,
   "metadata": {
    "id": "FkRmCQjnUSNV",
    "pycharm": {
     "name": "#%%\n"
    }
   },
   "outputs": [],
   "source": [
    "# Створимо нейронну мережу\n",
    "\n",
    "class DenseLayer(tf.Module):\n",
    "    \"\"\"\n",
    "    A custom dense (fully connected) layer for neural networks.\n",
    "\n",
    "    This class represents a dense layer that performs a linear transformation\n",
    "    followed by a sigmoid activation function.\n",
    "\n",
    "    Attributes:\n",
    "        in_features (int): The number of input features.\n",
    "        out_features (int): The number of output features.\n",
    "        name (str, optional): The name of the layer.\n",
    "\n",
    "    Methods:\n",
    "        __init__(self, in_features, out_features, name=None):\n",
    "            Initializes the dense layer with random weights and zeros for bias.\n",
    "        __call__(self, x):\n",
    "            Applies the dense layer to the input tensor x.\n",
    "\n",
    "    Example usage:\n",
    "    dense_layer = DenseLayer(64, 128, name=\"hidden_layer\")\n",
    "    output = dense_layer(input_data)\n",
    "    \"\"\"\n",
    "\n",
    "    def __init__(self, in_features, out_features, name=None):\n",
    "        super().__init__(name=name)\n",
    "\n",
    "        # Initialize weights with random values\n",
    "        self.w = tf.Variable(\n",
    "            tf.random.normal([in_features, out_features]), name=\"w\"\n",
    "        )\n",
    "\n",
    "        # Initialize bias with zeros\n",
    "        self.b = tf.Variable(tf.zeros([out_features]), name=\"b\")\n",
    "\n",
    "    def __call__(self, x, activation=0):\n",
    "        \"\"\"\n",
    "        Apply the dense layer to the input tensor.\n",
    "\n",
    "        Args:\n",
    "            x (tf.Tensor): The input tensor.\n",
    "\n",
    "        Returns:\n",
    "            tf.Tensor: The output tensor after applying the dense layer.\n",
    "        \"\"\"\n",
    "\n",
    "        sigma = x @ self.w + self.b\n",
    "\n",
    "        if activation != 0:\n",
    "            return tf.nn.softmax(sigma)\n",
    "        else:\n",
    "            return tf.nn.sigmoid(sigma)\n",
    "\n",
    "\n",
    "class NN(tf.Module):\n",
    "    def __init__(self, name=None):\n",
    "        super().__init__(name=name)\n",
    "        # Перший шар, який складається з 128 нейронів\n",
    "        self.layer1 = DenseLayer(\n",
    "            num_features, n_hidden_1, name='hidden_layer1'\n",
    "        )\n",
    "\n",
    "        # Другий шар, який складається з 256 нейронів\n",
    "        self.layer2 = DenseLayer(\n",
    "            n_hidden_1, n_hidden_2, name='hidden_layer2'\n",
    "        )\n",
    "\n",
    "        # Вихідний шар\n",
    "        self.out_layer = DenseLayer(\n",
    "            n_hidden_2, num_classes, name='output_layer'\n",
    "        )\n",
    "\n",
    "    def __call__(self, x):\n",
    "        # Передача даних через перші два шари з функцією активації sigmoid\n",
    "        x = self.layer1(x, activation=0)\n",
    "        x = self.layer2(x, activation=0)\n",
    "\n",
    "        # Передача у вихідний шар з функцією softmax\n",
    "        x = self.out_layer(x, activation=1)\n",
    "\n",
    "        return x\n"
   ]
  },
  {
   "cell_type": "markdown",
   "metadata": {},
   "source": [
    "# Метрики"
   ]
  },
  {
   "cell_type": "code",
   "execution_count": null,
   "metadata": {
    "id": "LIf3o7VAUSNV",
    "pycharm": {
     "name": "#%%\n"
    }
   },
   "outputs": [],
   "source": [
    "# У якості функції помилки в даному випадку зручно взяти крос-ентропію\n",
    "def cross_entropy(p_pred, y_true):\n",
    "    # Закодувати label в one hot vector\n",
    "    y_true = tf.one_hot(y_true, depth=num_classes)\n",
    "\n",
    "    # Значення передбачення, щоб уникнути помилки log(0).\n",
    "    p_pred = tf.clip_by_value(p_pred, 1e-9, 1.)\n",
    "\n",
    "    # Обчислення крос-ентропії\n",
    "    return tf.reduce_mean(-tf.reduce_sum(y_true * tf.math.log(p_pred)))\n",
    "\n",
    "# Як метрику якості використовуємо точність\n",
    "\n",
    "\n",
    "def accuracy(p_pred, y_true):\n",
    "    \"\"\"\n",
    "    Обчислює точність класифікації на основі передбачених класів та справжніх міток.\n",
    "\n",
    "    Параметри:\n",
    "    ----------\n",
    "    p_pred (tf.Tensor): Тензор, який містить передбачені ймовірності для кожного класу для кожного прикладу.\n",
    "    y_true (tf.Tensor): Тензор, який містить справжні класи (мітки) для кожного прикладу.\n",
    "\n",
    "    Повертає:\n",
    "    ---------\n",
    "    Точність класифікації, від 0 до 1.\n",
    "\n",
    "    Примітки:\n",
    "    ---------\n",
    "    Ця функція порівнює передбачені класи (на основі ймовірностей в p_pred) зі\n",
    "    справжніми мітками у y_true та обчислює точність класифікації.\n",
    "\n",
    "    \"\"\"\n",
    "\n",
    "    # Знайдемо індекс максимальної ймовірності у векторі p_pred\n",
    "    # Індекс є нашою цифрою\n",
    "    predicted_class = tf.argmax(p_pred, axis=1)\n",
    "\n",
    "    # Порівняємо передбачені класи зі справжніми мітками\n",
    "    correct_prediction = (predicted_class == tf.cast(y_true, tf.int64))\n",
    "\n",
    "    # Обчислимо точність\n",
    "    accuracy = tf.reduce_mean(tf.cast(correct_prediction, tf.float32))\n",
    "\n",
    "    return accuracy\n"
   ]
  },
  {
   "cell_type": "markdown",
   "metadata": {},
   "source": [
    "# Екземпляр мережі та функція тренування"
   ]
  },
  {
   "cell_type": "code",
   "execution_count": null,
   "metadata": {
    "id": "MQeT1yatUSNW",
    "pycharm": {
     "name": "#%%\n"
    }
   },
   "outputs": [],
   "source": [
    "# Створимо екземпляр нейронної мережі\n",
    "neural_net = NN(name=\"mnist\")\n",
    "\n",
    "# Функція навчання нейромережі\n",
    "\n",
    "\n",
    "def train(neural_net, input_x, output_y):\n",
    "    # Для налаштування вагів мережі будемо використовувати стохастичний градієнтний спуск\n",
    "    optimizer = tf.optimizers.SGD(learning_rate)\n",
    "\n",
    "    # Активація автоматичного диференціювання\n",
    "    with tf.GradientTape() as tape:\n",
    "        pred = neural_net(input_x)\n",
    "        loss = cross_entropy(pred, output_y)\n",
    "\n",
    "        # Отримаємо список оптимізованих параметрів\n",
    "        trainable_variables = neural_net.trainable_variables\n",
    "\n",
    "        # Обчислимо за ними значення градієнта\n",
    "        gradient = tape.gradient(loss, trainable_variables)\n",
    "\n",
    "        # Модифікуємо параметри\n",
    "        optimizer.apply_gradients(zip(gradient, trainable_variables))\n"
   ]
  },
  {
   "cell_type": "markdown",
   "metadata": {},
   "source": [
    "# Тренування мережі"
   ]
  },
  {
   "cell_type": "code",
   "execution_count": null,
   "metadata": {
    "id": "fnyns9lBfpQZ",
    "pycharm": {
     "name": "#%%\n"
    }
   },
   "outputs": [],
   "source": [
    "# Тренування мережі\n",
    "\n",
    "# кожні display_step кроків зберігай в цьому списку поточну помилку нейромережі\n",
    "loss_history = []\n",
    "# кожні display_step кроків зберігай в цьому списку поточну точність нейромережі\n",
    "accuracy_history = []\n",
    "steps = []\n",
    "line = '+------+---------+----------+'\n",
    "head = '| Step |  Loss   | Accuracy |'\n",
    "print(line)\n",
    "print(head)\n",
    "# У цьому циклі ми будемо проводити навчання нейронної мережі\n",
    "# із тренувального датасета train_data вилучи випадкову підмножину, на якій\n",
    "# відбудеться тренування. Використовуй метод take, доступний для тренувального датасета.\n",
    "for step, (batch_x, batch_y) in enumerate(train_data.take(training_steps), 1):\n",
    "    # Оновлюємо ваги нейронної мережі\n",
    "    train(neural_net, batch_x, batch_y)\n",
    "\n",
    "    if step % display_step == 0:\n",
    "        pred = neural_net(batch_x)\n",
    "        loss = cross_entropy(pred, batch_y)\n",
    "        acc = accuracy(pred, batch_y)\n",
    "        loss_history.append(loss)\n",
    "        accuracy_history.append(acc)\n",
    "        steps.append(step)\n",
    "        print(line)\n",
    "        print(f'| {step:<4d} | {loss:>7.1f} | {acc:=8.2f} |')\n",
    "else:\n",
    "    print(line)\n"
   ]
  },
  {
   "cell_type": "code",
   "execution_count": null,
   "metadata": {
    "id": "_yCBfG6MbQB2",
    "pycharm": {
     "name": "#%%\n"
    }
   },
   "outputs": [],
   "source": [
    "# Виведіть графіки залежності зміни точності і втрат від кроку\n",
    "# Якщо все зроблено правильно, то точність повинна зростати, а втрати зменшуватись\n",
    "\n",
    "fig, ax1 = plt.subplots(figsize=(6, 6))\n",
    "ax2 = ax1.twinx()\n",
    "\n",
    "# Графік функції втрат\n",
    "ax1.plot(steps, loss_history, linestyle='-', color='b', label='Loss')\n",
    "ax1.set_title('Plot of loss function and accuracy')\n",
    "ax1.set_xlabel('Step')\n",
    "ax1.set_ylabel('Loss function', color='b')\n",
    "ax1.tick_params(axis='y', labelcolor='b')\n",
    "ax1.legend(loc='upper left')\n",
    "\n",
    "# Графік точності\n",
    "ax2.plot(steps, accuracy_history, linestyle='-', color='r', label='Accuracy')\n",
    "ax2.set_ylabel('Accuracy', color='r')\n",
    "ax2.tick_params(axis='y', labelcolor='r')\n",
    "ax2.legend(loc='upper right')\n",
    "\n",
    "plt.show()\n"
   ]
  },
  {
   "cell_type": "code",
   "execution_count": null,
   "metadata": {
    "id": "_EEHAubOUSNY",
    "pycharm": {
     "name": "#%%\n"
    }
   },
   "outputs": [],
   "source": [
    "# Протестуйте навчену нейромережу на 10 зображеннях. З тестової вибірки візьміть 5\n",
    "# випадкових зображень і передайте їх у нейронну мережу.\n",
    "# Виведіть зображення та випишіть  поруч відповідь нейромережі.\n",
    "# Зробіть висновок про те, чи помиляється твоя нейронна мережа, і якщо так, то як часто?\n",
    "\n",
    "# Виберемо 5 випадкових зображень з тестової вибірки\n",
    "sample_size = 5\n",
    "acc_list = []\n",
    "for iteration in range(10):\n",
    "    random_indices = np.random.choice(x_test.shape[0], sample_size)\n",
    "    test_images = x_test[random_indices]\n",
    "    test_numbers = y_test[random_indices]\n",
    "\n",
    "    # Прогнозуємо йовірності вибраних зображень\n",
    "    p_pred = neural_net(test_images)\n",
    "\n",
    "    # На основі ймовірностей прогнозуємо клас\n",
    "    pred_numbers = tf.argmax(p_pred, axis=1).numpy()\n",
    "\n",
    "    # Виведемо зображення та випишемо поруч відповідь нейромережі\n",
    "    plt.figure(figsize=(8, 4))\n",
    "    for i in range(sample_size):\n",
    "        plt.subplot(1, sample_size, i + 1)\n",
    "        plt.imshow(test_images[i].reshape((28, 28)), cmap='Blues')\n",
    "        plt.title(\n",
    "            f\"True: {test_numbers[i]}\\nPred: {pred_numbers[i]}\", fontsize=8)\n",
    "        plt.axis('off')\n",
    "    acc = np.mean(test_numbers == pred_numbers)\n",
    "    acc_list.append(acc)\n",
    "    plt.text(0, 40, f'Accuracy: {acc:.2f}', ha='center', c='r')\n",
    "    plt.show()\n"
   ]
  },
  {
   "cell_type": "markdown",
   "metadata": {},
   "source": [
    "# Висновки\n",
    "\n",
    "Зробіть висновок про те, чи помиляється твоя нейронна мережа, і якщо так, то як часто?"
   ]
  },
  {
   "cell_type": "markdown",
   "metadata": {},
   "source": [
    "Для того, щоб визначити, як часто помиляється наша мережа, визначимо точність для `sample_size` випадкових зображень з тестової вибірки. Зробимо 10 таких ітерацій і усереднимо значення точностей."
   ]
  },
  {
   "cell_type": "code",
   "execution_count": null,
   "metadata": {},
   "outputs": [],
   "source": [
    "acc = np.mean(acc_list)\n",
    "print(f\"Accuracy: {acc:.2f}\")\n"
   ]
  },
  {
   "cell_type": "markdown",
   "metadata": {},
   "source": [
    "Видно, що наша мережа звісно, помиляється, але точність достатньо висока. Деякі рукописні цифри я і сам би визначив не правильно, нейронка при цьому визначала правильно, є випадки, де нейронка помиляється \"тупо\", очевидно, що цифра не така, яку передбачає нейронка. Тому, можна сказати, що мережа помиляється в \"середньому\" так як і людина. "
   ]
  },
  {
   "cell_type": "markdown",
   "metadata": {},
   "source": [
    "Наступне вже не стосується даного прикладу.\n",
    "\n",
    "В цілому, було б непогано створити таку нейронку, щоб вона розпізнавала рукописний текст краще ніж людина, і більше того, необхідно, щоб вміла розпізнавати рукописні тексти грунтуючись не лише на зображені окремих символів, а аналізувала контекст. Це може бути актуально для розшифровки рукописного тексту лікарів, щоб було як в анекдоті:\n",
    "\n",
    "<div style=\"background-color: #f5f5f5; border: 1px solid #dcdcdc; padding: 10px; border-radius: 5px; box-shadow: 3px 3px 5px 0px #ccc;\">\n",
    "    <p style=\"color: #555;\"> - Як екзаменують почеркознавців?</p>\n",
    "    <p style=\"color: #555;\"> - Треба розібрати почерк п'яного лікаря, який пише вкраденою на пошті ручкою і їде в розхлябаному возі по бруківці.</p>\n",
    "</div>\n",
    "\n",
    "\n"
   ]
  }
 ],
 "metadata": {
  "accelerator": "GPU",
  "colab": {
   "name": "tensorflow_mnist_hw.ipynb",
   "provenance": []
  },
  "kernelspec": {
   "display_name": "Python 3",
   "language": "python",
   "name": "python3"
  },
  "language_info": {
   "codemirror_mode": {
    "name": "ipython",
    "version": 3
   },
   "file_extension": ".py",
   "mimetype": "text/x-python",
   "name": "python",
   "nbconvert_exporter": "python",
   "pygments_lexer": "ipython3",
   "version": "3.11.3"
  }
 },
 "nbformat": 4,
 "nbformat_minor": 0
}
