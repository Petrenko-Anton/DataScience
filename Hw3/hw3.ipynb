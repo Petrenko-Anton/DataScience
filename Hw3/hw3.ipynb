{
 "cells": [
  {
   "cell_type": "markdown",
   "metadata": {},
   "source": [
    "# Імпорт модулів\n",
    "\n",
    "---"
   ]
  },
  {
   "cell_type": "code",
   "execution_count": 1,
   "metadata": {},
   "outputs": [],
   "source": [
    "import numpy as np\n",
    "import pandas as pd\n",
    "import matplotlib.pyplot as plt\n",
    "from sklearn.linear_model import LinearRegression"
   ]
  },
  {
   "cell_type": "markdown",
   "metadata": {},
   "source": [
    "# Матриці\n",
    "\n",
    "---\n",
    "\n",
    "\n",
    "Якщо у вас є набір даних з $m$ вибірок, кожна з яких називається $x^{(i)}$ ($n$-вимірний вектор), і вектор результатів $ Y $ ($m$-вимірний вектор), можна побудувати наступні матриці:\n",
    "\n",
    "1. Матриця ознак\n",
    "\n",
    "$$ \\mathbf{X} = \n",
    "\\begin{pmatrix}\n",
    "\\vec{x}^{(1)} \\\\\n",
    "\\vec{x}^{(2)} \\\\\n",
    "\\vdots\\\\\n",
    "\\vec{x}^{(m)} \\\\\n",
    "\\end{pmatrix} =\n",
    "\n",
    "\\begin{pmatrix}\n",
    "1 & x_1^{(1)} & x_2^{(1)} & \\ldots & x_n^{(1)}\\\\\n",
    "1 & x_1^{(2)} & x_2^{(2)} & \\ldots & x_n^{(2)}\\\\\n",
    "\\vdots & \\vdots    & \\vdots    &  \\ddots & \\vdots \\\\\n",
    "1 & x_1^{(m)} & x_2^{(m)} & \\ldots & x_n^{(m)}\\\\\n",
    "\\end{pmatrix}\n",
    "$$\n",
    "\n",
    "2. Вектор результатів\n",
    "\n",
    "$$\n",
    "\\vec{Y} = \n",
    "\\begin{pmatrix}\n",
    "\\vec{y}_1 \\\\\n",
    "\\vec{y}_2 \\\\\n",
    "\\vdots\\\\\n",
    "\\vec{y}_m \\\\\n",
    "\\end{pmatrix}\n",
    "$$\n",
    "\n",
    "3. Вектор вагових коефіцієнтів\n",
    "\n",
    "$$\n",
    "\\vec{w} = \n",
    "\\begin{pmatrix}\n",
    "\\vec{w}_0 \\\\\n",
    "\\vec{w}_1 \\\\\n",
    "\\vdots\\\\\n",
    "\\vec{w}_n \\\\\n",
    "\\end{pmatrix}\n",
    "$$"
   ]
  },
  {
   "cell_type": "markdown",
   "metadata": {},
   "source": [
    "# Задача\n",
    "---\n",
    "\n",
    "Наша задача --- проаналізувати, як залежить ціна на будинок $h$ залежно від площі $x_1$, кількості ванних кімнат $x_2$ та кількості спалень $x_2$."
   ]
  },
  {
   "cell_type": "markdown",
   "metadata": {},
   "source": [
    "# \"Self-made\" реалізація алгоритму градієнтного спуску\n",
    "---"
   ]
  },
  {
   "cell_type": "markdown",
   "metadata": {},
   "source": [
    "## Функція гіпотези лінійної регресії\n",
    "\n",
    "Функція має вигляд:\n",
    "\n",
    "$$ \\vec{h}(\\vec{w}, X) = X \\vec{w}, $$\n",
    "де  $ \\vec{w} $ --- вектор вагових коефіцієнтів, $ X $ --- вектор-стовпець векторів ознак (матриця ознак)."
   ]
  },
  {
   "cell_type": "code",
   "execution_count": 2,
   "metadata": {},
   "outputs": [],
   "source": [
    "def h(W, X):\n",
    "    \"\"\"\n",
    "    Calculate the hypothesis for linear regression.\n",
    "\n",
    "    Parameters:\n",
    "    W (numpy.ndarray): Weight vector (dimension: (n+1,)).\n",
    "    X (numpy.ndarray): Feature matrix (dimension: (m, n+1)).\n",
    "\n",
    "    Returns:\n",
    "    hypothesis (numpy.ndarray): Hypothesis values (dimension: (m,)).\n",
    "    \"\"\"\n",
    "    return X @ W"
   ]
  },
  {
   "cell_type": "markdown",
   "metadata": {},
   "source": [
    "## Функція втрат лінійної регресії\n",
    "\n",
    "Функція має вигляд:\n",
    "\n",
    "$$ J(\\vec{w}) = \\frac1{2m} \\left( \\vec{h}(\\vec{w}, \\mathbf{X}) - \\vec{Y} \\right)^2 $$"
   ]
  },
  {
   "cell_type": "code",
   "execution_count": 3,
   "metadata": {},
   "outputs": [],
   "source": [
    "def J(W, X, Y):\n",
    "    \"\"\"\n",
    "    Calculate the mean squared error (MSE) for linear regression.\n",
    "\n",
    "    Parameters:\n",
    "    W (numpy.ndarray): Weight vector (dimension: (n+1,)).\n",
    "    X (numpy.ndarray): Feature matrix (dimension: (m, n+1)).\n",
    "    Y (numpy.ndarray): Target vector (dimension: (m,)).\n",
    "\n",
    "    Returns:\n",
    "    mse (float): Mean squared error.\n",
    "    \"\"\"\n",
    "    m = len(Y)  # Кількість навчальних прикладів\n",
    "    error = h(W, X) - Y\n",
    "    return 1 / ( 2 * m ) * error @ error"
   ]
  },
  {
   "cell_type": "markdown",
   "metadata": {},
   "source": [
    "## Градієнт функції втрат \n",
    "\n",
    "Вектор-градієнт функції втрат  має вигляд:\n",
    "\n",
    "$$ \\vec{\\nabla} J = \\frac1{m} \\mathbf{X}^{\\mathrm{T}} \\cdot (\\mathrm{X}\\vec{w} - \\vec{Y} )  = \\frac1{m} \\mathbf{X}^{\\mathrm{T}} \\cdot (\\vec{h} - \\vec{Y} ) $$"
   ]
  },
  {
   "cell_type": "code",
   "execution_count": 4,
   "metadata": {},
   "outputs": [],
   "source": [
    "def nabla_J(W, X, Y):\n",
    "    \"\"\"\n",
    "    Computes the gradient of the loss function for linear regression.\n",
    "\n",
    "    Parameters:\n",
    "    W (numpy.ndarray): Vector of weights (dimensionality (n+1,)).\n",
    "    X (numpy.ndarray): Feature matrix (dimensionality (m, n+1)).\n",
    "    Y (numpy.ndarray): Target value vector (dimensionality (m,)).\n",
    "\n",
    "    Returns:\n",
    "    Gradient (numpy.ndarray): The gradient of the loss function (dimension (n+1,)).\n",
    "    \"\"\"\n",
    "    \n",
    "    m = len(Y)  # Кількість навчальних прикладів\n",
    "    error  = X.T @ (h(W, X) - Y)\n",
    "    gradient = (1 / m) * error\n",
    "    return gradient"
   ]
  },
  {
   "cell_type": "markdown",
   "metadata": {},
   "source": [
    "## Функція градієнтного спуску\n",
    "\n",
    "Формула для обчислення вагових коефіцієнтів в результаті одного кроку градієнтного спуску (одна ітерація) має вигляд:\n",
    "\n",
    "$$ \\vec{w} = \\vec{w}_{\\text{prev}} - \\alpha \\vec{\\nabla} J $$"
   ]
  },
  {
   "cell_type": "code",
   "execution_count": 5,
   "metadata": {},
   "outputs": [],
   "source": [
    "def gradient_descent(X, Y, \n",
    "                     alpha=0.001, \n",
    "                     num_iterations=1_000, \n",
    "                     epsilon=1e-7):\n",
    "    \"\"\"\n",
    "    Perform gradient descent optimization for linear regression.\n",
    "\n",
    "    Parameters:\n",
    "    X (numpy.ndarray): Feature matrix (dimension: (m, n+1)).\n",
    "    Y (numpy.ndarray): Target vector (dimension: (m,)).\n",
    "    alpha (float, optional): Learning rate. Defaults to 0.001.\n",
    "    num_iterations (int, optional): Number of iterations. Defaults to 1000.\n",
    "    epsilon (float, optional): Convergence threshold. Defaults to 1e-7.\n",
    "\n",
    "    Returns:\n",
    "    W (numpy.ndarray): Optimized weight vector (dimension: (n+1,)).\n",
    "    history_J (list): List of loss values during optimization.\n",
    "    \"\"\"\n",
    "    \n",
    "    n = X.shape[1]  # Кількість ознак (у цьому випадку 3: area, bedrooms, bathrooms)\n",
    "    \n",
    "    # Ініціалізуємо вагові коефіцієнти випадковими значеннями\n",
    "    W = np.random.randn(n)\n",
    "    \n",
    "    J_0 = J(W, X, Y)\n",
    "    \n",
    "    history_J = [J_0]\n",
    "    \n",
    "    for _ in range(num_iterations):       \n",
    "        # Оновлюємо коефіцієнти\n",
    "        W -= alpha * nabla_J(W, X, Y)\n",
    "        \n",
    "        J_current = J(W, X, Y)\n",
    "        \n",
    "        history_J.append(J_current)\n",
    "        \n",
    "        if np.abs(J_current - J_0) < epsilon:\n",
    "            break\n",
    "        \n",
    "        J_0 = J_current\n",
    "        \n",
    "        \n",
    "    return W, history_J"
   ]
  },
  {
   "cell_type": "markdown",
   "metadata": {},
   "source": [
    "# Завантаження даних\n",
    "---"
   ]
  },
  {
   "cell_type": "code",
   "execution_count": 6,
   "metadata": {},
   "outputs": [],
   "source": [
    "df = pd.read_csv('Housing.csv')\n",
    "X = df[['area', 'bedrooms', 'bathrooms']].to_numpy()\n",
    "Y = df.price.to_numpy()"
   ]
  },
  {
   "cell_type": "markdown",
   "metadata": {},
   "source": [
    "## Нормалізація даних\n",
    "\n",
    "Щоб наша модель швидше навчалась, необхідно виконати нормалізацію даних, оскільки $x_1 = \\text{area}$ сильно відрізняється за порядком від $x_2 = \\text{bedrooms}$ та $x_3 = \\text{bathrooms}$.\n",
    "\n",
    "Нормалізацію виконаємо за формулою:\n",
    "\n",
    "$$ \\mathrm{X}^{\\text{norm}} = \\frac{\\mathrm{X} - \\overline{\\mathrm{X}}}{\\sigma}, $$\n",
    "\n",
    "де $\\overline{\\mathrm{X}}$ - середнє (за стовбчиком), $\\sigma$ - дисперсія (стандртне відхилення).\n"
   ]
  },
  {
   "cell_type": "code",
   "execution_count": 7,
   "metadata": {},
   "outputs": [],
   "source": [
    "def normalize_features(X):\n",
    "    mean = np.mean(X, axis=0)\n",
    "    std = np.std(X, axis=0)\n",
    "    \n",
    "    # Перевіряємо, що стандартне відхилення не дорівнює нулю\n",
    "    std[std == 0] = 1\n",
    "    \n",
    "    normalized_X = (X - mean) / std\n",
    "    return normalized_X, mean, std"
   ]
  },
  {
   "cell_type": "code",
   "execution_count": 8,
   "metadata": {},
   "outputs": [],
   "source": [
    "# Нормалізуємо ознаки\n",
    "X_n, mean, std = normalize_features(X)\n",
    "\n",
    "# Додаємо стовпець з одиницями для вільного члена (bias)\n",
    "X_n = np.column_stack([np.ones(len(X)), X_n])"
   ]
  },
  {
   "cell_type": "markdown",
   "metadata": {},
   "source": [
    "# Перевірка \"Self-made\" алгоритмів\n",
    "---"
   ]
  },
  {
   "cell_type": "code",
   "execution_count": 9,
   "metadata": {},
   "outputs": [],
   "source": [
    "# Викликаємо функцію градієнтного спуску\n",
    "learned_weights, history_J = gradient_descent(X_n, Y, num_iterations=100_000)\n",
    "\n",
    "# Відновлюємо ненормалізовані ваги\n",
    "intercept = learned_weights[0]\n",
    "coefficients = learned_weights[1:] / std"
   ]
  },
  {
   "cell_type": "markdown",
   "metadata": {},
   "source": [
    "### Вагові коефіцієнти після градієнтного спуску"
   ]
  },
  {
   "cell_type": "code",
   "execution_count": 10,
   "metadata": {},
   "outputs": [
    {
     "name": "stdout",
     "output_type": "stream",
     "text": [
      "Вільний член (intercept): 4766729.237490526\n",
      "Коефіцієнти ознак (area, bedrooms, bathrooms): [3.78762789e+02 4.06820845e+05 1.38604824e+06]\n"
     ]
    }
   ],
   "source": [
    "print(f\"Вільний член (intercept): {intercept}\")\n",
    "print(f\"Коефіцієнти ознак (area, bedrooms, bathrooms): {coefficients}\")"
   ]
  },
  {
   "cell_type": "code",
   "execution_count": 11,
   "metadata": {},
   "outputs": [
    {
     "data": {
      "image/png": "[encoded data removed]",
      "text/plain": [
       "<Figure size 640x480 with 1 Axes>"
      ]
     },
     "metadata": {},
     "output_type": "display_data"
    }
   ],
   "source": [
    "plt.plot(history_J)\n",
    "plt.xlabel('Номер ітерації')\n",
    "plt.ylabel('Значення функції втрат, J')\n",
    "plt.title('Графік зміни функції втрат від ітерації')\n",
    "plt.grid(True)\n",
    "\n",
    "plt.show()"
   ]
  },
  {
   "cell_type": "markdown",
   "metadata": {},
   "source": [
    "# Аналітичне значення для вектора $\\vec{w}$\n",
    "\n",
    "---\n",
    "\n",
    "Аналітичний вираз для вектора вагових коефіцієнтів:\n",
    "\n",
    "$$ \\vec{w}^* = \\left(\\mathbf{X}^{\\mathrm{T}} \\mathbf{X}\\right)^{-1}\\mathbf{X}^{\\mathrm{T}} \\vec{y}. $$"
   ]
  },
  {
   "cell_type": "code",
   "execution_count": 12,
   "metadata": {},
   "outputs": [
    {
     "data": {
      "text/plain": [
       "array([3.72448352e+02, 3.68974672e+05, 1.37031315e+06])"
      ]
     },
     "execution_count": 12,
     "metadata": {},
     "output_type": "execute_result"
    }
   ],
   "source": [
    "analitical_W = np.linalg.pinv(X.T @ X) @ X.T @ Y\n",
    "analitical_W"
   ]
  },
  {
   "cell_type": "markdown",
   "metadata": {},
   "source": [
    "# Алгоритми бібліотеки `sklearn.linear_model`\n",
    "\n",
    "Алгоритми реалізують метод найменших квадратів (МНК)"
   ]
  },
  {
   "cell_type": "code",
   "execution_count": 13,
   "metadata": {},
   "outputs": [],
   "source": [
    "regressor = LinearRegression().fit(X, Y)\n",
    "h_sk = regressor.predict(X)"
   ]
  },
  {
   "cell_type": "markdown",
   "metadata": {},
   "source": [
    "## Візуалізація за `sklearn.linear_model`\n",
    "\n",
    "Цікаво побачити результати лінійної регресії."
   ]
  },
  {
   "cell_type": "code",
   "execution_count": 14,
   "metadata": {},
   "outputs": [
    {
     "data": {
      "image/png": "[encoded data removed]",
      "text/plain": [
       "<Figure size 640x480 with 1 Axes>"
      ]
     },
     "metadata": {},
     "output_type": "display_data"
    }
   ],
   "source": [
    "# Створимо маску для фільтрації даних з урахуванням фіксованих значень\n",
    "f_1, f_2 = 2, 1\n",
    "\n",
    "mask = (X[:, 1] == f_1) & (X[:, 2] == f_2)\n",
    "\n",
    "# Обираємо відповідні значення для фіксованих ознак і передбачені значення\n",
    "selected_feature = X[mask][:, 0]\n",
    "h_sk_selected = h_sk[mask]\n",
    "Y_selected = Y[mask]\n",
    "\n",
    "# Гграфік залежності гіпотези від обраної ознаки за фіксованих значень інших ознак\n",
    "plt.plot(selected_feature, h_sk_selected, label=\"Гипотеза\", color='red')\n",
    "plt.scatter(selected_feature, Y_selected, label=\"Дані\")\n",
    "plt.xlabel(\"Обрана ознака (area)\")\n",
    "plt.ylabel(\"Передбачені значення\")\n",
    "plt.title(f\"Графік залежності гіпотези від площі (area) (за фіксованих bedrooms ={f_1} і bathrooms={f_2})\")\n",
    "plt.legend()\n",
    "plt.grid(True)\n",
    "plt.show()"
   ]
  },
  {
   "cell_type": "markdown",
   "metadata": {},
   "source": [
    "# Результати та висновки\n",
    "\n",
    "---"
   ]
  },
  {
   "cell_type": "markdown",
   "metadata": {},
   "source": [
    "## Результати"
   ]
  },
  {
   "cell_type": "markdown",
   "metadata": {},
   "source": [
    "1. За \"self-made\" алгоритмом градієнтного спуску"
   ]
  },
  {
   "cell_type": "code",
   "execution_count": 15,
   "metadata": {},
   "outputs": [
    {
     "name": "stdout",
     "output_type": "stream",
     "text": [
      "Коефіцієнти ознак (area, bedrooms, bathrooms): [3.78762789e+02 4.06820845e+05 1.38604824e+06]\n"
     ]
    }
   ],
   "source": [
    "print(f\"Коефіцієнти ознак (area, bedrooms, bathrooms): {coefficients}\")"
   ]
  },
  {
   "cell_type": "markdown",
   "metadata": {},
   "source": [
    "2. За аналітичним розрахунком"
   ]
  },
  {
   "cell_type": "code",
   "execution_count": 16,
   "metadata": {},
   "outputs": [
    {
     "name": "stdout",
     "output_type": "stream",
     "text": [
      "Коефіцієнти ознак (area, bedrooms, bathrooms): [3.72448352e+02 3.68974672e+05 1.37031315e+06]\n"
     ]
    }
   ],
   "source": [
    "print(f\"Коефіцієнти ознак (area, bedrooms, bathrooms): {analitical_W}\")\n"
   ]
  },
  {
   "cell_type": "markdown",
   "metadata": {},
   "source": [
    "3. За МНК із бібліотеки `scisklearn.linear_model`"
   ]
  },
  {
   "cell_type": "code",
   "execution_count": 17,
   "metadata": {},
   "outputs": [
    {
     "name": "stdout",
     "output_type": "stream",
     "text": [
      "Коефіцієнти ознак (area, bedrooms, bathrooms): [3.78762754e+02 4.06820034e+05 1.38604950e+06]\n"
     ]
    }
   ],
   "source": [
    "print(f\"Коефіцієнти ознак (area, bedrooms, bathrooms): {regressor.coef_}\")"
   ]
  },
  {
   "cell_type": "markdown",
   "metadata": {},
   "source": [
    "## Вартість квартири\n",
    "\n",
    "Розглянемо конкретний випадок. Зробимо передбачення ціни на квартиру яка має характеристики $x_1 = 7420$, $x_2 = 3$, $x_3 = 1$."
   ]
  },
  {
   "cell_type": "code",
   "execution_count": 18,
   "metadata": {},
   "outputs": [],
   "source": [
    "my_X = np.array([[7420, 3, 1]])"
   ]
  },
  {
   "cell_type": "markdown",
   "metadata": {},
   "source": [
    "1. Наша функція гіпотези"
   ]
  },
  {
   "cell_type": "code",
   "execution_count": 19,
   "metadata": {},
   "outputs": [
    {
     "name": "stdout",
     "output_type": "stream",
     "text": [
      "Ціна за квартиру 5416931\n"
     ]
    }
   ],
   "source": [
    "print(f\"Ціна за квартиру {h(coefficients, my_X)[0]:.0f}\")"
   ]
  },
  {
   "cell_type": "markdown",
   "metadata": {},
   "source": [
    "2. Функція  бібліотеки `scisklearn.linear_model`"
   ]
  },
  {
   "cell_type": "code",
   "execution_count": 20,
   "metadata": {},
   "outputs": [
    {
     "name": "stdout",
     "output_type": "stream",
     "text": [
      "Ціна за квартиру 5243758\n"
     ]
    }
   ],
   "source": [
    "print(f\"Ціна за квартиру {regressor.predict(my_X)[0]:.0f}\")"
   ]
  },
  {
   "cell_type": "markdown",
   "metadata": {},
   "source": [
    "## Висновки\n",
    "Відмінності в значеннях коефіцієнтів між методами (градієнтним спуском, аналітичним методом і МНК) може бути зумовлена відмінностями в підходах і параметрах кожного методу. \n",
    "\n",
    "У цьому контексті:\n",
    "\n",
    "1. Градієнтний спуск - ітеративний метод, який залежить від початкової ініціалізації та параметрів навчання, таких як швидкість навчання. Результати можуть варіюватися залежно від цих факторів.\n",
    "\n",
    "2. Аналітичний метод - знаходить точне аналітичне рішення і не залежить від параметрів навчання. Він може надати точні значення коефіцієнтів.\n",
    "\n",
    "3. Метод найменших квадратів (МНК) - також знаходить точне рішення і не вимагає налаштування параметрів навчання.\n",
    "\n",
    "Відмінності у вагових коефіцієнтах можуть бути спричинені як відмінностями в методах оптимізації, так і в особливостях даних, таких як наявність викидів, шумів або кореляцій між ознаками. Однак важливо зазначити, що за правильного налаштування й обробки даних відмінності в коефіцієнтах між цими методами мають бути незначними, і всі три методи мають давати схожі результати в контексті лінійної регресії."
   ]
  }
 ],
 "metadata": {
  "kernelspec": {
   "display_name": "Python 3",
   "language": "python",
   "name": "python3"
  },
  "language_info": {
   "codemirror_mode": {
    "name": "ipython",
    "version": 3
   },
   "file_extension": ".py",
   "mimetype": "text/x-python",
   "name": "python",
   "nbconvert_exporter": "python",
   "pygments_lexer": "ipython3",
   "version": "3.11.3"
  },
  "orig_nbformat": 4
 },
 "nbformat": 4,
 "nbformat_minor": 2
}
