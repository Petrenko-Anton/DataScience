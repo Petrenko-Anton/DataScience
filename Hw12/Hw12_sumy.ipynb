{
 "cells": [
  {
   "cell_type": "code",
   "execution_count": 3,
   "metadata": {},
   "outputs": [
    {
     "ename": "ImportError",
     "evalue": "cannot import name 'LexRankSummarizer' from 'sumy.summarizers.lsa' (d:\\Programs\\Programming\\WPy64\\python-3.11.3.amd64\\Lib\\site-packages\\sumy\\summarizers\\lsa.py)",
     "output_type": "error",
     "traceback": [
      "\u001b[1;31m---------------------------------------------------------------------------\u001b[0m",
      "\u001b[1;31mImportError\u001b[0m                               Traceback (most recent call last)",
      "\u001b[1;32md:\\Projects\\Programming\\Python\\DataScience\\Hw12\\Hw12_sumy.ipynb Cell 1\u001b[0m line \u001b[0;36m3\n\u001b[0;32m      <a href='vscode-notebook-cell:/d%3A/Projects/Programming/Python/DataScience/Hw12/Hw12_sumy.ipynb#W0sZmlsZQ%3D%3D?line=0'>1</a>\u001b[0m \u001b[39mfrom\u001b[39;00m \u001b[39msumy\u001b[39;00m\u001b[39m.\u001b[39;00m\u001b[39mparsers\u001b[39;00m\u001b[39m.\u001b[39;00m\u001b[39mplaintext\u001b[39;00m \u001b[39mimport\u001b[39;00m PlaintextParser\n\u001b[0;32m      <a href='vscode-notebook-cell:/d%3A/Projects/Programming/Python/DataScience/Hw12/Hw12_sumy.ipynb#W0sZmlsZQ%3D%3D?line=1'>2</a>\u001b[0m \u001b[39mfrom\u001b[39;00m \u001b[39msumy\u001b[39;00m\u001b[39m.\u001b[39;00m\u001b[39mnlp\u001b[39;00m\u001b[39m.\u001b[39;00m\u001b[39mtokenizers\u001b[39;00m \u001b[39mimport\u001b[39;00m Tokenizer\n\u001b[1;32m----> <a href='vscode-notebook-cell:/d%3A/Projects/Programming/Python/DataScience/Hw12/Hw12_sumy.ipynb#W0sZmlsZQ%3D%3D?line=2'>3</a>\u001b[0m \u001b[39mfrom\u001b[39;00m \u001b[39msumy\u001b[39;00m\u001b[39m.\u001b[39;00m\u001b[39msummarizers\u001b[39;00m\u001b[39m.\u001b[39;00m\u001b[39mlsa\u001b[39;00m \u001b[39mimport\u001b[39;00m LsaSummarizer, LexRankSummarizer\n\u001b[0;32m      <a href='vscode-notebook-cell:/d%3A/Projects/Programming/Python/DataScience/Hw12/Hw12_sumy.ipynb#W0sZmlsZQ%3D%3D?line=3'>4</a>\u001b[0m \u001b[39mfrom\u001b[39;00m \u001b[39msumy\u001b[39;00m\u001b[39m.\u001b[39;00m\u001b[39mutils\u001b[39;00m \u001b[39mimport\u001b[39;00m get_stop_words\n",
      "\u001b[1;31mImportError\u001b[0m: cannot import name 'LexRankSummarizer' from 'sumy.summarizers.lsa' (d:\\Programs\\Programming\\WPy64\\python-3.11.3.amd64\\Lib\\site-packages\\sumy\\summarizers\\lsa.py)"
     ]
    }
   ],
   "source": [
    "from sumy.parsers.plaintext import PlaintextParser\n",
    "from sumy.nlp.tokenizers import Tokenizer\n",
    "from sumy.summarizers.lsa import LsaSummarizer, LexRankSummarizer\n",
    "from sumy.utils import get_stop_words"
   ]
  },
  {
   "cell_type": "markdown",
   "metadata": {},
   "source": [
    "# Сумаризація тексту за допомогою [`sumy`](https://github.com/miso-belica/sumy)\n",
    "\n",
    "1. [Sumy - Automatic text summarizer](https://github.com/miso-belica/sumy)\n",
    "2. [How to Create a Text Summarization Tool with Sumy](https://reintech.io/blog/how-to-create-a-text-summarization-tool-with-sumy-tutorial-for-developers)\n"
   ]
  },
  {
   "cell_type": "markdown",
   "metadata": {},
   "source": [
    "## Завантажуємо текст з файлу у змінну"
   ]
  },
  {
   "cell_type": "code",
   "execution_count": null,
   "metadata": {},
   "outputs": [],
   "source": [
    "with open(\"text_ua.txt\", \"r\", encoding=\"utf-8\") as file:\n",
    "    text = file.read()"
   ]
  },
  {
   "cell_type": "markdown",
   "metadata": {},
   "source": [
    "## Визначення функцій"
   ]
  },
  {
   "cell_type": "code",
   "execution_count": null,
   "metadata": {},
   "outputs": [],
   "source": [
    "def generate_summary(text, sentences_count=1, language=\"english\"):\n",
    "    parser = PlaintextParser.from_string(text, Tokenizer(language))\n",
    "\n",
    "    summarizer = LexRankSummarizer()\n",
    "    summary = summarizer(parser.document, sentences_count=sentences_count)\n",
    "    summary_list = [str(sentence) for sentence in summary]\n",
    "\n",
    "    stop_words = get_stop_words(language)\n",
    "    filtered_summary = \" \".join(\n",
    "        [word for word in summary_list[0].split() if word.lower() not in stop_words]\n",
    "    )\n",
    "\n",
    "    return filtered_summary\n"
   ]
  },
  {
   "cell_type": "markdown",
   "metadata": {},
   "source": [
    "## Записуємо анотований текст до файлу"
   ]
  },
  {
   "cell_type": "code",
   "execution_count": null,
   "metadata": {},
   "outputs": [],
   "source": [
    "sentences_count = 6\n",
    "filtered_summary = generate_summary(text, sentences_count, language=\"ukrainian\")\n",
    "with open(\"summary_ua_sumy.txt\", \"w\", encoding=\"utf-8\") as file:\n",
    "    file.write(filtered_summary)"
   ]
  },
  {
   "cell_type": "markdown",
   "metadata": {},
   "source": [
    "# Висновки\n",
    "\n",
    "1. [Вихідний текст](./text_ua.txt)\n",
    "2. [Анотація](./summary_ua.txt)"
   ]
  },
  {
   "cell_type": "code",
   "execution_count": null,
   "metadata": {},
   "outputs": [
    {
     "name": "stdout",
     "output_type": "stream",
     "text": [
      "Довжина вихідного тексту: 3110\n",
      "Довжина анотації: 228\n"
     ]
    }
   ],
   "source": [
    "print(f\"Довжина вихідного тексту: {len(text)}\")\n",
    "print(f\"Довжина анотації: {len(filtered_summary)}\")"
   ]
  }
 ],
 "metadata": {
  "kernelspec": {
   "display_name": "Python 3",
   "language": "python",
   "name": "python3"
  },
  "language_info": {
   "codemirror_mode": {
    "name": "ipython",
    "version": 3
   },
   "file_extension": ".py",
   "mimetype": "text/x-python",
   "name": "python",
   "nbconvert_exporter": "python",
   "pygments_lexer": "ipython3",
   "version": "3.11.3"
  }
 },
 "nbformat": 4,
 "nbformat_minor": 2
}
