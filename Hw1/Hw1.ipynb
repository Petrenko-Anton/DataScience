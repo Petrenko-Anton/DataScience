{
 "cells": [
  {
   "cell_type": "markdown",
   "id": "ad4bda39-28d9-447a-9797-2b6fdd02c7f5",
   "metadata": {},
   "source": [
    "# Домашнє завдання №1 (Модуль 1. Знайомство з Data Science)"
   ]
  },
  {
   "cell_type": "markdown",
   "id": "1f1d5f94-d78f-4e21-b370-ddf2f3f87104",
   "metadata": {
    "jp-MarkdownHeadingCollapsed": true
   },
   "source": [
    "## Імпорт модулів"
   ]
  },
  {
   "cell_type": "code",
   "execution_count": 1,
   "id": "aff6c58e-9e53-4714-bff6-37c20d03b3bb",
   "metadata": {},
   "outputs": [],
   "source": [
    "import numpy as np"
   ]
  },
  {
   "cell_type": "markdown",
   "id": "47c2f733-49ac-47dd-9f34-d28d817e635f",
   "metadata": {
    "jp-MarkdownHeadingCollapsed": true
   },
   "source": [
    "## 1. Створіть одновимірний масив (вектор) з першими 10-ма натуральними числами та виведіть його значення."
   ]
  },
  {
   "cell_type": "markdown",
   "id": "2c8c8580-76bf-4ff8-8dea-3752297a15ae",
   "metadata": {},
   "source": [
    "Натура́льні чи́сла --- це числа, що виникають природним чином при лічбі. Це числа: $1$, $2$, $3$, $4$, $\\ldots$ Множинунатуральних чисел прийнято позначати $\\mathbb{N}$."
   ]
  },
  {
   "cell_type": "code",
   "execution_count": 18,
   "id": "2bcbf676-2046-4a88-9359-c0138a9721d0",
   "metadata": {},
   "outputs": [
    {
     "name": "stdout",
     "output_type": "stream",
     "text": [
      "[ 1  2  3  4  5  6  7  8  9 10]\n"
     ]
    }
   ],
   "source": [
    "vector = np.arange(1, 11)\n",
    "print(vector)"
   ]
  },
  {
   "cell_type": "markdown",
   "id": "e988e996-f1d2-40be-8892-d13325230777",
   "metadata": {
    "jp-MarkdownHeadingCollapsed": true
   },
   "source": [
    "## 2. Створіть двовимірний масив (матрицю) розміром 3x3, заповніть його нулями та виведіть його значення.}"
   ]
  },
  {
   "cell_type": "code",
   "execution_count": 8,
   "id": "dcc0e2a6-61df-450b-a7f7-363b5607eaee",
   "metadata": {},
   "outputs": [
    {
     "name": "stdout",
     "output_type": "stream",
     "text": [
      "[[0. 0. 0.]\n",
      " [0. 0. 0.]\n",
      " [0. 0. 0.]]\n"
     ]
    }
   ],
   "source": [
    "matrix = np.zeros((3, 3))\n",
    "print(matrix)"
   ]
  },
  {
   "cell_type": "markdown",
   "id": "55029f74-4167-4cb5-8efd-a92a485634d4",
   "metadata": {
    "jp-MarkdownHeadingCollapsed": true
   },
   "source": [
    "## 3. Створіть масив розміром $5\\times 5$, заповніть його випадковими цілими числами в діапазоні від 1 до 10 та виведіть його значення."
   ]
  },
  {
   "cell_type": "code",
   "execution_count": 9,
   "id": "135f3956-2c21-41dd-8ccc-42b2936fd17a",
   "metadata": {},
   "outputs": [
    {
     "name": "stdout",
     "output_type": "stream",
     "text": [
      "[[ 8  8  4  7  3]\n",
      " [ 3  9  8  3  8]\n",
      " [ 3  8 10  9  5]\n",
      " [ 9  8  1  7 10]\n",
      " [10  5  4  8 10]]\n"
     ]
    }
   ],
   "source": [
    "random_matrix = np.random.randint(1, 11, (5, 5))\n",
    "print(random_matrix)"
   ]
  },
  {
   "cell_type": "markdown",
   "id": "9f038ae1-bbfd-48ca-80eb-1a245df98aed",
   "metadata": {
    "jp-MarkdownHeadingCollapsed": true
   },
   "source": [
    "## 4. Створіть масив розміром $4\\times 4$, заповніть його випадковими дійсними числами в діапазоні від 0 до 1 та виведіть його значення."
   ]
  },
  {
   "cell_type": "code",
   "execution_count": 11,
   "id": "9585cbf8-98bc-4884-9fd9-cd3790851818",
   "metadata": {},
   "outputs": [
    {
     "name": "stdout",
     "output_type": "stream",
     "text": [
      "[[0.03576693 0.60571576 0.83872195 0.5334341 ]\n",
      " [0.62441843 0.24922794 0.83976534 0.53757368]\n",
      " [0.92958554 0.04994248 0.00099728 0.51892904]\n",
      " [0.88081891 0.65253583 0.02627556 0.9318627 ]]\n"
     ]
    }
   ],
   "source": [
    "random_matrix = np.random.rand(4, 4)\r\n",
    "print(random_matrix)"
   ]
  },
  {
   "cell_type": "markdown",
   "id": "c9a46ebf-904d-4696-91d0-639ae584bf28",
   "metadata": {
    "jp-MarkdownHeadingCollapsed": true
   },
   "source": [
    "## 5. Створіть два одновимірних масиви розміром 5, заповніть їх випадковими цілими числами в діапазоні від 1 до 10 та виконайте на них поелементні операції додавання, віднімання та множення."
   ]
  },
  {
   "cell_type": "markdown",
   "id": "3375b037-028c-4696-aeea-4a1d7f543f82",
   "metadata": {},
   "source": [
    "### 5.1 Створення масивів"
   ]
  },
  {
   "cell_type": "code",
   "execution_count": 13,
   "id": "df990d3b-952b-408e-be61-b3e521731121",
   "metadata": {},
   "outputs": [
    {
     "name": "stdout",
     "output_type": "stream",
     "text": [
      "Масив 1: [ 6  6 10  5  4]\n",
      "Масив 2: [ 3  8  7 10  7]\n"
     ]
    }
   ],
   "source": [
    "array1 = np.random.randint(1, 11, 5)\n",
    "array2 = np.random.randint(1, 11, 5)\n",
    "\n",
    "print(\"Масив 1:\", array1)\n",
    "print(\"Масив 2:\", array2)"
   ]
  },
  {
   "cell_type": "markdown",
   "id": "3945487c-eb5c-4d86-811a-526a6ffbf959",
   "metadata": {},
   "source": [
    "### 5.2 Поелементні операції"
   ]
  },
  {
   "cell_type": "code",
   "execution_count": 15,
   "id": "76e35a89-a649-4bbe-8405-6c87718b48a0",
   "metadata": {},
   "outputs": [
    {
     "name": "stdout",
     "output_type": "stream",
     "text": [
      "Результат додавання: [ 9 14 17 15 11]\n",
      "Результат віднімання: [ 3 -2  3 -5 -3]\n",
      "Результат множення: [18 48 70 50 28]\n"
     ]
    }
   ],
   "source": [
    "# Виконаємо поелементну операцію додавання\n",
    "addition_result = array1 + array2\n",
    "print(\"Результат додавання:\", addition_result)\n",
    "\n",
    "# Виконаємо поелементну операцію віднімання\n",
    "subtraction_result = array1 - array2\n",
    "print(\"Результат віднімання:\", subtraction_result)\n",
    "\n",
    "# Виконаємо поелементну операцію множення\n",
    "multiplication_result = array1 * array2\n",
    "print(\"Результат множення:\", multiplication_result)"
   ]
  },
  {
   "cell_type": "markdown",
   "id": "9b304382-c009-4e2e-aa49-0f11b76bf9a5",
   "metadata": {
    "jp-MarkdownHeadingCollapsed": true
   },
   "source": [
    "## 6 Створіть два вектори розміром 7, заповніть довільними числами та знайдіть їх скалярний добуток."
   ]
  },
  {
   "cell_type": "markdown",
   "id": "3ed29e92-8fc9-427f-8b8b-112c4f32feb2",
   "metadata": {},
   "source": [
    "Скалярний добуток (scalar or dot product) можна обчислити за наступною формулою $\\vec v \\cdot \\vec u = v^1 u_1 + v^2 u_2 + v^3 u_3 + \\ldots + v^n u_n$"
   ]
  },
  {
   "cell_type": "code",
   "execution_count": 20,
   "id": "1cbf7b94-6fa3-4c5a-8c28-292322aa73f4",
   "metadata": {},
   "outputs": [
    {
     "name": "stdout",
     "output_type": "stream",
     "text": [
      "Скалярний добуток векторів: 2.885423683537218\n"
     ]
    }
   ],
   "source": [
    "vector1 = np.random.random(7)\n",
    "vector2 = np.random.random(7)\n",
    "\n",
    "scalar_product = np.dot(vector1, vector2)\n",
    "\n",
    "print(\"Скалярний добуток векторів:\", scalar_product)"
   ]
  },
  {
   "cell_type": "markdown",
   "id": "2746db33-00b1-451c-a482-e3ad5ce71dad",
   "metadata": {
    "jp-MarkdownHeadingCollapsed": true
   },
   "source": [
    "## 7. Створіть дві матриці розміром $2\\times2$ та $2\\times3$, заповніть їх випадковими цілими числами в діапазоні від $1$ до $10$ та перемножте їх між собою."
   ]
  },
  {
   "cell_type": "code",
   "execution_count": 23,
   "id": "8cdf2660-e5e1-4637-8f5e-516c6ed784f7",
   "metadata": {},
   "outputs": [
    {
     "name": "stdout",
     "output_type": "stream",
     "text": [
      "Матриця 1:\n",
      "[[ 2  9]\n",
      " [10  2]]\n",
      "Матриця 2:\n",
      "[[2 7 6]\n",
      " [3 7 8]]\n",
      "Результат множення:\n",
      "[[31 77 84]\n",
      " [26 84 76]]\n"
     ]
    }
   ],
   "source": [
    "matrix1 = np.random.randint(1, 11, (2, 2))\n",
    "matrix2 = np.random.randint(1, 11, (2, 3))\n",
    "\n",
    "print(\"Матриця 1:\")\n",
    "print(matrix1)\n",
    "print(\"Матриця 2:\")\n",
    "print(matrix2)\n",
    "\n",
    "result = np.dot(matrix1, matrix2)\n",
    "\n",
    "print(\"Результат множення:\")\n",
    "print(result)"
   ]
  },
  {
   "cell_type": "markdown",
   "id": "2ec79ce3-8cdc-4bd3-bb44-fa0bf6d9d214",
   "metadata": {
    "jp-MarkdownHeadingCollapsed": true
   },
   "source": [
    "## 8. Створіть матрицю розміром $3\\times3$, заповніть її випадковими цілими числами в діапазоні від 1 до 10 та знайдіть її обернену матрицю."
   ]
  },
  {
   "cell_type": "markdown",
   "id": "e0bcc5fa-953a-43bf-acb4-69f8b70155bc",
   "metadata": {},
   "source": [
    "Обсичлення оберненої матриці здійснюється за формулою:\n",
    "\n",
    "$$ \\mathrm{A}^{-1} = \\frac{1}{\\mathrm{det}(\\mathrm{A})} \\cdot \\mathrm{adj}(\\mathrm{A}), $$\n",
    "\n",
    "де $ \\mathrm{det}(A) $ --- визначник матриці $\\mathrm A$, $\\mathrm{adj}(\\mathrm{A})$ --- доповнена матриця. \n",
    "\n",
    "Обернена матриця існує, якщо $ \\mathrm{det}(A) \\neq 0$. Матриця, для якої $ \\mathrm{det}(A) = 0$ називається сингулярною, і для такої матриці оберненої не існує. Тому в коді ми маємо це перевірити.$\r\n"
   ]
  },
  {
   "cell_type": "code",
   "execution_count": 29,
   "id": "3fd411e7-8390-4628-b538-7da7d25e9fe3",
   "metadata": {},
   "outputs": [
    {
     "name": "stdout",
     "output_type": "stream",
     "text": [
      "Початкова матриця:\n",
      "[[ 2  7  1]\n",
      " [ 2  9 10]\n",
      " [ 1  9  1]]\n",
      "Обернена матриця:\n",
      "[[ 0.83505155 -0.02061856 -0.62886598]\n",
      " [-0.08247423 -0.01030928  0.18556701]\n",
      " [-0.09278351  0.11340206 -0.04123711]]\n"
     ]
    }
   ],
   "source": [
    "# Створимо матрицю розміром 3x3 з випадковими цілими числами від 1 до 10\n",
    "matrix = np.random.randint(1, 11, (3, 3))\n",
    "\n",
    "# Виведемо початкову матрицю\n",
    "print(\"Початкова матриця:\")\n",
    "print(matrix)\n",
    "\n",
    "# Знайдемо обернену матрицю\n",
    "try:\n",
    "    inverse_matrix = np.linalg.inv(matrix)\n",
    "    print(\"Обернена матриця:\")\n",
    "    print(inverse_matrix)\n",
    "except np.linalg.LinAlgError:\n",
    "    print(\"Матриця не має оберненої матриці, оскільки вона може бути сингулярною.\")"
   ]
  },
  {
   "cell_type": "markdown",
   "id": "d5a76bad-b64c-46bd-939a-1ae5a4b6319b",
   "metadata": {
    "jp-MarkdownHeadingCollapsed": true
   },
   "source": [
    "## 9. Створіть матрицю розміром 4x4, заповніть її випадковими дійсними числами в діапазоні від 0 до 1 та транспонуйте її."
   ]
  },
  {
   "cell_type": "markdown",
   "id": "dedd5407-d807-441c-8221-5a6738081314",
   "metadata": {},
   "source": [
    "Транспонована матриця $\\mathrm{A}^T$, виникає з матриці $\\mathrm{A}$  врезультаті заміни рядків нв стлвбчики $(\\mathrm{A}^T)_{ji} = \\mathrm{A}_{ij} $:\n",
    "\n",
    "$$A = \n",
    "\\begin{bmatrix}\n",
    "1 & 2 & 3 \\\\\n",
    "4 & 5 & 6 \\\\\n",
    "\\end{bmatrix}\n",
    "$$\n",
    "\n",
    "Тоді транспонована матриця $ A^T $ буде мати вигляд:\n",
    "\n",
    "$$\n",
    "A^T = \n",
    "\\begin{bmatrix}\n",
    "1 & 4 \\\\\n",
    "2 & 5 \\\\\n",
    "3 & 6 \\\\\n",
    "\\end{bmatrix}\n",
    "$$"
   ]
  },
  {
   "cell_type": "code",
   "execution_count": 30,
   "id": "7ba41dcc-e98a-4c3f-8d8e-8f1ca1258661",
   "metadata": {},
   "outputs": [
    {
     "name": "stdout",
     "output_type": "stream",
     "text": [
      "Початкова матриця:\n",
      "[[0.44274132 0.06546424 0.82839526 0.81316836]\n",
      " [0.58220939 0.80171671 0.25918519 0.3433177 ]\n",
      " [0.59601568 0.06345121 0.61408012 0.53233793]\n",
      " [0.35932785 0.89176065 0.61856193 0.71279955]]\n",
      "Транспонована матриця:\n",
      "[[0.44274132 0.58220939 0.59601568 0.35932785]\n",
      " [0.06546424 0.80171671 0.06345121 0.89176065]\n",
      " [0.82839526 0.25918519 0.61408012 0.61856193]\n",
      " [0.81316836 0.3433177  0.53233793 0.71279955]]\n"
     ]
    }
   ],
   "source": [
    "matrix = np.random.rand(4, 4)\n",
    "\n",
    "# Виведемо початкову матрицю\n",
    "print(\"Початкова матриця:\")\n",
    "print(matrix)\n",
    "\n",
    "# Транспонуємо матрицю\n",
    "transposed_matrix = np.transpose(matrix)\n",
    "\n",
    "# Виведемо транспоновану матрицю\n",
    "print(\"Транспонована матриця:\")\n",
    "print(transposed_matrix)"
   ]
  },
  {
   "cell_type": "markdown",
   "id": "13db3c0b-0391-4d35-9549-70d8c329857e",
   "metadata": {
    "jp-MarkdownHeadingCollapsed": true
   },
   "source": [
    "## 10. Створіть матрицю розміром $3\\times4$ та вектор розміром 4, заповніть їх випадковими цілими числами в діапазоні від 1 до 10 та перемножте матрицю на вектор."
   ]
  },
  {
   "cell_type": "markdown",
   "id": "b2fde7e4-b32b-4857-97dd-3caf80094779",
   "metadata": {},
   "source": [
    "$$\n",
    "\\mathbf{u} = \\mathrm{A} \\cdot \\mathbf{v} = \n",
    "\\begin{bmatrix}\n",
    "  a_{11} & a_{12} & a_{13} \\\\\n",
    "  a_{21} & a_{22} & a_{23} \\\\\n",
    "  a_{31} & a_{32} & a_{33} \\\\\n",
    "\\end{bmatrix}\n",
    "\\begin{bmatrix}\n",
    "  v_1 \\\\\n",
    "  v_2 \\\\\n",
    "  v_3 \\\\\n",
    "\\end{bmatrix}\n",
    "=\n",
    "\\begin{bmatrix}\n",
    "  a_{11} \\cdot v_1 + a_{12} \\cdot v_2 + a_{13} \\cdot v_3 \\\\\n",
    "  a_{21} \\cdot v_1 + a_{22} \\cdot v_2 + a_{23} \\cdot v_3 \\\\\n",
    "  a_{31} \\cdot v_1 + a_{32} \\cdot v_2 + a_{33} \\cdot v_3 \\\\\n",
    "\\end{bmatrix}\n",
    "$$\n"
   ]
  },
  {
   "cell_type": "code",
   "execution_count": 39,
   "id": "1b1f110f-f702-40a3-8b1e-9cc4d83adf61",
   "metadata": {},
   "outputs": [
    {
     "name": "stdout",
     "output_type": "stream",
     "text": [
      "Матриця:\n",
      "[[ 6  3  7 10]\n",
      " [ 8  1  7  5]\n",
      " [10  8  2  4]]\n",
      "Вектор:\n",
      "[ 8 10  5 10]\n",
      "Результат перемноження:\n",
      "[213 159 210]\n"
     ]
    }
   ],
   "source": [
    "# Створимо матрицю розміром 3x4 з випадковими цілими числами від 1 до 10\n",
    "matrix = np.random.randint(1, 11, (3, 4))\n",
    "\n",
    "# Створимо вектор розміром 4 з випадковими цілими числами від 1 до 10\n",
    "vector = np.random.randint(1, 11, 4)\n",
    "\n",
    "# Виведемо матрицю і вектор\n",
    "print(\"Матриця:\")\n",
    "print(matrix)\n",
    "print(\"Вектор:\")\n",
    "print(vector)\n",
    "\n",
    "# Перемножимо матрицю на вектор\n",
    "result = np.dot(matrix, vector)\n",
    "\n",
    "# Виведемо результат\n",
    "print(\"Результат перемноження:\")\n",
    "print(result)"
   ]
  },
  {
   "cell_type": "markdown",
   "id": "93c1e0d1-1c37-467f-b68c-61d618ed5981",
   "metadata": {
    "jp-MarkdownHeadingCollapsed": true
   },
   "source": [
    "## 11. Створіть матрицю розміром $2\\times3$ та вектор розміром 3, заповніть їх випадковими дійсними числами в діапазоні від 0 до 1 та перемножте матрицю на вектор."
   ]
  },
  {
   "cell_type": "code",
   "execution_count": 41,
   "id": "8a007ec8-0261-4e48-b9c5-ea037b506e9f",
   "metadata": {},
   "outputs": [
    {
     "name": "stdout",
     "output_type": "stream",
     "text": [
      "Матриця:\n",
      "[[0.83520323 0.3536111  0.05206013]\n",
      " [0.33077744 0.73065574 0.38067504]]\n",
      "Вектор:\n",
      "[0.58731616 0.22167577 0.86382699]\n",
      "Результат перемноження:\n",
      "[0.61388631 0.68507699]\n"
     ]
    }
   ],
   "source": [
    "# Створимо матрицю розміром 2x3 з випадковими дійсними числами від 0 до 1\n",
    "matrix = np.random.rand(2, 3)\n",
    "\n",
    "# Створимо вектор розміром 3 з випадковими дійсними числами від 0 до 1\n",
    "vector = np.random.rand(3)\n",
    "\n",
    "# Виведемо матрицю і вектор\n",
    "print(\"Матриця:\")\n",
    "print(matrix)\n",
    "print(\"Вектор:\")\n",
    "print(vector)\n",
    "\n",
    "# Перемножимо матрицю на вектор\n",
    "result = np.dot(matrix, vector)\n",
    "\n",
    "# Виведемо результат\n",
    "print(\"Результат перемноження:\")\n",
    "print(result)"
   ]
  },
  {
   "cell_type": "markdown",
   "id": "bdf6ab28-ca9b-441b-8038-87380d82172f",
   "metadata": {
    "jp-MarkdownHeadingCollapsed": true
   },
   "source": [
    "## 12. Створіть дві матриці розміром 2x2, заповніть їх випадковими цілими числами в діапазоні від 1 до 10 та виконайте їхнє поелементне множення."
   ]
  },
  {
   "cell_type": "markdown",
   "id": "6b0a0e19-ac33-4aee-a23d-f69261819f5e",
   "metadata": {},
   "source": [
    "Поелементне множення двох матриць визначається так: результатом цієї операції є нова матриця, у якій кожний елемент результуючої матриці визначається, як добуток відповідних елементів вихідних матриць.\n",
    "\n",
    "Елемент результуючої матриці $\\mathrm C$ обчислюється як добуток відповідних елементів матриць $\\mathrm A$ і $\\mathrm B$:\n",
    "\n",
    "$$\n",
    "\\mathrm C_{ij}  = \\mathrm A_{ij} \\cdot \\mathrm B_{ij}\n",
    "$$\n",
    "\n",
    "де $\\mathrm C_{ij}$ --- елемент результуючої матриці $\\mathrm C$ на позиції $(i, j)$, $\\mathrm A_{ij}$ --- елемент матриці $\\mathrm A$ на позиції $(i, j)$ і $\\mathrm B_{ij}$ - елемент матриці $\\mathrm B$ на позиції $(i, j)$.\n",
    "\n",
    "Поелементне множення відрізняється від стандартного множення матриць, оскільки в останньому випадку обчислюється добуток рядків однієї матриці на стовпці іншої матриці, що веде до іншої результуючої матриці."
   ]
  },
  {
   "cell_type": "code",
   "execution_count": 42,
   "id": "db650000-53f8-4098-805f-df998c29331e",
   "metadata": {},
   "outputs": [
    {
     "name": "stdout",
     "output_type": "stream",
     "text": [
      "Перша матриця:\n",
      "[[9 3]\n",
      " [3 9]]\n",
      "Друга матриця:\n",
      "[[2 1]\n",
      " [6 6]]\n",
      "Результат поелементного множення:\n",
      "[[18  3]\n",
      " [18 54]]\n"
     ]
    }
   ],
   "source": [
    "# Створимо першу матрицю 2x2 з випадковими цілими числами в діапазоні від 1 до 10\n",
    "matrix1 = np.random.randint(1, 11, (2, 2))\n",
    "\n",
    "# Створимо другу матрицю 2x2 з випадковими цілими числами в діапазоні від 1 до 10\n",
    "matrix2 = np.random.randint(1, 11, (2, 2))\n",
    "\n",
    "# Виведемо обидві матриці\n",
    "print(\"Перша матриця:\")\n",
    "print(matrix1)\n",
    "print(\"Друга матриця:\")\n",
    "print(matrix2)\n",
    "\n",
    "# Виконаємо поелементне множення матриць\n",
    "result = np.multiply(matrix1, matrix2)\n",
    "\n",
    "# Виведемо результат\n",
    "print(\"Результат поелементного множення:\")\n",
    "print(result)"
   ]
  },
  {
   "cell_type": "markdown",
   "id": "64889b46-204d-4cf6-b113-72f41496fe0c",
   "metadata": {
    "jp-MarkdownHeadingCollapsed": true
   },
   "source": [
    "## 13. Створіть дві матриці розміром $2\\times 2$, заповніть їх випадковими цілими числами в діапазоні від 1 до 10 та знайдіть їх добуток."
   ]
  },
  {
   "cell_type": "markdown",
   "id": "c5c40d86-295d-4e09-85c6-7b243292d840",
   "metadata": {},
   "source": [
    "Добуток матриць визначаеться як:\n",
    "\n",
    "$$\\mathrm C_{ij} = \\sum_{r=1}^m \\mathrm A_{ir} \\mathrm B_{rj} \\;\\;\\; \\left(i=1, 2, \\ldots l;\\; j=1, 2, \\ldots n \\right)$$"
   ]
  },
  {
   "cell_type": "code",
   "execution_count": 44,
   "id": "38841500-7953-4e9e-8df3-cc1f02860b0e",
   "metadata": {},
   "outputs": [
    {
     "name": "stdout",
     "output_type": "stream",
     "text": [
      "Перша матриця:\n",
      "[[10  5]\n",
      " [ 7  1]]\n",
      "Друга матриця:\n",
      "[[1 3]\n",
      " [7 5]]\n",
      "Результат добутку матриць:\n",
      "[[45 55]\n",
      " [14 26]]\n"
     ]
    }
   ],
   "source": [
    "# Створимо першу матрицю 2x2 з випадковими цілими числами в діапазоні від 1 до 10\n",
    "matrix1 = np.random.randint(1, 11, (2, 2))\n",
    "\n",
    "# Створимо другу матрицю 2x2 з випадковими цілими числами в діапазоні від 1 до 10\n",
    "matrix2 = np.random.randint(1, 11, (2, 2))\n",
    "\n",
    "# Виведемо обидві матриці\n",
    "print(\"Перша матриця:\")\n",
    "print(matrix1)\n",
    "print(\"Друга матриця:\")\n",
    "print(matrix2)\n",
    "\n",
    "# Знайдемо добуток матриць\n",
    "result = np.dot(matrix1, matrix2)\n",
    "\n",
    "# Виведемо результат\n",
    "print(\"Результат добутку матриць:\")\n",
    "print(result)"
   ]
  },
  {
   "cell_type": "markdown",
   "id": "b3e2e125-7417-490a-ad61-b51cb6f368c4",
   "metadata": {
    "jp-MarkdownHeadingCollapsed": true
   },
   "source": [
    "## 14. Створіть матрицю розміром $5\\times 5$, заповніть її випадковими цілими числами в діапазоні від 1 до 100 та знайдіть суму елементів матриці."
   ]
  },
  {
   "cell_type": "code",
   "execution_count": 45,
   "id": "ae519803-3814-4dbf-a792-bb610fb0de97",
   "metadata": {},
   "outputs": [
    {
     "name": "stdout",
     "output_type": "stream",
     "text": [
      "Матриця:\n",
      "[[18 53 12 48 60]\n",
      " [17 74 57 66  1]\n",
      " [44 54  8  9 99]\n",
      " [11 91 90 30 69]\n",
      " [95 84 51  3 84]]\n",
      "Сума елементів матриці:  1228\n"
     ]
    }
   ],
   "source": [
    "# Створимо матрицю 5x5 з випадковими цілими числами від 1 до 100\n",
    "matrix = np.random.randint(1, 101, (5, 5))\n",
    "\n",
    "# Виведемо матрицю\n",
    "print(\"Матриця:\")\n",
    "print(matrix)\n",
    "\n",
    "# Знайдемо суму елементів матриці\n",
    "sum_of_elements = np.sum(matrix)\n",
    "\n",
    "# Виведемо суму\n",
    "print(\"Сума елементів матриці: \", sum_of_elements)"
   ]
  },
  {
   "cell_type": "markdown",
   "id": "2425e83f-aad9-41d8-8545-ff599cdb635a",
   "metadata": {
    "jp-MarkdownHeadingCollapsed": true
   },
   "source": [
    "## 15. Створіть дві матриці розміром $4\\times 4$, заповніть їх випадковими цілими числами в діапазоні від 1 до 10 та знайдіть їхню різницю."
   ]
  },
  {
   "cell_type": "markdown",
   "id": "4d4a5bb2-1c12-493a-acb5-4cc6b6c5d290",
   "metadata": {},
   "source": [
    "Віднімання матриць $\\mathrm A - \\mathrm B$ - це операція обчислення матриці $\\mathrm C$ , усі елементи якої дорівнюють попарній різниці всіх відповідних елементів матриць $\\mathrm A$ і $\\mathrm B$, тобто фактичноце полементне віднімання."
   ]
  },
  {
   "cell_type": "code",
   "execution_count": 47,
   "id": "ba9eb830-aceb-4db0-abf6-317d19b01a3c",
   "metadata": {},
   "outputs": [
    {
     "name": "stdout",
     "output_type": "stream",
     "text": [
      "Перша матриця:\n",
      "[[2 2 3 1]\n",
      " [5 6 7 6]\n",
      " [6 1 2 5]\n",
      " [1 3 4 2]]\n",
      "Друга матриця:\n",
      "[[2 1 7 8]\n",
      " [8 5 9 5]\n",
      " [8 5 9 1]\n",
      " [3 4 9 2]]\n",
      "Різниця матриць:\n",
      "[[ 0  1 -4 -7]\n",
      " [-3  1 -2  1]\n",
      " [-2 -4 -7  4]\n",
      " [-2 -1 -5  0]]\n"
     ]
    }
   ],
   "source": [
    "# Створимо першу матрицю 4x4 з випадковими цілими числами від 1 до 10\n",
    "matrix1 = np.random.randint(1, 11, (4, 4))\n",
    "\n",
    "# Створимо другу матрицю 4x4 з випадковими цілими числами від 1 до 10\n",
    "matrix2 = np.random.randint(1, 11, (4, 4))\n",
    "\n",
    "# Виведемо обидві матриці\n",
    "print(\"Перша матриця:\")\n",
    "print(matrix1)\n",
    "print(\"Друга матриця:\")\n",
    "print(matrix2)\n",
    "\n",
    "# Знайдемо різницю матриць\n",
    "result = matrix1 - matrix2\n",
    "\n",
    "# Виведемо результат\n",
    "print(\"Різниця матриць:\")\n",
    "print(result)"
   ]
  },
  {
   "cell_type": "markdown",
   "id": "48bebea9-9d47-4418-97bd-2ff99d946aae",
   "metadata": {
    "jp-MarkdownHeadingCollapsed": true
   },
   "source": [
    "## 16. Створіть матрицю розміром $3\\times 3$, заповніть її випадковими дійсними числами в діапазоні від 0 до 1 та знайдіть вектор-стовпчик, що містить суму елементів кожного рядка матриці."
   ]
  },
  {
   "cell_type": "code",
   "execution_count": 48,
   "id": "767fe8dc-93d4-458f-aa4f-b3ab54e60706",
   "metadata": {},
   "outputs": [
    {
     "name": "stdout",
     "output_type": "stream",
     "text": [
      "Матриця:\n",
      "[[0.31111932 0.76970371 0.62060414]\n",
      " [0.59861073 0.99843358 0.23297765]\n",
      " [0.93019568 0.43345573 0.85539769]]\n",
      "Вектор-стовпчик із сумами рядків:\n",
      "[[1.70142718]\n",
      " [1.83002196]\n",
      " [2.2190491 ]]\n"
     ]
    }
   ],
   "source": [
    "# Створимо матрицю 3x3 з випадковими дійсними числами в діапазоні від 0 до 1\n",
    "matrix = np.random.rand(3, 3)\n",
    "\n",
    "# Виведемо матрицю\n",
    "print(\"Матриця:\")\n",
    "print(matrix)\n",
    "\n",
    "# Знайдемо суму елементів кожного рядка матриці та створимо вектор-стовпчик\n",
    "sum_of_rows = np.sum(matrix, axis=1, keepdims=True)\n",
    "\n",
    "# Виведемо вектор-стовпчик із сумами\n",
    "print(\"Вектор-стовпчик із сумами рядків:\")\n",
    "print(sum_of_rows)"
   ]
  },
  {
   "cell_type": "markdown",
   "id": "74015571-6244-4ccc-8dcd-32ca93b7a60d",
   "metadata": {
    "jp-MarkdownHeadingCollapsed": true
   },
   "source": [
    "## 17. Створіть матрицю розміром $3\\times4$ з довільними цілими числами і створінь матрицю з квадратами цих чисел.\r\n"
   ]
  },
  {
   "cell_type": "code",
   "execution_count": 49,
   "id": "2ca24421-566c-46ce-b68c-478055f3cff5",
   "metadata": {},
   "outputs": [
    {
     "name": "stdout",
     "output_type": "stream",
     "text": [
      "Початкова матриця:\n",
      "[[  1  -5   1   3]\n",
      " [  1 -10  -5 -10]\n",
      " [  5   6   6  -2]]\n",
      "Матриця з квадратами чисел:\n",
      "[[  1  25   1   9]\n",
      " [  1 100  25 100]\n",
      " [ 25  36  36   4]]\n"
     ]
    }
   ],
   "source": [
    "# Створимо матрицю 3x4 з довільними цілими числами (від -10 до 10)\n",
    "matrix = np.random.randint(-10, 11, (3, 4))\n",
    "\n",
    "# Виведемо початкову матрицю\n",
    "print(\"Початкова матриця:\")\n",
    "print(matrix)\n",
    "\n",
    "# Знайдемо матрицю з квадратами чисел\n",
    "squared_matrix = np.square(matrix)\n",
    "\n",
    "# Виведемо матрицю з квадратами чисел\n",
    "print(\"Матриця з квадратами чисел:\")\n",
    "print(squared_matrix)"
   ]
  },
  {
   "cell_type": "markdown",
   "id": "53333a85-6876-4d3e-8399-a9ae7bdfbbed",
   "metadata": {
    "jp-MarkdownHeadingCollapsed": true
   },
   "source": [
    "## 18. Створіть вектор розміром 4, заповніть його випадковими цілими числами в діапазоні від 1 до 50 та знайдіть вектор з квадратними коренями цих чисел."
   ]
  },
  {
   "cell_type": "code",
   "execution_count": 52,
   "id": "2b659b79-8210-4313-80be-317212a2cf18",
   "metadata": {},
   "outputs": [
    {
     "name": "stdout",
     "output_type": "stream",
     "text": [
      "Початковий вектор: [42 20 23 37]\n",
      "Вектор з квадратними коренями чисел: [6.4807407  4.47213595 4.79583152 6.08276253]\n"
     ]
    }
   ],
   "source": [
    "# Створимо вектор розміром 4 з випадковими цілими числами від 1 до 50\n",
    "vector = np.random.randint(1, 51, 4)\n",
    "\n",
    "# Виведемо початковий вектор\n",
    "print(\"Початковий вектор:\", vector)\n",
    "\n",
    "# Знайдемо вектор з квадратними коренями чисел\n",
    "sqrt_vector = np.sqrt(vector)\n",
    "\n",
    "# Виведемо вектор з квадратними коренями\n",
    "print(\"Вектор з квадратними коренями чисел:\", sqrt_vector)"
   ]
  },
  {
   "cell_type": "code",
   "execution_count": null,
   "id": "cf6e68fb-2bd2-4d0b-a5bc-0924822fdb2d",
   "metadata": {},
   "outputs": [],
   "source": []
  }
 ],
 "metadata": {
  "kernelspec": {
   "display_name": "Python 3 (ipykernel)",
   "language": "python",
   "name": "python3"
  },
  "language_info": {
   "codemirror_mode": {
    "name": "ipython",
    "version": 3
   },
   "file_extension": ".py",
   "mimetype": "text/x-python",
   "name": "python",
   "nbconvert_exporter": "python",
   "pygments_lexer": "ipython3",
   "version": "3.10.9"
  }
 },
 "nbformat": 4,
 "nbformat_minor": 5
}
