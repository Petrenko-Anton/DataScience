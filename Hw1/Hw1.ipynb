{
 "cells": [
  {
   "cell_type": "markdown",
   "id": "ad4bda39-28d9-447a-9797-2b6fdd02c7f5",
   "metadata": {
    "pycharm": {
     "name": "#%% md\n"
    }
   },
   "source": [
    "# Домашнє завдання №1 (Модуль 1. Знайомство з Data Science)"
   ]
  },
  {
   "cell_type": "markdown",
   "id": "1f1d5f94-d78f-4e21-b370-ddf2f3f87104",
   "metadata": {
    "jp-MarkdownHeadingCollapsed": true,
    "pycharm": {
     "name": "#%% md\n"
    }
   },
   "source": [
    "## Імпорт модулів"
   ]
  },
  {
   "cell_type": "code",
   "execution_count": 2,
   "id": "aff6c58e-9e53-4714-bff6-37c20d03b3bb",
   "metadata": {
    "pycharm": {
     "name": "#%%\n"
    }
   },
   "outputs": [],
   "source": [
    "import numpy as np"
   ]
  },
  {
   "cell_type": "markdown",
   "id": "47c2f733-49ac-47dd-9f34-d28d817e635f",
   "metadata": {
    "jp-MarkdownHeadingCollapsed": true,
    "pycharm": {
     "name": "#%% md\n"
    }
   },
   "source": [
    "## 1. Створіть одновимірний масив (вектор) з першими 10-ма натуральними числами та виведіть його значення."
   ]
  },
  {
   "cell_type": "markdown",
   "id": "2c8c8580-76bf-4ff8-8dea-3752297a15ae",
   "metadata": {
    "pycharm": {
     "name": "#%% md\n"
    }
   },
   "source": [
    "Натура́льні чи́сла --- це числа, що виникають природним чином при лічбі. Це числа: $1$, $2$, $3$, $4$, $\\ldots$ Множинунатуральних чисел прийнято позначати $\\mathbb{N}$."
   ]
  },
  {
   "cell_type": "code",
   "execution_count": 3,
   "id": "2bcbf676-2046-4a88-9359-c0138a9721d0",
   "metadata": {
    "pycharm": {
     "name": "#%%\n"
    }
   },
   "outputs": [
    {
     "name": "stdout",
     "output_type": "stream",
     "text": [
      "[ 1  2  3  4  5  6  7  8  9 10]\n"
     ]
    }
   ],
   "source": [
    "vector = np.arange(1, 11)\n",
    "print(vector)"
   ]
  },
  {
   "cell_type": "markdown",
   "id": "e988e996-f1d2-40be-8892-d13325230777",
   "metadata": {
    "jp-MarkdownHeadingCollapsed": true,
    "pycharm": {
     "name": "#%% md\n"
    }
   },
   "source": [
    "## 2. Створіть двовимірний масив (матрицю) розміром 3x3, заповніть його нулями та виведіть його значення.}"
   ]
  },
  {
   "cell_type": "code",
   "execution_count": 4,
   "id": "dcc0e2a6-61df-450b-a7f7-363b5607eaee",
   "metadata": {
    "pycharm": {
     "name": "#%%\n"
    }
   },
   "outputs": [
    {
     "name": "stdout",
     "output_type": "stream",
     "text": [
      "[[0. 0. 0.]\n",
      " [0. 0. 0.]\n",
      " [0. 0. 0.]]\n"
     ]
    }
   ],
   "source": [
    "matrix = np.zeros((3, 3))\n",
    "print(matrix)"
   ]
  },
  {
   "cell_type": "markdown",
   "id": "55029f74-4167-4cb5-8efd-a92a485634d4",
   "metadata": {
    "jp-MarkdownHeadingCollapsed": true,
    "pycharm": {
     "name": "#%% md\n"
    }
   },
   "source": [
    "## 3. Створіть масив розміром $5\\times 5$, заповніть його випадковими цілими числами в діапазоні від 1 до 10 та виведіть його значення."
   ]
  },
  {
   "cell_type": "code",
   "execution_count": 5,
   "id": "135f3956-2c21-41dd-8ccc-42b2936fd17a",
   "metadata": {
    "pycharm": {
     "name": "#%%\n"
    }
   },
   "outputs": [
    {
     "name": "stdout",
     "output_type": "stream",
     "text": [
      "[[ 7 10  4  6  7]\n",
      " [ 1 10  1  1 10]\n",
      " [10  9 10  6  3]\n",
      " [10  7  9  6  6]\n",
      " [ 9  2  4  4  4]]\n"
     ]
    }
   ],
   "source": [
    "random_matrix = np.random.randint(1, 11, (5, 5))\n",
    "print(random_matrix)"
   ]
  },
  {
   "cell_type": "markdown",
   "id": "9f038ae1-bbfd-48ca-80eb-1a245df98aed",
   "metadata": {
    "jp-MarkdownHeadingCollapsed": true,
    "pycharm": {
     "name": "#%% md\n"
    }
   },
   "source": [
    "## 4. Створіть масив розміром $4\\times 4$, заповніть його випадковими дійсними числами в діапазоні від 0 до 1 та виведіть його значення."
   ]
  },
  {
   "cell_type": "code",
   "execution_count": 6,
   "id": "9585cbf8-98bc-4884-9fd9-cd3790851818",
   "metadata": {
    "pycharm": {
     "name": "#%%\n"
    }
   },
   "outputs": [
    {
     "name": "stdout",
     "output_type": "stream",
     "text": [
      "[[0.34716231 0.38666569 0.60847232 0.44947206]\n",
      " [0.28441679 0.24889235 0.69068513 0.44390396]\n",
      " [0.45757561 0.30179135 0.30334876 0.14319334]\n",
      " [0.19297175 0.18552924 0.3236188  0.56707376]]\n"
     ]
    }
   ],
   "source": [
    "random_matrix = np.random.rand(4, 4)\n",
    "print(random_matrix)"
   ]
  },
  {
   "cell_type": "markdown",
   "id": "c9a46ebf-904d-4696-91d0-639ae584bf28",
   "metadata": {
    "jp-MarkdownHeadingCollapsed": true,
    "pycharm": {
     "name": "#%% md\n"
    }
   },
   "source": [
    "## 5. Створіть два одновимірних масиви розміром 5, заповніть їх випадковими цілими числами в діапазоні від 1 до 10 та виконайте на них поелементні операції додавання, віднімання та множення."
   ]
  },
  {
   "cell_type": "markdown",
   "id": "3375b037-028c-4696-aeea-4a1d7f543f82",
   "metadata": {
    "pycharm": {
     "name": "#%% md\n"
    }
   },
   "source": [
    "### 5.1 Створення масивів"
   ]
  },
  {
   "cell_type": "code",
   "execution_count": 7,
   "id": "df990d3b-952b-408e-be61-b3e521731121",
   "metadata": {
    "pycharm": {
     "name": "#%%\n"
    }
   },
   "outputs": [
    {
     "name": "stdout",
     "output_type": "stream",
     "text": [
      "Масив 1: [1 5 1 9 9]\n",
      "Масив 2: [8 2 4 6 7]\n"
     ]
    }
   ],
   "source": [
    "array1 = np.random.randint(1, 11, 5)\n",
    "array2 = np.random.randint(1, 11, 5)\n",
    "\n",
    "print(\"Масив 1:\", array1)\n",
    "print(\"Масив 2:\", array2)"
   ]
  },
  {
   "cell_type": "markdown",
   "id": "3945487c-eb5c-4d86-811a-526a6ffbf959",
   "metadata": {
    "pycharm": {
     "name": "#%% md\n"
    }
   },
   "source": [
    "### 5.2 Поелементні операції"
   ]
  },
  {
   "cell_type": "code",
   "execution_count": 8,
   "id": "76e35a89-a649-4bbe-8405-6c87718b48a0",
   "metadata": {
    "pycharm": {
     "name": "#%%\n"
    }
   },
   "outputs": [
    {
     "name": "stdout",
     "output_type": "stream",
     "text": [
      "Результат додавання: [ 9  7  5 15 16]\n",
      "Результат віднімання: [-7  3 -3  3  2]\n",
      "Результат множення: [ 8 10  4 54 63]\n"
     ]
    }
   ],
   "source": [
    "# Виконаємо поелементну операцію додавання\n",
    "addition_result = array1 + array2\n",
    "print(\"Результат додавання:\", addition_result)\n",
    "\n",
    "# Виконаємо поелементну операцію віднімання\n",
    "subtraction_result = array1 - array2\n",
    "print(\"Результат віднімання:\", subtraction_result)\n",
    "\n",
    "# Виконаємо поелементну операцію множення\n",
    "multiplication_result = array1 * array2\n",
    "print(\"Результат множення:\", multiplication_result)"
   ]
  },
  {
   "cell_type": "markdown",
   "id": "9b304382-c009-4e2e-aa49-0f11b76bf9a5",
   "metadata": {
    "jp-MarkdownHeadingCollapsed": true,
    "pycharm": {
     "name": "#%% md\n"
    }
   },
   "source": [
    "## 6 Створіть два вектори розміром 7, заповніть довільними числами та знайдіть їх скалярний добуток."
   ]
  },
  {
   "cell_type": "markdown",
   "id": "3ed29e92-8fc9-427f-8b8b-112c4f32feb2",
   "metadata": {
    "pycharm": {
     "name": "#%% md\n"
    }
   },
   "source": [
    "Скалярний добуток (scalar or dot product) можна обчислити за наступною формулою $\\vec v \\cdot \\vec u = v^1 u_1 + v^2 u_2 + v^3 u_3 + \\ldots + v^n u_n$"
   ]
  },
  {
   "cell_type": "code",
   "execution_count": 9,
   "id": "1cbf7b94-6fa3-4c5a-8c28-292322aa73f4",
   "metadata": {
    "pycharm": {
     "name": "#%%\n"
    }
   },
   "outputs": [
    {
     "name": "stdout",
     "output_type": "stream",
     "text": [
      "Скалярний добуток векторів: 1.8680632685208063\n"
     ]
    }
   ],
   "source": [
    "vector1 = np.random.random(7)\n",
    "vector2 = np.random.random(7)\n",
    "\n",
    "scalar_product = np.dot(vector1, vector2)\n",
    "\n",
    "print(\"Скалярний добуток векторів:\", scalar_product)"
   ]
  },
  {
   "cell_type": "markdown",
   "id": "2746db33-00b1-451c-a482-e3ad5ce71dad",
   "metadata": {
    "jp-MarkdownHeadingCollapsed": true,
    "pycharm": {
     "name": "#%% md\n"
    }
   },
   "source": [
    "## 7. Створіть дві матриці розміром $2\\times2$ та $2\\times3$, заповніть їх випадковими цілими числами в діапазоні від $1$ до $10$ та перемножте їх між собою."
   ]
  },
  {
   "cell_type": "code",
   "execution_count": 10,
   "id": "8cdf2660-e5e1-4637-8f5e-516c6ed784f7",
   "metadata": {
    "pycharm": {
     "name": "#%%\n"
    }
   },
   "outputs": [
    {
     "name": "stdout",
     "output_type": "stream",
     "text": [
      "Матриця 1:\n",
      "[[ 8  6]\n",
      " [10  4]]\n",
      "Матриця 2:\n",
      "[[ 7 10  4]\n",
      " [ 6 10  7]]\n",
      "Результат множення:\n",
      "[[ 92 140  74]\n",
      " [ 94 140  68]]\n"
     ]
    }
   ],
   "source": [
    "matrix1 = np.random.randint(1, 11, (2, 2))\n",
    "matrix2 = np.random.randint(1, 11, (2, 3))\n",
    "\n",
    "print(\"Матриця 1:\")\n",
    "print(matrix1)\n",
    "print(\"Матриця 2:\")\n",
    "print(matrix2)\n",
    "\n",
    "result = np.dot(matrix1, matrix2)\n",
    "\n",
    "print(\"Результат множення:\")\n",
    "print(result)"
   ]
  },
  {
   "cell_type": "markdown",
   "id": "2ec79ce3-8cdc-4bd3-bb44-fa0bf6d9d214",
   "metadata": {
    "jp-MarkdownHeadingCollapsed": true,
    "pycharm": {
     "name": "#%% md\n"
    }
   },
   "source": [
    "## 8. Створіть матрицю розміром $3\\times3$, заповніть її випадковими цілими числами в діапазоні від 1 до 10 та знайдіть її обернену матрицю."
   ]
  },
  {
   "cell_type": "markdown",
   "id": "e0bcc5fa-953a-43bf-acb4-69f8b70155bc",
   "metadata": {
    "pycharm": {
     "name": "#%% md\n"
    }
   },
   "source": [
    "Обсичлення оберненої матриці здійснюється за формулою:\n",
    "\n",
    "$$ \\mathrm{A}^{-1} = \\frac{1}{\\mathrm{det}(\\mathrm{A})} \\cdot \\mathrm{adj}(\\mathrm{A}), $$\n",
    "\n",
    "де $ \\mathrm{det}(A) $ --- визначник матриці $\\mathrm A$, $\\mathrm{adj}(\\mathrm{A})$ --- доповнена матриця. \n",
    "\n",
    "Обернена матриця існує, якщо $ \\mathrm{det}(A) \\neq 0$. Матриця, для якої $ \\mathrm{det}(A) = 0$ називається сингулярною, і для такої матриці оберненої не існує. Тому в коді ми маємо це перевірити.$\n"
   ]
  },
  {
   "cell_type": "code",
   "execution_count": 11,
   "id": "3fd411e7-8390-4628-b538-7da7d25e9fe3",
   "metadata": {
    "pycharm": {
     "name": "#%%\n"
    }
   },
   "outputs": [
    {
     "name": "stdout",
     "output_type": "stream",
     "text": [
      "Початкова матриця:\n",
      "[[ 2  4  6]\n",
      " [ 7  1  1]\n",
      " [ 5  1 10]]\n",
      "Обернена матриця:\n",
      "[[-0.03913043  0.14782609  0.00869565]\n",
      " [ 0.2826087   0.04347826 -0.17391304]\n",
      " [-0.00869565 -0.07826087  0.11304348]]\n"
     ]
    }
   ],
   "source": [
    "# Створимо матрицю розміром 3x3 з випадковими цілими числами від 1 до 10\n",
    "matrix = np.random.randint(1, 11, (3, 3))\n",
    "\n",
    "# Виведемо початкову матрицю\n",
    "print(\"Початкова матриця:\")\n",
    "print(matrix)\n",
    "\n",
    "# Знайдемо обернену матрицю\n",
    "try:\n",
    "    inverse_matrix = np.linalg.inv(matrix)\n",
    "    print(\"Обернена матриця:\")\n",
    "    print(inverse_matrix)\n",
    "except np.linalg.LinAlgError:\n",
    "    print(\"Матриця не має оберненої матриці, оскільки вона може бути сингулярною.\")"
   ]
  },
  {
   "cell_type": "markdown",
   "id": "d5a76bad-b64c-46bd-939a-1ae5a4b6319b",
   "metadata": {
    "jp-MarkdownHeadingCollapsed": true,
    "pycharm": {
     "name": "#%% md\n"
    }
   },
   "source": [
    "## 9. Створіть матрицю розміром 4x4, заповніть її випадковими дійсними числами в діапазоні від 0 до 1 та транспонуйте її."
   ]
  },
  {
   "cell_type": "markdown",
   "id": "dedd5407-d807-441c-8221-5a6738081314",
   "metadata": {
    "pycharm": {
     "name": "#%% md\n"
    }
   },
   "source": [
    "Транспонована матриця $\\mathrm{A}^T$, виникає з матриці $\\mathrm{A}$  врезультаті заміни рядків нв стлвбчики $(\\mathrm{A}^T)_{ji} = \\mathrm{A}_{ij} $:\n",
    "\n",
    "$$A = \n",
    "\\begin{bmatrix}\n",
    "1 & 2 & 3 \\\\\n",
    "4 & 5 & 6 \\\\\n",
    "\\end{bmatrix}\n",
    "$$\n",
    "\n",
    "Тоді транспонована матриця $ A^T $ буде мати вигляд:\n",
    "\n",
    "$$\n",
    "A^T = \n",
    "\\begin{bmatrix}\n",
    "1 & 4 \\\\\n",
    "2 & 5 \\\\\n",
    "3 & 6 \\\\\n",
    "\\end{bmatrix}\n",
    "$$"
   ]
  },
  {
   "cell_type": "code",
   "execution_count": 12,
   "id": "7ba41dcc-e98a-4c3f-8d8e-8f1ca1258661",
   "metadata": {
    "pycharm": {
     "name": "#%%\n"
    }
   },
   "outputs": [
    {
     "name": "stdout",
     "output_type": "stream",
     "text": [
      "Початкова матриця:\n",
      "[[0.08402274 0.07052606 0.94668645 0.47278038]\n",
      " [0.65529227 0.45497744 0.38751573 0.46614788]\n",
      " [0.57033985 0.4134212  0.46341259 0.69720946]\n",
      " [0.15384283 0.5854396  0.90123728 0.15706181]]\n",
      "Транспонована матриця:\n",
      "[[0.08402274 0.65529227 0.57033985 0.15384283]\n",
      " [0.07052606 0.45497744 0.4134212  0.5854396 ]\n",
      " [0.94668645 0.38751573 0.46341259 0.90123728]\n",
      " [0.47278038 0.46614788 0.69720946 0.15706181]]\n"
     ]
    }
   ],
   "source": [
    "matrix = np.random.rand(4, 4)\n",
    "\n",
    "# Виведемо початкову матрицю\n",
    "print(\"Початкова матриця:\")\n",
    "print(matrix)\n",
    "\n",
    "# Транспонуємо матрицю\n",
    "transposed_matrix = np.transpose(matrix)\n",
    "\n",
    "# Виведемо транспоновану матрицю\n",
    "print(\"Транспонована матриця:\")\n",
    "print(transposed_matrix)"
   ]
  },
  {
   "cell_type": "markdown",
   "id": "13db3c0b-0391-4d35-9549-70d8c329857e",
   "metadata": {
    "jp-MarkdownHeadingCollapsed": true,
    "pycharm": {
     "name": "#%% md\n"
    }
   },
   "source": [
    "## 10. Створіть матрицю розміром $3\\times4$ та вектор розміром 4, заповніть їх випадковими цілими числами в діапазоні від 1 до 10 та перемножте матрицю на вектор."
   ]
  },
  {
   "cell_type": "markdown",
   "id": "b2fde7e4-b32b-4857-97dd-3caf80094779",
   "metadata": {
    "pycharm": {
     "name": "#%% md\n"
    }
   },
   "source": [
    "$$\n",
    "\\mathbf{u} = \\mathrm{A} \\cdot \\mathbf{v} = \n",
    "\\begin{bmatrix}\n",
    "  a_{11} & a_{12} & a_{13} \\\\\n",
    "  a_{21} & a_{22} & a_{23} \\\\\n",
    "  a_{31} & a_{32} & a_{33} \\\\\n",
    "\\end{bmatrix}\n",
    "\\begin{bmatrix}\n",
    "  v_1 \\\\\n",
    "  v_2 \\\\\n",
    "  v_3 \\\\\n",
    "\\end{bmatrix}\n",
    "=\n",
    "\\begin{bmatrix}\n",
    "  a_{11} \\cdot v_1 + a_{12} \\cdot v_2 + a_{13} \\cdot v_3 \\\\\n",
    "  a_{21} \\cdot v_1 + a_{22} \\cdot v_2 + a_{23} \\cdot v_3 \\\\\n",
    "  a_{31} \\cdot v_1 + a_{32} \\cdot v_2 + a_{33} \\cdot v_3 \\\\\n",
    "\\end{bmatrix}\n",
    "$$\n"
   ]
  },
  {
   "cell_type": "code",
   "execution_count": 13,
   "id": "1b1f110f-f702-40a3-8b1e-9cc4d83adf61",
   "metadata": {
    "pycharm": {
     "name": "#%%\n"
    }
   },
   "outputs": [
    {
     "name": "stdout",
     "output_type": "stream",
     "text": [
      "Матриця:\n",
      "[[5 3 6 2]\n",
      " [7 2 7 7]\n",
      " [5 9 5 7]]\n",
      "Вектор:\n",
      "[ 8  3 10  9]\n",
      "Результат перемноження:\n",
      "[127 195 180]\n"
     ]
    }
   ],
   "source": [
    "# Створимо матрицю розміром 3x4 з випадковими цілими числами від 1 до 10\n",
    "matrix = np.random.randint(1, 11, (3, 4))\n",
    "\n",
    "# Створимо вектор розміром 4 з випадковими цілими числами від 1 до 10\n",
    "vector = np.random.randint(1, 11, 4)\n",
    "\n",
    "# Виведемо матрицю і вектор\n",
    "print(\"Матриця:\")\n",
    "print(matrix)\n",
    "print(\"Вектор:\")\n",
    "print(vector)\n",
    "\n",
    "# Перемножимо матрицю на вектор\n",
    "result = np.dot(matrix, vector)\n",
    "\n",
    "# Виведемо результат\n",
    "print(\"Результат перемноження:\")\n",
    "print(result)"
   ]
  },
  {
   "cell_type": "markdown",
   "id": "93c1e0d1-1c37-467f-b68c-61d618ed5981",
   "metadata": {
    "jp-MarkdownHeadingCollapsed": true,
    "pycharm": {
     "name": "#%% md\n"
    }
   },
   "source": [
    "## 11. Створіть матрицю розміром $2\\times3$ та вектор розміром 3, заповніть їх випадковими дійсними числами в діапазоні від 0 до 1 та перемножте матрицю на вектор."
   ]
  },
  {
   "cell_type": "code",
   "execution_count": 14,
   "id": "8a007ec8-0261-4e48-b9c5-ea037b506e9f",
   "metadata": {
    "pycharm": {
     "name": "#%%\n"
    }
   },
   "outputs": [
    {
     "name": "stdout",
     "output_type": "stream",
     "text": [
      "Матриця:\n",
      "[[0.40142629 0.24681107 0.41057536]\n",
      " [0.72516117 0.91335118 0.68146542]]\n",
      "Вектор:\n",
      "[0.3660769  0.20024095 0.43328539]\n",
      "Результат перемноження:\n",
      "[0.37427088 0.74362408]\n"
     ]
    }
   ],
   "source": [
    "# Створимо матрицю розміром 2x3 з випадковими дійсними числами від 0 до 1\n",
    "matrix = np.random.rand(2, 3)\n",
    "\n",
    "# Створимо вектор розміром 3 з випадковими дійсними числами від 0 до 1\n",
    "vector = np.random.rand(3)\n",
    "\n",
    "# Виведемо матрицю і вектор\n",
    "print(\"Матриця:\")\n",
    "print(matrix)\n",
    "print(\"Вектор:\")\n",
    "print(vector)\n",
    "\n",
    "# Перемножимо матрицю на вектор\n",
    "result = np.dot(matrix, vector)\n",
    "\n",
    "# Виведемо результат\n",
    "print(\"Результат перемноження:\")\n",
    "print(result)"
   ]
  },
  {
   "cell_type": "markdown",
   "id": "bdf6ab28-ca9b-441b-8038-87380d82172f",
   "metadata": {
    "jp-MarkdownHeadingCollapsed": true,
    "pycharm": {
     "name": "#%% md\n"
    }
   },
   "source": [
    "## 12. Створіть дві матриці розміром 2x2, заповніть їх випадковими цілими числами в діапазоні від 1 до 10 та виконайте їхнє поелементне множення."
   ]
  },
  {
   "cell_type": "markdown",
   "id": "6b0a0e19-ac33-4aee-a23d-f69261819f5e",
   "metadata": {
    "pycharm": {
     "name": "#%% md\n"
    }
   },
   "source": [
    "Поелементне множення двох матриць визначається так: результатом цієї операції є нова матриця, у якій кожний елемент результуючої матриці визначається, як добуток відповідних елементів вихідних матриць.\n",
    "\n",
    "Елемент результуючої матриці $\\mathrm C$ обчислюється як добуток відповідних елементів матриць $\\mathrm A$ і $\\mathrm B$:\n",
    "\n",
    "$$\n",
    "\\mathrm C_{ij}  = \\mathrm A_{ij} \\cdot \\mathrm B_{ij}\n",
    "$$\n",
    "\n",
    "де $\\mathrm C_{ij}$ --- елемент результуючої матриці $\\mathrm C$ на позиції $(i, j)$, $\\mathrm A_{ij}$ --- елемент матриці $\\mathrm A$ на позиції $(i, j)$ і $\\mathrm B_{ij}$ - елемент матриці $\\mathrm B$ на позиції $(i, j)$.\n",
    "\n",
    "Поелементне множення відрізняється від стандартного множення матриць, оскільки в останньому випадку обчислюється добуток рядків однієї матриці на стовпці іншої матриці, що веде до іншої результуючої матриці."
   ]
  },
  {
   "cell_type": "code",
   "execution_count": 15,
   "id": "db650000-53f8-4098-805f-df998c29331e",
   "metadata": {
    "pycharm": {
     "name": "#%%\n"
    }
   },
   "outputs": [
    {
     "name": "stdout",
     "output_type": "stream",
     "text": [
      "Перша матриця:\n",
      "[[5 7]\n",
      " [1 2]]\n",
      "Друга матриця:\n",
      "[[ 7 10]\n",
      " [ 3  9]]\n",
      "Результат поелементного множення:\n",
      "[[35 70]\n",
      " [ 3 18]]\n"
     ]
    }
   ],
   "source": [
    "# Створимо першу матрицю 2x2 з випадковими цілими числами в діапазоні від 1 до 10\n",
    "matrix1 = np.random.randint(1, 11, (2, 2))\n",
    "\n",
    "# Створимо другу матрицю 2x2 з випадковими цілими числами в діапазоні від 1 до 10\n",
    "matrix2 = np.random.randint(1, 11, (2, 2))\n",
    "\n",
    "# Виведемо обидві матриці\n",
    "print(\"Перша матриця:\")\n",
    "print(matrix1)\n",
    "print(\"Друга матриця:\")\n",
    "print(matrix2)\n",
    "\n",
    "# Виконаємо поелементне множення матриць\n",
    "result = np.multiply(matrix1, matrix2)\n",
    "\n",
    "# Виведемо результат\n",
    "print(\"Результат поелементного множення:\")\n",
    "print(result)"
   ]
  },
  {
   "cell_type": "markdown",
   "id": "64889b46-204d-4cf6-b113-72f41496fe0c",
   "metadata": {
    "jp-MarkdownHeadingCollapsed": true,
    "pycharm": {
     "name": "#%% md\n"
    }
   },
   "source": [
    "## 13. Створіть дві матриці розміром $2\\times 2$, заповніть їх випадковими цілими числами в діапазоні від 1 до 10 та знайдіть їх добуток."
   ]
  },
  {
   "cell_type": "markdown",
   "id": "c5c40d86-295d-4e09-85c6-7b243292d840",
   "metadata": {
    "pycharm": {
     "name": "#%% md\n"
    }
   },
   "source": [
    "Добуток матриць визначаеться як:\n",
    "\n",
    "$$\\mathrm C_{ij} = \\sum_{r=1}^m \\mathrm A_{ir} \\mathrm B_{rj} \\;\\;\\; \\left(i=1, 2, \\ldots l;\\; j=1, 2, \\ldots n \\right)$$"
   ]
  },
  {
   "cell_type": "code",
   "execution_count": 16,
   "id": "38841500-7953-4e9e-8df3-cc1f02860b0e",
   "metadata": {
    "pycharm": {
     "name": "#%%\n"
    }
   },
   "outputs": [
    {
     "name": "stdout",
     "output_type": "stream",
     "text": [
      "Перша матриця:\n",
      "[[1 3]\n",
      " [2 5]]\n",
      "Друга матриця:\n",
      "[[7 7]\n",
      " [2 3]]\n",
      "Результат добутку матриць:\n",
      "[[13 16]\n",
      " [24 29]]\n"
     ]
    }
   ],
   "source": [
    "# Створимо першу матрицю 2x2 з випадковими цілими числами в діапазоні від 1 до 10\n",
    "matrix1 = np.random.randint(1, 11, (2, 2))\n",
    "\n",
    "# Створимо другу матрицю 2x2 з випадковими цілими числами в діапазоні від 1 до 10\n",
    "matrix2 = np.random.randint(1, 11, (2, 2))\n",
    "\n",
    "# Виведемо обидві матриці\n",
    "print(\"Перша матриця:\")\n",
    "print(matrix1)\n",
    "print(\"Друга матриця:\")\n",
    "print(matrix2)\n",
    "\n",
    "# Знайдемо добуток матриць\n",
    "result = np.dot(matrix1, matrix2)\n",
    "\n",
    "# Виведемо результат\n",
    "print(\"Результат добутку матриць:\")\n",
    "print(result)"
   ]
  },
  {
   "cell_type": "markdown",
   "id": "b3e2e125-7417-490a-ad61-b51cb6f368c4",
   "metadata": {
    "jp-MarkdownHeadingCollapsed": true,
    "pycharm": {
     "name": "#%% md\n"
    }
   },
   "source": [
    "## 14. Створіть матрицю розміром $5\\times 5$, заповніть її випадковими цілими числами в діапазоні від 1 до 100 та знайдіть суму елементів матриці."
   ]
  },
  {
   "cell_type": "code",
   "execution_count": 17,
   "id": "ae519803-3814-4dbf-a792-bb610fb0de97",
   "metadata": {
    "pycharm": {
     "name": "#%%\n"
    }
   },
   "outputs": [
    {
     "name": "stdout",
     "output_type": "stream",
     "text": [
      "Матриця:\n",
      "[[ 65  54  46 100  89]\n",
      " [ 19  41  79  28  70]\n",
      " [ 73  27  94  20  94]\n",
      " [ 46  35  18  68  27]\n",
      " [ 36  63  33  76   7]]\n",
      "Сума елементів матриці:  1308\n"
     ]
    }
   ],
   "source": [
    "# Створимо матрицю 5x5 з випадковими цілими числами від 1 до 100\n",
    "matrix = np.random.randint(1, 101, (5, 5))\n",
    "\n",
    "# Виведемо матрицю\n",
    "print(\"Матриця:\")\n",
    "print(matrix)\n",
    "\n",
    "# Знайдемо суму елементів матриці\n",
    "sum_of_elements = np.sum(matrix)\n",
    "\n",
    "# Виведемо суму\n",
    "print(\"Сума елементів матриці: \", sum_of_elements)"
   ]
  },
  {
   "cell_type": "markdown",
   "id": "2425e83f-aad9-41d8-8545-ff599cdb635a",
   "metadata": {
    "jp-MarkdownHeadingCollapsed": true,
    "pycharm": {
     "name": "#%% md\n"
    }
   },
   "source": [
    "## 15. Створіть дві матриці розміром $4\\times 4$, заповніть їх випадковими цілими числами в діапазоні від 1 до 10 та знайдіть їхню різницю."
   ]
  },
  {
   "cell_type": "markdown",
   "id": "4d4a5bb2-1c12-493a-acb5-4cc6b6c5d290",
   "metadata": {
    "pycharm": {
     "name": "#%% md\n"
    }
   },
   "source": [
    "Віднімання матриць $\\mathrm A - \\mathrm B$ - це операція обчислення матриці $\\mathrm C$ , усі елементи якої дорівнюють попарній різниці всіх відповідних елементів матриць $\\mathrm A$ і $\\mathrm B$, тобто фактичноце полементне віднімання."
   ]
  },
  {
   "cell_type": "code",
   "execution_count": 18,
   "id": "ba9eb830-aceb-4db0-abf6-317d19b01a3c",
   "metadata": {
    "pycharm": {
     "name": "#%%\n"
    }
   },
   "outputs": [
    {
     "name": "stdout",
     "output_type": "stream",
     "text": [
      "Перша матриця:\n",
      "[[ 6  4 10  4]\n",
      " [ 6  3  7 10]\n",
      " [ 5  9  6  4]\n",
      " [ 5  9 10  5]]\n",
      "Друга матриця:\n",
      "[[6 6 4 2]\n",
      " [6 1 2 8]\n",
      " [2 9 1 5]\n",
      " [5 3 5 5]]\n",
      "Різниця матриць:\n",
      "[[ 0 -2  6  2]\n",
      " [ 0  2  5  2]\n",
      " [ 3  0  5 -1]\n",
      " [ 0  6  5  0]]\n"
     ]
    }
   ],
   "source": [
    "# Створимо першу матрицю 4x4 з випадковими цілими числами від 1 до 10\n",
    "matrix1 = np.random.randint(1, 11, (4, 4))\n",
    "\n",
    "# Створимо другу матрицю 4x4 з випадковими цілими числами від 1 до 10\n",
    "matrix2 = np.random.randint(1, 11, (4, 4))\n",
    "\n",
    "# Виведемо обидві матриці\n",
    "print(\"Перша матриця:\")\n",
    "print(matrix1)\n",
    "print(\"Друга матриця:\")\n",
    "print(matrix2)\n",
    "\n",
    "# Знайдемо різницю матриць\n",
    "result = matrix1 - matrix2\n",
    "\n",
    "# Виведемо результат\n",
    "print(\"Різниця матриць:\")\n",
    "print(result)"
   ]
  },
  {
   "cell_type": "markdown",
   "id": "48bebea9-9d47-4418-97bd-2ff99d946aae",
   "metadata": {
    "jp-MarkdownHeadingCollapsed": true,
    "pycharm": {
     "name": "#%% md\n"
    }
   },
   "source": [
    "## 16. Створіть матрицю розміром $3\\times 3$, заповніть її випадковими дійсними числами в діапазоні від 0 до 1 та знайдіть вектор-стовпчик, що містить суму елементів кожного рядка матриці."
   ]
  },
  {
   "cell_type": "code",
   "execution_count": 19,
   "id": "767fe8dc-93d4-458f-aa4f-b3ab54e60706",
   "metadata": {
    "pycharm": {
     "name": "#%%\n"
    }
   },
   "outputs": [
    {
     "name": "stdout",
     "output_type": "stream",
     "text": [
      "Матриця:\n",
      "[[0.01297979 0.47161382 0.59052176]\n",
      " [0.55785916 0.35450255 0.41946586]\n",
      " [0.67527101 0.41623059 0.6897199 ]]\n",
      "Вектор-стовпчик із сумами рядків:\n",
      "[[1.07511538]\n",
      " [1.33182756]\n",
      " [1.78122151]]\n"
     ]
    }
   ],
   "source": [
    "# Створимо матрицю 3x3 з випадковими дійсними числами в діапазоні від 0 до 1\n",
    "matrix = np.random.rand(3, 3)\n",
    "\n",
    "# Виведемо матрицю\n",
    "print(\"Матриця:\")\n",
    "print(matrix)\n",
    "\n",
    "# Знайдемо суму елементів кожного рядка матриці та створимо вектор-стовпчик\n",
    "sum_of_rows = np.sum(matrix, axis=1, keepdims=True)\n",
    "\n",
    "# Виведемо вектор-стовпчик із сумами\n",
    "print(\"Вектор-стовпчик із сумами рядків:\")\n",
    "print(sum_of_rows)"
   ]
  },
  {
   "cell_type": "markdown",
   "id": "74015571-6244-4ccc-8dcd-32ca93b7a60d",
   "metadata": {
    "jp-MarkdownHeadingCollapsed": true,
    "pycharm": {
     "name": "#%% md\n"
    }
   },
   "source": [
    "## 17. Створіть матрицю розміром $3\\times4$ з довільними цілими числами і створінь матрицю з квадратами цих чисел.\n"
   ]
  },
  {
   "cell_type": "code",
   "execution_count": 20,
   "id": "2ca24421-566c-46ce-b68c-478055f3cff5",
   "metadata": {
    "pycharm": {
     "name": "#%%\n"
    }
   },
   "outputs": [
    {
     "name": "stdout",
     "output_type": "stream",
     "text": [
      "Початкова матриця:\n",
      "[[-7 -9 -5  3]\n",
      " [-2 -8 -6 10]\n",
      " [-1  2 -6  9]]\n",
      "Матриця з квадратами чисел:\n",
      "[[ 49  81  25   9]\n",
      " [  4  64  36 100]\n",
      " [  1   4  36  81]]\n"
     ]
    }
   ],
   "source": [
    "# Створимо матрицю 3x4 з довільними цілими числами (від -10 до 10)\n",
    "matrix = np.random.randint(-10, 11, (3, 4))\n",
    "\n",
    "# Виведемо початкову матрицю\n",
    "print(\"Початкова матриця:\")\n",
    "print(matrix)\n",
    "\n",
    "# Знайдемо матрицю з квадратами чисел\n",
    "squared_matrix = np.square(matrix)\n",
    "\n",
    "# Виведемо матрицю з квадратами чисел\n",
    "print(\"Матриця з квадратами чисел:\")\n",
    "print(squared_matrix)"
   ]
  },
  {
   "cell_type": "markdown",
   "id": "53333a85-6876-4d3e-8399-a9ae7bdfbbed",
   "metadata": {
    "jp-MarkdownHeadingCollapsed": true,
    "pycharm": {
     "name": "#%% md\n"
    }
   },
   "source": [
    "## 18. Створіть вектор розміром 4, заповніть його випадковими цілими числами в діапазоні від 1 до 50 та знайдіть вектор з квадратними коренями цих чисел."
   ]
  },
  {
   "cell_type": "code",
   "execution_count": 21,
   "id": "2b659b79-8210-4313-80be-317212a2cf18",
   "metadata": {
    "pycharm": {
     "name": "#%%\n"
    }
   },
   "outputs": [
    {
     "name": "stdout",
     "output_type": "stream",
     "text": [
      "Початковий вектор: [49 12 50 11]\n",
      "Вектор з квадратними коренями чисел: [7.         3.46410162 7.07106781 3.31662479]\n"
     ]
    }
   ],
   "source": [
    "# Створимо вектор розміром 4 з випадковими цілими числами від 1 до 50\n",
    "vector = np.random.randint(1, 51, 4)\n",
    "\n",
    "# Виведемо початковий вектор\n",
    "print(\"Початковий вектор:\", vector)\n",
    "\n",
    "# Знайдемо вектор з квадратними коренями чисел\n",
    "sqrt_vector = np.sqrt(vector)\n",
    "\n",
    "# Виведемо вектор з квадратними коренями\n",
    "print(\"Вектор з квадратними коренями чисел:\", sqrt_vector)"
   ]
  }
 ],
 "metadata": {
  "kernelspec": {
   "display_name": "Python 3 (ipykernel)",
   "language": "python",
   "name": "python3"
  },
  "language_info": {
   "codemirror_mode": {
    "name": "ipython",
    "version": 3
   },
   "file_extension": ".py",
   "mimetype": "text/x-python",
   "name": "python",
   "nbconvert_exporter": "python",
   "pygments_lexer": "ipython3",
   "version": "3.11.3"
  }
 },
 "nbformat": 4,
 "nbformat_minor": 5
}